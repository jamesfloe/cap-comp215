{
  "nbformat": 4,
  "nbformat_minor": 0,
  "metadata": {
    "colab": {
      "name": "Labs/lab3.ipynb",
      "provenance": [],
      "collapsed_sections": [],
      "include_colab_link": true
    },
    "kernelspec": {
      "name": "python3",
      "language": "python",
      "display_name": "Python 3 (ipykernel)"
    },
    "language_info": {
      "name": "python"
    }
  },
  "cells": [
    {
      "cell_type": "markdown",
      "metadata": {
        "id": "view-in-github",
        "colab_type": "text"
      },
      "source": [
        "<a href=\"https://colab.research.google.com/github/jamesfloe/cap-comp215/blob/main/Labs_lab3.ipynb\" target=\"_parent\"><img src=\"https://colab.research.google.com/assets/colab-badge.svg\" alt=\"Open In Colab\"/></a>"
      ]
    },
    {
      "cell_type": "markdown",
      "source": [
        "COMP 215 - LAB 2\n",
        "----------------\n",
        "#### Name:\n",
        "#### Date:\n",
        "This lab exercise is mostly a review of strings, tuples, lists, dictionaries, and functions.\n",
        "We will also see how \"list comprehension\" provides a compact form for \"list accumulator\" algorithms.\n",
        "\n",
        "As usual, the first code cell simply imports all the modules we'll be using..."
      ],
      "metadata": {
        "id": "nbRPZPKZU5Pk"
      }
    },
    {
      "cell_type": "code",
      "execution_count": 54,
      "outputs": [],
      "source": [
        "import json, requests\n",
        "import matplotlib.pyplot as plt\n",
        "from pprint import pprint"
      ],
      "metadata": {
        "pycharm": {
          "name": "#%%\n"
        },
        "id": "wqjCKgR1IzCs"
      }
    },
    {
      "cell_type": "markdown",
      "source": [
        "We'll answer some questions about movies and TV shows with the IMDb database:  https://www.imdb.com/\n",
        "> using the IMDb API:  https://imdb-api.com/api\n",
        "\n",
        "You can register for your own API key, or simply use the one provided below.\n",
        "\n",
        "Here's an example query:\n",
        " *   search for TV Series with title == \"Lexx\""
      ],
      "metadata": {
        "collapsed": false,
        "pycharm": {
          "name": "#%% md\n"
        },
        "id": "myINzEueIzCu"
      }
    },
    {
      "cell_type": "code",
      "execution_count": 55,
      "metadata": {
        "id": "JDGbYTySU3BP",
        "colab": {
          "base_uri": "https://localhost:8080/"
        },
        "outputId": "feefdd21-83b3-47a2-e5c9-148d0efa2302"
      },
      "outputs": [
        {
          "output_type": "stream",
          "name": "stdout",
          "text": [
            "{'searchType': 'Title', 'expression': 'lexx', 'results': [{'id': 'tt0115243', 'resultType': 'Title', 'image': 'https://imdb-api.com/images/original/MV5BOGFjMzQyMTYtMjQxNy00NjAyLWI2OWMtZGVhMjk4OGM3ZjE5XkEyXkFqcGdeQXVyNzMzMjU5NDY@._V1_Ratio0.7273_AL_.jpg', 'title': 'Lexx', 'description': '(1996) (TV Series)'}, {'id': 'tt1833738', 'resultType': 'Title', 'image': 'https://imdb-api.com/images/original/MV5BMjAyMTYzNjk4NV5BMl5BanBnXkFtZTcwNzE4MTU0NA@@._V1_Ratio0.7273_AL_.jpg', 'title': 'Lexx', 'description': '(2008) (Video)'}, {'id': 'tt10800568', 'resultType': 'Title', 'image': 'https://imdb-api.com/images/original/MV5BZWY5ODYwNzYtMmIyMS00YzhhLTg0OTAtODM1M2I5YzkxMzY1XkEyXkFqcGdeQXVyMTEwNDU1MzEy._V1_Ratio0.7273_AL_.jpg', 'title': 'Lexxy Roxx: Lexy 360 - Der Film', 'description': '(2018)'}, {'id': 'tt4396272', 'resultType': 'Title', 'image': 'https://imdb-api.com/images/original/nopicture.jpg', 'title': 'Lexxxus', 'description': '(2014) (Short)'}, {'id': 'tt12646262', 'resultType': 'Title', 'image': 'https://imdb-api.com/images/original/MV5BODczYTEwNTctYzAzYy00YjIzLThkNGQtMDdjYmU5NjI1MzAxXkEyXkFqcGdeQXVyMTIwNjM2NTQz._V1_Ratio2.3182_AL_.jpg', 'title': 'Lexxe - Red Velvet', 'description': '(2018) (Short)'}, {'id': 'tt14690226', 'resultType': 'Title', 'image': 'https://imdb-api.com/images/original/MV5BN2NmNGYxZTgtYjg3MC00ZDZhLTk1ODUtM2E4NGYwYzQ3YTFiXkEyXkFqcGdeQXVyMTA2NzA1NDYz._V1_Ratio1.7727_AL_.jpg', 'title': 'Mauvais augure feat. Nirek & Ced (Elmaniak) Auger: La Belle Et La Bête', 'description': '(2016) (Video) aka \"Lexxzibé Inonime Nirek & Elmaniak: La Belle Et La Bête (2016)\"'}, {'id': 'tt6964748', 'resultType': 'Title', 'image': 'https://imdb-api.com/images/original/MV5BOTg4ZmQ5ZjItZTllZC00NzUzLTkwMTEtMjIzYzliZjk2ODUwXkEyXkFqcGdeQXVyMTEyMjM2NDc2._V1_Ratio0.7273_AL_.jpg', 'title': 'Alex Rider', 'description': '(2020) (TV Series)'}, {'id': 'tt2268016', 'resultType': 'Title', 'image': 'https://imdb-api.com/images/original/MV5BNDMyODU3ODk3Ml5BMl5BanBnXkFtZTgwNDc1ODkwNjE@._V1_Ratio0.7273_AL_.jpg', 'title': 'Magic Mike XXL', 'description': '(2015)'}, {'id': 'tt0346491', 'resultType': 'Title', 'image': 'https://imdb-api.com/images/original/MV5BMTA1NDQ3OTY2NDVeQTJeQWpwZ15BbWU3MDI5MDc0MzM@._V1_Ratio0.7273_AL_.jpg', 'title': 'Alexander', 'description': '(2004)'}], 'errorMessage': ''}\n"
          ]
        }
      ],
      "source": [
        "API_KEY = 'k_4hstehuv'\n",
        "\n",
        "title = 'lexx'\n",
        "url = \"https://imdb-api.com/en/API/SearchTitle/{key}/{title}\".format(key=API_KEY, title=title)\n",
        "\n",
        "response = requests.request(\"GET\", url, headers={}, data={})\n",
        "\n",
        "data = json.loads(response.text)  # recall json.loads for lab 1\n",
        "\n",
        "results = data['results']\n",
        "print(data)\n"
      ]
    },
    {
      "cell_type": "markdown",
      "source": [
        "Next we extract the item we want from the data set by applying a \"filter\":"
      ],
      "metadata": {
        "collapsed": false,
        "pycharm": {
          "name": "#%% md\n"
        },
        "id": "DEtB2VPWIzCw"
      }
    },
    {
      "cell_type": "code",
      "execution_count": 56,
      "outputs": [
        {
          "output_type": "stream",
          "name": "stdout",
          "text": [
            "{'description': '(1996) (TV Series)',\n",
            " 'id': 'tt0115243',\n",
            " 'image': 'https://imdb-api.com/images/original/MV5BOGFjMzQyMTYtMjQxNy00NjAyLWI2OWMtZGVhMjk4OGM3ZjE5XkEyXkFqcGdeQXVyNzMzMjU5NDY@._V1_Ratio0.7273_AL_.jpg',\n",
            " 'resultType': 'Title',\n",
            " 'title': 'Lexx'}\n"
          ]
        }
      ],
      "source": [
        "items = [item for item in results if item['title']=='Lexx' and \"TV\" in item['description']]\n",
        "assert len(items) == 1\n",
        "lexx = items[0]\n",
        "pprint(lexx)"
      ],
      "metadata": {
        "pycharm": {
          "name": "#%%\n"
        },
        "colab": {
          "base_uri": "https://localhost:8080/"
        },
        "id": "X5I_pUkdIzCw",
        "outputId": "3be35eca-e6d0-4e6f-8472-ec54a6669c3b"
      }
    },
    {
      "cell_type": "markdown",
      "source": [
        "## Exercise 1\n",
        "\n",
        "In the code cell below, re-write the \"list comprehension\" above as a loop so you understand how it works.\n",
        "Notice how the \"conditional list comprehension\" is a compact way to \"filter\" items of interest from a large data set.\n"
      ],
      "metadata": {
        "collapsed": false,
        "pycharm": {
          "name": "#%% md\n"
        },
        "id": "J5M8y5jSIzCw"
      }
    },
    {
      "cell_type": "code",
      "execution_count": 57,
      "outputs": [],
      "source": [
        "# Your code here\n",
        "items = []\n",
        "\n",
        "for item in results:\n",
        "  if item['title']=='Lexx' and 'TV' in item['description']:\n",
        "    items.append(item)\n",
        "\n",
        "lexx = items[0]\n",
        "\n",
        "\n"
      ],
      "metadata": {
        "pycharm": {
          "name": "#%%\n"
        },
        "id": "l8uGkKUCIzCx"
      }
    },
    {
      "cell_type": "markdown",
      "source": [
        "Notice that the `lexx` dictionary contains an `id` field that uniquely identifies this record in the database.\n",
        "\n",
        "We can use the `id` to fetch other information about the TV series, for example,\n",
        "*   get names of all actors in the TV Series Lexx\n"
      ],
      "metadata": {
        "id": "DNRs7ynOYwYk"
      }
    },
    {
      "cell_type": "code",
      "source": [
        "url = \"https://imdb-api.com/en/API/FullCast/{key}/{id}\".format(key=API_KEY, id=lexx['id'])\n",
        "response = requests.request(\"GET\", url, headers={}, data={})\n",
        "data = json.loads(response.text)\n",
        "\n",
        "actors = data['actors']\n",
        "pprint(actors[:10])   # recall the slice operator (it's a long list!)"
      ],
      "metadata": {
        "colab": {
          "base_uri": "https://localhost:8080/"
        },
        "id": "tiyXTDfnZAd0",
        "outputId": "8a0ae59e-6e53-4798-f417-6d42f6f9f771"
      },
      "execution_count": 58,
      "outputs": [
        {
          "output_type": "stream",
          "name": "stdout",
          "text": [
            "[{'asCharacter': 'Stanley H. Tweedle / ... 61 episodes, 1996-2002',\n",
            "  'id': 'nm0235978',\n",
            "  'image': 'https://imdb-api.com/images/original/MV5BMTYxODI3OTM5Ml5BMl5BanBnXkFtZTgwMjM4ODc3MjE@._V1_Ratio1.3182_AL_.jpg',\n",
            "  'name': 'Brian Downey'},\n",
            " {'asCharacter': 'Kai / ... 61 episodes, 1996-2002',\n",
            "  'id': 'nm0573158',\n",
            "  'image': 'https://imdb-api.com/images/original/MV5BMTY3MjQ4NzE0NV5BMl5BanBnXkFtZTgwNDE4ODc3MjE@._V1_Ratio1.3182_AL_.jpg',\n",
            "  'name': 'Michael McManus'},\n",
            " {'asCharacter': '790 / ... 57 episodes, 1996-2002',\n",
            "  'id': 'nm0386601',\n",
            "  'image': 'https://imdb-api.com/images/original/MV5BMjMyMDM1NzgzNF5BMl5BanBnXkFtZTgwOTM4ODc3MjE@._V1_Ratio1.3182_AL_.jpg',\n",
            "  'name': 'Jeffrey Hirschfield'},\n",
            " {'asCharacter': 'Xev Bellringer / ... 55 episodes, 1998-2002',\n",
            "  'id': 'nm0781462',\n",
            "  'image': 'https://imdb-api.com/images/original/MV5BMTk2MDQ4NzExOF5BMl5BanBnXkFtZTcwOTMyNzcyMQ@@._V1_Ratio0.7273_AL_.jpg',\n",
            "  'name': 'Xenia Seeberg'},\n",
            " {'asCharacter': 'The Lexx 46 episodes, 1996-2002',\n",
            "  'id': 'nm0302577',\n",
            "  'image': 'https://imdb-api.com/images/original/nopicture.jpg',\n",
            "  'name': 'Tom Gallant'},\n",
            " {'asCharacter': 'Prince / ... 23 episodes, 2000-2002',\n",
            "  'id': 'nm0000911',\n",
            "  'image': 'https://imdb-api.com/images/original/MV5BMTgxMTY2NzM5NF5BMl5BanBnXkFtZTcwMDA5MDYxOA@@._V1_Ratio0.7727_AL_.jpg',\n",
            "  'name': 'Nigel Bennett'},\n",
            " {'asCharacter': 'Bunny Priest / ... 16 episodes, 1999-2002',\n",
            "  'id': 'nm0954934',\n",
            "  'image': 'https://imdb-api.com/images/original/MV5BMTg2Mjk2Nzk5NV5BMl5BanBnXkFtZTcwNzYyODQzMQ@@._V1_Ratio0.7727_AL_.jpg',\n",
            "  'name': 'Patricia Zentilli'},\n",
            " {'asCharacter': 'Bound Man / ... 8 episodes, 1996-2002',\n",
            "  'id': 'nm0317596',\n",
            "  'image': 'https://imdb-api.com/images/original/MV5BNjNiNzAwMjQtYTU1NC00NDkzLWI4OTktYjA0NWRiZjEzZmFkXkEyXkFqcGdeQXVyMTAwMzUyMzUy._V1_Ratio0.7273_AL_.jpg',\n",
            "  'name': 'Lex Gigeroff'},\n",
            " {'asCharacter': 'Reginald J. Priest / ... 13 episodes, 2000-2002',\n",
            "  'id': 'nm0437708',\n",
            "  'image': 'https://imdb-api.com/images/original/MV5BMWFmNDI5YWEtMjRkYi00MTRhLTk5YjMtYTEwNTgyMWQ2ODk4XkEyXkFqcGdeQXVyNDM4NDA1Mg@@._V1_Ratio0.7273_AL_.jpg',\n",
            "  'name': 'Rolf Kanies'},\n",
            " {'asCharacter': 'Lyekka / ... 10 episodes, 1998-2002',\n",
            "  'id': 'nm0936263',\n",
            "  'image': 'https://imdb-api.com/images/original/nopicture.jpg',\n",
            "  'name': 'Louise Wischermann'}]\n"
          ]
        }
      ]
    },
    {
      "cell_type": "markdown",
      "source": [
        "Notice that the `asCharacter` field contains a number of different pieces of data as a single string, including the character name.\n",
        "This kind of \"free-form\" text data is notoriously challenging to parse...\n",
        "\n",
        "## Exercise 2\n",
        "\n",
        "In the code cell below, write a python function that takes a string input (the text from `asCharacter` field)\n",
        "and returns the number of episodes, if available, or None.\n",
        "\n",
        "Hints:\n",
        "* notice this is a numeric value followed by the word \"episodes\"\n",
        "* recall str.split() and str.isdigit() and other string build-ins.\n",
        "\n",
        "Add unit tests to cover as many cases from the `actors` data set above as you can.\n"
      ],
      "metadata": {
        "id": "iOZspDBVbBns"
      }
    },
    {
      "cell_type": "code",
      "execution_count": 59,
      "outputs": [],
      "source": [
        "# your code here\n",
        "\n",
        "def returnNumberOfEpisodes(asCharacter):\n",
        "  episode = 0\n",
        "  UnfltrWrds = asCharacter.split(' ')\n",
        "  for item in UnfltrWrds:\n",
        "    if (item.isdigit()):\n",
        "      episode = int(item)\n",
        "\n",
        "  return episode\n",
        "\n"
      ],
      "metadata": {
        "pycharm": {
          "name": "#%%\n"
        },
        "id": "_O-jDk7gIzCy"
      }
    },
    {
      "cell_type": "markdown",
      "source": [
        "## Exercise 3\n",
        "\n",
        "In the code cell below, write a python function that takes a string input (the text from `asCharacter` field)\n",
        "and returns just the character name.  This one may be even a little harder!\n",
        "\n",
        "Hints:\n",
        "* notice the character name is usually followed by a forward slash, `/`\n",
        "* don't worry if your algorithm does not perfectly parse every character's name --\n",
        "it may not really be possible to correclty handle all cases because the field format does not follow consistent rules\n",
        "\n",
        "Add unit tests to cover as many cases from the `actors` data set above as you can.\n"
      ],
      "metadata": {
        "collapsed": false,
        "pycharm": {
          "name": "#%% md\n"
        },
        "id": "WlFsNvgFIzCy"
      }
    },
    {
      "cell_type": "code",
      "execution_count": 60,
      "outputs": [],
      "source": [
        "\n",
        "def returnCharacterName(asCharacter):\n",
        "  name = ''\n",
        "  unFltrdWrd = asCharacter.split(' ')\n",
        "  for item in unFltrdWrd:\n",
        "    if(item == '/'):\n",
        "      break\n",
        "    else:\n",
        "      name = name + ' ' + item\n",
        "  return name\n",
        "\n",
        " "
      ],
      "metadata": {
        "pycharm": {
          "name": "#%%\n"
        },
        "id": "o63UfyJTIzCz"
      }
    },
    {
      "cell_type": "markdown",
      "source": [
        "\n",
        "## Exercise 4\n",
        "\n",
        "Using the functions you developed above, define 2 list comprehensions that:\n",
        "* create list of 2 tuples with (actor name, character description) for actors in Lexx  (from `asCharacter` field)\n",
        "* create a list of dictionaries, with keys:  'actor' and 'character' for the same data\n",
        "\n",
        "Hint: this is a very simple problem - the goal is to learn how to build these lists using a comprehension.\n",
        "\n",
        "Pretty print (pprint) your lists to visually verify the results."
      ],
      "metadata": {
        "id": "f_iRYAa3lqV0"
      }
    },
    {
      "cell_type": "code",
      "source": [
        "dictAct = {}\n",
        "dictAct.update()\n",
        "tuples = []\n",
        "dictList = {}\n",
        "List = []\n",
        "\n",
        "for i in actors:\n",
        "  dictAct.update(i)\n",
        "  tuples.append((dictAct['name'], dictAct['asCharacter']))\n",
        "  dictList = { 'actor':dictAct['name'], 'character':dictAct['asCharacter'] }\n",
        "  List.append(dictList)\n",
        "\n",
        "\n",
        "\n",
        "\n",
        "\n",
        "\n"
      ],
      "metadata": {
        "id": "Ds1YevErlzCe",
        "pycharm": {
          "name": "#%%\n"
        }
      },
      "execution_count": 61,
      "outputs": []
    },
    {
      "cell_type": "code",
      "source": [
        "#lab 3 excercise 1\n",
        "\n",
        "class SeriesActor:\n",
        "\n",
        "  def __init__(self, initName, initCharacter, initEpisodes):\n",
        "    'Initialize a new series actor object.'\n",
        "    self.name = initName\n",
        "    self.character = initCharacter\n",
        "    self.episodes = initEpisodes\n",
        "\n",
        "  def __str__(self):\n",
        "    return 'name is ' + str(self.name) + '\\ncharacter is ' + str(self.character) + '\\nnumber of episodes are ' + str(self.episodes)\n",
        "\n",
        "a = SeriesActor('bob', 'joe', 40)\n",
        "\n",
        "print(a)"
      ],
      "metadata": {
        "id": "MFa5TsuCa2yj",
        "colab": {
          "base_uri": "https://localhost:8080/"
        },
        "outputId": "b52a133f-86e5-4b07-8388-f7d8b05c3aff"
      },
      "execution_count": 62,
      "outputs": [
        {
          "output_type": "stream",
          "name": "stdout",
          "text": [
            "name is bob\n",
            "character is joe\n",
            "number of episodes are 40\n"
          ]
        }
      ]
    },
    {
      "cell_type": "code",
      "source": [
        "#lab 3 excercise 2\n",
        "\n",
        "class seriesActorObjects:\n",
        "\n",
        "  def __init__(self, tupple):\n",
        "    self.actor = tupple[0]\n",
        "    self.character = tupple[1]\n",
        "\n",
        "  def __str__(self):\n",
        "    return  'Actors name: ' + str(self.actor) + \"\\ncharacters name: \" + str(self.character) + \"\\n\"\n",
        "\n",
        "a = [seriesActorObjects(x) for x in tuples]\n",
        "\n",
        "#for i in a:\n",
        "  #print(i)\n",
        "\n",
        "# Creating an object has the advantage of being much more organized and legible\n",
        "# When one creates an object, one can set several attributes for the object\n",
        "# and create algorithms to assign values to those attributes.\n",
        "# One can later easily access those organized and labeled attributes using dot notation.\n",
        "# Tuples and dictionaries are much less organized. \n",
        "# The data within tuples cannot be labeled or organized under a larger, 'object or class.'\n",
        "# Dictionaries do allow some labeling of data such as 'keys.' \n",
        "# However, dictionaries cannot be organized under specific 'classes.'\n",
        "# Both objects and dictionaries also cannot have their own defined functions, which objects can.\n",
        "\n"
      ],
      "metadata": {
        "id": "PsC6Qg8nncLz"
      },
      "execution_count": 63,
      "outputs": []
    },
    {
      "cell_type": "code",
      "source": [
        "#lab 3 excercise 3\n",
        "\n",
        "\n",
        "class TvSeries:\n",
        "\n",
        "  \n",
        "  def getTitle(jsonText):\n",
        "    fullTitle = jsonText['fullTitle']\n",
        "    name = ''\n",
        "    unFltrdWrd = fullTitle.split(' ')\n",
        "    for item in unFltrdWrd:\n",
        "      if('(' in item):\n",
        "        break\n",
        "      else:\n",
        "        name = name + ' ' + item\n",
        "    return name\n",
        "    \n",
        "\n",
        "  def __init__(self, TvID):\n",
        "    global data\n",
        "    url = \"https://imdb-api.com/en/API/Title/{key}/{title}\".format(key=API_KEY, title=TvID)\n",
        "    response = requests.request(\"GET\", url, headers={}, data={})\n",
        "    data = json.loads(response.text)\n",
        "\n",
        "    self.Title = TvSeries.getTitle(data)\n",
        "    self.id = data['id']\n",
        "    self.date = data['year']\n",
        "\n",
        "    \n",
        "\n",
        "  def __str__(self):\n",
        "    return 'Title: ' + str(self.Title) + '\\nid: ' + str(self.id) + '\\ndate: ' + str(self.date)\n",
        "  \n",
        "\n",
        "  def getRating(cls):\n",
        "    #url = \"https://imdb-api.com/en/API/Title/{key}/{title}\".format(key=API_KEY, title=TvID)\n",
        "    #response = requests.request(\"GET\", url, headers={}, data={})\n",
        "    #data = json.loads(response.text)\n",
        "\n",
        "    return data['imDbRating']\n",
        "\n",
        "\n",
        "  def createCharacterObjects(cls):\n",
        "    objectlist = []\n",
        "    dictAct = {}\n",
        "    dictList = {}\n",
        "    List = []\n",
        "\n",
        "    for i in data['actorList']:\n",
        "      dictAct.update(i)\n",
        "      dictList = {'actor':dictAct['name'], 'character':dictAct['asCharacter'] }\n",
        "      List.append(dictList)\n",
        "  \n",
        "\n",
        "    for j in List:\n",
        "      objectlist.append(j['character']) \n",
        "\n",
        "    return objectlist\n",
        "\n",
        "\n",
        "\n",
        "class Actor:\n",
        "\n",
        "\n",
        "  def __init__(self, ActorID):\n",
        "\n",
        "    url = \"https://imdb-api.com/en/API/Name/{key}/{name}\".format(key=API_KEY, name=ActorID)\n",
        "    response = requests.request(\"GET\", url, headers={}, data={})\n",
        "    data = json.loads(response.text)\n",
        "\n",
        "    self.name =  data['name']\n",
        "    self.id = data['id']\n",
        "    self.BirthDate = data['birthDate']\n",
        "\n",
        "\n",
        "  def __str__(self):\n",
        "    return 'Name: ' + str(self.name) + '\\nid: ' + str(self.id) + '\\nBirthday: ' + str(self.BirthDate)\n",
        "\n",
        "\n",
        "\n",
        "class Character:\n",
        "\n",
        "\n",
        "  def __init__(self, TvSeries, Actor):\n",
        "    self.character = ''\n",
        "    self.numberOfEpisodes = ''\n",
        "    url = \"https://imdb-api.com/en/API/FullCast/{key}/{FullCast}\".format(key=API_KEY, FullCast=TvSeries.id)\n",
        "    response = requests.request(\"GET\", url, headers={}, data={})\n",
        "    data = json.loads(response.text)\n",
        "\n",
        "    dictAct = {}\n",
        "    dictList = {}\n",
        "    List = []\n",
        "\n",
        "    for i in data['actors']:\n",
        "      dictAct.update(i)\n",
        "      dictList = {'actor':dictAct['name'], 'character':dictAct['asCharacter'] }\n",
        "      List.append(dictList)\n",
        "\n",
        "\n",
        "    for j in List:\n",
        "      if (Actor.name in j['actor']):\n",
        "        self.character = returnCharacterName(j['character'])\n",
        "        self.numberOfEpisodes = returnNumberOfEpisodes(j['character'])\n",
        "\n",
        "\n",
        "  def __str__(self):\n",
        "    return 'Character: ' + str(self.character) + '\\nNumber of Episodes which they appear in: ' + str(self.numberOfEpisodes)\n",
        "\n",
        "    \n",
        "\n",
        "\n",
        "a = TvSeries('tt0115243')\n",
        "print(a)\n",
        "b = Actor('nm0235978')\n",
        "print(b)\n",
        "c = Character(TvSeries('tt0115243'), Actor('nm0235978'))\n",
        "print(c)\n",
        "TvSeries('tt0115243').getRating\n",
        "d = TvSeries('tt0115243').createCharacterObjects()\n",
        "for i in d:\n",
        "  pprint(i)\n",
        "\n",
        "\n",
        "\n",
        "\n",
        "\n",
        "\n",
        "\n",
        "\n"
      ],
      "metadata": {
        "colab": {
          "base_uri": "https://localhost:8080/"
        },
        "id": "lkIwR-j0fesC",
        "outputId": "b1e92098-2e4d-4460-8703-af218e6a352a"
      },
      "execution_count": 64,
      "outputs": [
        {
          "output_type": "stream",
          "name": "stdout",
          "text": [
            "Title:  Lexx\n",
            "id: tt0115243\n",
            "date: 1996\n",
            "Name: Brian Downey\n",
            "id: nm0235978\n",
            "Birthday: 1944-10-31\n",
            "Character:  Stanley H. Tweedle\n",
            "Number of Episodes which they appear in: 61\n",
            "'Stanley H. Tweedleas Stanley H. Tweedle…'\n",
            "'Kaias Kai…'\n",
            "'790as 790…'\n",
            "'Xev Bellringeras Xev Bellringer…'\n",
            "'The Lexxas The Lexx'\n",
            "'Princeas Prince…'\n",
            "'Bunny Priestas Bunny Priest…'\n",
            "'Bound Manas Bound Man…'\n",
            "'Reginald J. Priestas Reginald J. Priest…'\n",
            "'Lyekkaas Lyekka…'\n",
            "'Divine Predecessoras Divine Predecessor…'\n",
            "'His Divine Shadowas His Divine Shadow…'\n",
            "'Mothbreederas Mothbreeder…'\n",
            "'Vladas Vlad…'\n",
            "'Megashadow Adjutantas Megashadow Adjutant…'\n",
            "'Zev Bellringeras Zev Bellringer'\n",
            "'Giggerotaas Giggerota…'\n",
            "'The Time Prophetas The Time Prophet…'\n"
          ]
        }
      ]
    },
    {
      "cell_type": "code",
      "source": [
        ""
      ],
      "metadata": {
        "id": "aKzcc6CuOlFY"
      },
      "execution_count": 64,
      "outputs": []
    }
  ]
}