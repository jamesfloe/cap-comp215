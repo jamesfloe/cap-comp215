{
  "cells": [
    {
      "cell_type": "markdown",
      "metadata": {
        "id": "view-in-github",
        "colab_type": "text"
      },
      "source": [
        "<a href=\"https://colab.research.google.com/github/jamesfloe/cap-comp215/blob/main/FinalProject.ipynb\" target=\"_parent\"><img src=\"https://colab.research.google.com/assets/colab-badge.svg\" alt=\"Open In Colab\"/></a>"
      ]
    },
    {
      "cell_type": "markdown",
      "metadata": {
        "id": "IypkCMwZPETD"
      },
      "source": [
        "Traffic Jams and Collisions: *a study into distracted driving.*\n",
        "\n",
        "Code examples from [Think Complexity, 2nd edition](https://thinkcomplex.com),  https://towardsdatascience.com/simulating-traffic-flow-in-python-ee1eab4dd20f.\n",
        "\n",
        "Copyright 2016 Allen Downey, [MIT License](http://opensource.org/licenses/MIT)"
      ]
    },
    {
      "cell_type": "code",
      "execution_count": null,
      "metadata": {
        "id": "6Viq9Ke6PETE"
      },
      "outputs": [],
      "source": [
        "import os\n",
        "if not os.path.exists('utils.py'):\n",
        "    !wget https://raw.githubusercontent.com/AllenDowney/ThinkComplexity2/master/notebooks/utils.py\n",
        "if not os.path.exists('Cell2D.py'):\n",
        "  !wget  https://raw.githubusercontent.com/pearcej/complex-colab/master/notebooks/Cell2D.py\n",
        "\n",
        "import matplotlib.pyplot as plt\n",
        "import numpy as np\n",
        "import seaborn as sns\n",
        "\n",
        "from utils import decorate"
      ]
    },
    {
      "cell_type": "markdown",
      "metadata": {
        "id": "yoO50vzcPETF"
      },
      "source": [
        "Here's the `Driver` class from Chapter 12.2.\n",
        "- The attributes loc and speed are the location and speed of the driver.\n",
        "- The start attribute is simply to set the odometer of the driver.\n"
      ]
    },
    {
      "cell_type": "code",
      "execution_count": null,
      "metadata": {
        "id": "SxvPX9NDPETG"
      },
      "outputs": [],
      "source": [
        "class Driver:\n",
        "    \n",
        "    def __init__(self, x, v=4):\n",
        "        \"\"\"Initialize the attributes.\n",
        "        \n",
        "        loc: position on track, in miles\n",
        "        speed: speed in miles per hour\n",
        "        \"\"\"\n",
        "        self.start = x\n",
        "        self.x = x\n",
        "        self.v = v\n",
        "\n",
        "    def choose_acceleration(self, dist):\n",
        "        \"\"\"Chooses acceleration based on distance.\n",
        "        \n",
        "        dist: distance from the car in front\n",
        "        \n",
        "        returns: acceleration\n",
        "        \"\"\"\n",
        "        return 1\n",
        "        \n",
        "    def set_odometer(self):\n",
        "        self.start = self.x\n",
        "        \n",
        "    def read_odometer(self):\n",
        "        return self.x - self.start"
      ]
    },
    {
      "cell_type": "markdown",
      "metadata": {
        "id": "BsITh1xAPETG"
      },
      "source": [
        "Here's the `Highway` class from Chapter 12.2.\n",
        "- n is the number of cars. \n",
        "- length is the length of the highway.\n",
        "- eps is the amount of random noise added to the system.\n",
        "\n",
        "Creating list of driver objects:\n",
        "- locs contains the locations of the drivers; the NumPy function linspace creates an array of n locations equally spaced between 0 and length. More here: https://numpy.org/doc/stable/reference/generated/numpy.linspace.html\n",
        "- The line: self.drivers = [Driver(loc) for loc in locs] creates a list of Driver objects for every location in locs.\n",
        "-The following for loop makes it so each driver contains a reference for the next driver.\n",
        "\n",
        "The step method applies the move method for each driver in the list of driver objects.\n",
        "\n",
        "The move method sets the acceleration (acc) of the driver, and adds it to the preset speed of the driver. It then updates the drivers speed and location.\n",
        "- Random *noise* is applied to the speed. This is done by multiplying speed by np.random.uniform, which draws random float samples in a given interval. More on this here: https://numpy.org/doc/stable/reference/random/generated/numpy.random.uniform.html.\n",
        "\n",
        "The get coordinates method then transforms the drivers locations to coordinates on a unit circle.\n",
        "\n",
        "The draw method uses matplot to draw the unit circle.\n"
      ]
    },
    {
      "cell_type": "code",
      "execution_count": null,
      "metadata": {
        "id": "9Q882W5wPETH"
      },
      "outputs": [],
      "source": [
        "from Cell2D import Cell2D\n",
        "\n",
        "class Highway(Cell2D):\n",
        "    \n",
        "    max_acc = 1\n",
        "    min_acc = -10\n",
        "    speed_limit = 40\n",
        "    \n",
        "    def __init__(self, n=10, length=1000, eps=0, constructor=Driver):\n",
        "        \"\"\"Initializes the attributes.\n",
        "        \n",
        "        n: number of drivers\n",
        "        length: length of the track\n",
        "        eps: variability in speed\n",
        "        constructor: function used to instantiate drivers\n",
        "        \"\"\"\n",
        "        self.length = length\n",
        "        self.eps = eps\n",
        "        self.crashes = 0\n",
        "\n",
        "        # create the drivers\n",
        "        xs = np.linspace(0, length, n, endpoint=False)\n",
        "        self.drivers = [constructor(x) for x in xs]\n",
        "        \n",
        "        # and link them up\n",
        "        for i in range(n):\n",
        "            j = (i+1) % n\n",
        "            self.drivers[i].next = self.drivers[j]\n",
        "            \n",
        "    def step(self):\n",
        "        \"\"\"Performs one time step.\"\"\"\n",
        "        for driver in self.drivers:\n",
        "            self.move(driver)\n",
        "            \n",
        "    def move(self, driver):\n",
        "        \"\"\"Updates `driver`.\n",
        "        \n",
        "        driver: Driver object\n",
        "        \"\"\"\n",
        "        # get the distance to the next driver\n",
        "        dist = self.distance(driver)\n",
        "\n",
        "        # Let driver choose\n",
        "        acc = driver.choose_acceleration(dist)\n",
        "        acc = min(acc, self.max_acc)\n",
        "        acc = max(acc, self.min_acc)\n",
        "        v = driver.v + acc # acc is simply added to preset driver speed\n",
        "            \n",
        "        # add random noise to speed\n",
        "        v *= np.random.uniform(1-self.eps, 1+self.eps)\n",
        "        \n",
        "        # keep it nonnegative and under the speed limit\n",
        "        v = max(v, 0)\n",
        "        v = min(v, self.speed_limit)\n",
        "        \n",
        "        # if current speed would collide with next driver, stop\n",
        "        if v > dist:\n",
        "            v = 0\n",
        "            self.crashes += 1\n",
        "            \n",
        "        # update speed and loc\n",
        "        driver.v = v\n",
        "        driver.x += v\n",
        "            \n",
        "    def distance(self, driver):\n",
        "        \"\"\"Distance from `driver` to next driver.\n",
        "        \n",
        "        driver: Driver object\n",
        "        \"\"\"\n",
        "        dist = driver.next.x - driver.x\n",
        "        # fix wraparound\n",
        "        if dist < 0:\n",
        "            dist += self.length\n",
        "        return dist\n",
        "    \n",
        "    def set_odometers(self):\n",
        "        return [driver.set_odometer()\n",
        "                for driver in self.drivers] \n",
        "    \n",
        "    def read_odometers(self):\n",
        "        return np.mean([driver.read_odometer()\n",
        "                        for driver in self.drivers])\n",
        "    \n",
        "    def draw(self):\n",
        "        \"\"\"Draws the drivers and shows collisions.\n",
        "        \"\"\"\n",
        "        drivers = self.drivers\n",
        "        xs, ys = self.get_coords(drivers)\n",
        "        plt.plot(xs, ys, 'bs', markersize=10, alpha=0.7)\n",
        "        \n",
        "        stopped = [driver for driver in self.drivers \n",
        "                  if driver.v==0]\n",
        "        xs, ys = self.get_coords(stopped, r=0.8)\n",
        "        plt.plot(xs, ys, 'r^', markersize=12, alpha=0.7)\n",
        "        \n",
        "        plt.axis('off')\n",
        "        plt.axis('equal')\n",
        "        plt.xlim([-1.05, 1.05])\n",
        "        plt.ylim([-1.05, 1.05])\n",
        "\n",
        "    def get_coords(self, drivers, r=1):\n",
        "        \"\"\"Gets the coordinates of the drivers.\n",
        "        \n",
        "        Transforms from (row, col) to (x, y).\n",
        "        \n",
        "        drivers: sequence of Driver\n",
        "        r: radius of the circle\n",
        "        \n",
        "        returns: tuple of sequences, (xs, ys)\n",
        "        \"\"\"\n",
        "        xvals = np.array([driver.x for driver in drivers]) # Creates a numpy array of every drivers location.\n",
        "        xvals *= 2 * np.pi / self.length # Multiplies each location by the perimeter of the circle.\n",
        "        xs = r * np.cos(xvals) # Takes the cosine of each location, effectively having an x coordinate in a unit circle.\n",
        "        ys = r * np.sin(xvals) # does the same but with sine and they y coordinate\n",
        "        return xs, ys"
      ]
    },
    {
      "cell_type": "markdown",
      "metadata": {
        "id": "onfnJtJmPETI"
      },
      "source": [
        "Make the animation:"
      ]
    },
    {
      "cell_type": "code",
      "execution_count": null,
      "metadata": {
        "id": "MQF6rFxdPETJ"
      },
      "outputs": [],
      "source": [
        "highway = Highway(30, eps=0.02)\n",
        "highway.animate(frames=40, interval=0.2)"
      ]
    },
    {
      "cell_type": "markdown",
      "metadata": {
        "id": "c1RwM4dePETJ"
      },
      "source": [
        "And generate the figure:"
      ]
    },
    {
      "cell_type": "code",
      "execution_count": null,
      "metadata": {
        "id": "fSZpDVBNPETK"
      },
      "outputs": [],
      "source": [
        "from utils import three_frame\n",
        "\n",
        "highway = Highway(30, eps=0.02)\n",
        "three_frame(highway, [16, 1, 1], seed=22)\n",
        "plt.show('figs/chap10-1')"
      ]
    },
    {
      "cell_type": "markdown",
      "source": [
        "Explore relationship between *eps* and average speed."
      ],
      "metadata": {
        "id": "pp1-ZVrHxgPp"
      }
    },
    {
      "cell_type": "code",
      "execution_count": null,
      "metadata": {
        "id": "OC8CZvynPETL"
      },
      "outputs": [],
      "source": [
        "def run_simulation(eps, constructor=Driver, iters=100):\n",
        "    res = []\n",
        "    for n in range(5, 100, 5):\n",
        "        highway = Highway(n, eps=eps, constructor=constructor)\n",
        "        for i in range(iters):\n",
        "            highway.step()\n",
        "\n",
        "        highway.set_odometers()\n",
        "        for i in range(iters):\n",
        "            highway.step()\n",
        "\n",
        "        res.append((n, highway.read_odometers() / iters))\n",
        "    \n",
        "    return np.transpose(res)"
      ]
    },
    {
      "cell_type": "code",
      "execution_count": null,
      "metadata": {
        "id": "GyejmrvwPETL"
      },
      "outputs": [],
      "source": [
        "\n",
        "\n",
        "np.random.seed(20)\n",
        "from utils import set_palette\n",
        "set_palette('Blues', 4, reverse=True)\n",
        "\n",
        "for eps in [0.0, 0.001, 0.01]:\n",
        "    xs, ys = run_simulation(eps)\n",
        "    plt.plot(xs, ys, label='eps=%g' % eps)\n",
        "    \n",
        "decorate(xlabel='Number of cars',\n",
        "                 ylabel='Average speed',\n",
        "                 xlim=[0, 100], ylim=[0, 42])\n",
        "\n",
        "plt.show('figs/chap10-2')\n",
        "\n"
      ]
    },
    {
      "cell_type": "markdown",
      "metadata": {
        "id": "s-6sp6zVCAfr"
      },
      "source": [
        "Improved Model:\n",
        "- The given model does not allow cars to decelerate according to the speed, or distance, of the car infront of them\n",
        "- In real life, drivers are able to easily adjust their speed and acceleration by observing the behaviour of the car infront of them, thus preventing the collision.\n",
        "\n",
        "The improved model will overwrite both classes.\n",
        "- Drivers will be able to decelerate.\n",
        "- A probability (distractedp) will be added to the Driver class. This will be the probability a driver is distracted or not.\n",
        "\n",
        "Improved Driver class:\n",
        "- An acceleration parameter will be added to the driver,\n",
        "- a distracted parameter, indicating wether the driver is distracted or not, will also be added.\n",
        "- The choose_acceleration method will be overwritten with an equation derived by Treiber, Hennecke et Helbing in 2000. A paper on it can be found here: https://journals.aps.org/pre/abstract/10.1103/PhysRevE.62.1805. The simplified equation to be added to python can be found here. https://towardsdatascience.com/simulating-traffic-flow-in-python-ee1eab4dd20f\n"
      ]
    },
    {
      "cell_type": "code",
      "source": [
        "class improvedDriver():\n",
        "\n",
        "    def __init__(self, x, distractedp, a=0, v=40):\n",
        "        \"\"\"Initialize the attributes.\n",
        "        \n",
        "        x: position on track, in miles\n",
        "        v: speed in miles per hour\n",
        "        a: acceleration in mp/h*2\n",
        "        distractedp: Wether a driver is distracted or not,\n",
        "        0 indicates not distracted, 1 indicates distracted\n",
        "        \"\"\"\n",
        "        self.start = x\n",
        "        self.x = x\n",
        "        self.a = a\n",
        "        self.v = v\n",
        "        self.distracted = distractedp\n",
        "\n",
        "    def choose_acceleration(self, delta_x, delta_v, a_max, a_min, speed_limit, lead):\n",
        "      \"\"\"Chooses acceleration based on delta_x, delta_v, a_max, a_min, speed_limit, and lead.\n",
        "        \n",
        "      delta_x: distance from the car in front\n",
        "      delta_v: difference of velocity of the next and current driver\n",
        "      a_max: overall maximum acceleration (preferably a comfortable one)\n",
        "      a_min: overall minium acceleration (preferably a comfortable one)\n",
        "      speed_limit: maximum velocity for each car\n",
        "      lead: desired distance from the car infront\n",
        "        \n",
        "      returns: acceleration\n",
        "      \"\"\"\n",
        "      alpha = 0 \n",
        "      sqrt_ab = 2*np.sqrt(a_max*a_min) \n",
        "      alpha = (lead + max(0, self.v + delta_v*self.v/sqrt_ab)) / delta_x # Equation which Go\n",
        "\n",
        "      if self.distracted == 1:\n",
        "        acc = float(np.random.choice([ 0, a_max * (1-(self.v/speed_limit)**4 - alpha**2) ]))\n",
        "      else:\n",
        "        acc = a_max * (1-(self.v/speed_limit)**4 - alpha**2)\n",
        "      return acc\n",
        "\n",
        "    def set_odometer(self):\n",
        "        self.start = self.x\n",
        "        \n",
        "    def read_odometer(self):\n",
        "        return self.x - self.start"
      ],
      "metadata": {
        "id": "7Q1yLULiZzrj"
      },
      "execution_count": 241,
      "outputs": []
    },
    {
      "cell_type": "code",
      "execution_count": 345,
      "metadata": {
        "id": "8MtJ3D55DG_G"
      },
      "outputs": [],
      "source": [
        "\n",
        "class improvedHighway(Highway):\n",
        "    \n",
        "    def __init__(self, n=10, a_max=1.5, a_min=5, speed_limit=40, length=1000, eps=0, distractedp=0.0, constructor=improvedDriver):\n",
        "        \"\"\"Initializes the attributes.\n",
        "        \n",
        "        n: number of drivers\n",
        "        length: length of the track\n",
        "        eps: variability in speed\n",
        "        distratedp: probability of a driver being 'distracted'\n",
        "        constructor: function used to instantiate drivers\n",
        "        \"\"\"\n",
        "        self.speed_limit = speed_limit\n",
        "        self.a_max = a_max\n",
        "        self.a_min = a_min\n",
        "        self.length = length\n",
        "        self.eps = eps\n",
        "        self.crashes = 0\n",
        "\n",
        "        # create the drivers\n",
        "        xvalues = np.linspace(0, length, n, endpoint=False)\n",
        "        distractedDrivers = [int(np.random.choice(2,1,p=[1-distractedp,distractedp])) for i in range(n)] # Choose which drivers are distracted\n",
        "        both = zip(xvalues, distractedDrivers)\n",
        "        self.drivers = [constructor(xvalue, distracted) for xvalue, distracted in both]\n",
        "\n",
        "        # and link them up\n",
        "        for i in range(n):\n",
        "            j = (i+1) % n\n",
        "            self.drivers[i].next = self.drivers[j]\n",
        "\n",
        "    def move(self, driver):\n",
        "        \"\"\"Updates `driver`.\n",
        "        \n",
        "        driver: Driver object\n",
        "        \"\"\"\n",
        "\n",
        "        # Leading distance of next car and set the square root equation\n",
        "        lead = 4\n",
        "\n",
        "        # get the distance to the next driver\n",
        "        delta_x = self.distance(driver) - lead\n",
        "\n",
        "        # get the speed of the next driver\n",
        "        delta_v = driver.next.v\n",
        "\n",
        "        # Let driver choose acceleration\n",
        "        acc = driver.choose_acceleration(delta_x, delta_v, self.a_max, self.a_min, self.speed_limit, lead)\n",
        "        acc = min(acc, self.max_acc)\n",
        "        acc = max(acc, self.min_acc)\n",
        "        v = driver.v + acc\n",
        "            \n",
        "        # add random noise to speed\n",
        "        v *= np.random.uniform(1-self.eps, 1+self.eps)\n",
        "        \n",
        "        # if current speed would collide with next driver, stop\n",
        "        if v > delta_x:\n",
        "            self.crashes += 1\n",
        "            v = 0\n",
        "            \n",
        "        # update speed and loc and acceleration\n",
        "        driver.a = acc\n",
        "\n",
        "        # If the drivers speed is\n",
        "        if driver.v + driver.a< 0:\n",
        "          driver.x -= 1/2*driver.v*driver.v/driver.a\n",
        "          driver.v = 0\n",
        "          self.crashes += 1\n",
        "\n",
        "        else:\n",
        "          driver.v = v\n",
        "          driver.x += v + driver.a/2\n",
        "               \n",
        "\n",
        "        \n",
        "\n"
      ]
    },
    {
      "cell_type": "markdown",
      "metadata": {
        "id": "GIc4UchAGe6O"
      },
      "source": [
        "Now lets test are improved model:"
      ]
    },
    {
      "cell_type": "code",
      "source": [
        "testHighway = improvedHighway(n=30,eps=0.00,distractedp=0.5)\n",
        "testHighway.animate(frames=100,interval=0.033)"
      ],
      "metadata": {
        "id": "ErGlkcn4Uthp",
        "colab": {
          "base_uri": "https://localhost:8080/",
          "height": 248
        },
        "outputId": "f23114fd-a3f6-4263-a345-30a92c2f33e8"
      },
      "execution_count": 339,
      "outputs": [
        {
          "output_type": "display_data",
          "data": {
            "text/plain": [
              "<Figure size 432x288 with 1 Axes>"
            ],
            "image/png": "[encoded data removed]"
          },
          "metadata": {
            "needs_background": "light"
          }
        }
      ]
    },
    {
      "cell_type": "markdown",
      "source": [
        "In real life, plotting distracted driving against Number of collisions is more realistic."
      ],
      "metadata": {
        "id": "A0Xl1OOJNg2c"
      }
    },
    {
      "cell_type": "code",
      "execution_count": 340,
      "metadata": {
        "colab": {
          "base_uri": "https://localhost:8080/",
          "height": 297
        },
        "id": "-acO9chyHwme",
        "outputId": "5f65d320-186b-4f3f-d929-215587f95ebb"
      },
      "outputs": [
        {
          "output_type": "display_data",
          "data": {
            "text/plain": [
              "<Figure size 432x288 with 1 Axes>"
            ],
            "image/png": "[encoded data removed]"
          },
          "metadata": {
            "needs_background": "light"
          }
        }
      ],
      "source": [
        "def run_improvedSimulation(eps=0, distractedp=0.0, speed_limit=40, constructor=improvedDriver, iters=100):\n",
        "    res = []\n",
        "    for n in range(5, 100, 5):\n",
        "        highway = improvedHighway(n, eps=eps, length=2000, distractedp=distractedp, constructor=constructor)\n",
        "        for i in range(iters):\n",
        "            highway.step()\n",
        "\n",
        "        highway.set_odometers()\n",
        "        for i in range(iters):\n",
        "            highway.step()\n",
        "\n",
        "        res.append((n, highway.read_odometers() / iters))\n",
        "    \n",
        "    return np.transpose(res)\n",
        "\n",
        "np.random.seed(20)\n",
        "from utils import set_palette\n",
        "set_palette('Blues', 4, reverse=True)\n",
        "\n",
        "for eps in [0.0, 0.001, 0.01]:\n",
        "    xs, ys = run_improvedSimulation(eps)\n",
        "    plt.plot(xs, ys, label='eps=%g' % eps)\n",
        "    \n",
        "decorate(xlabel='Number of cars',\n",
        "                 ylabel='Average speed',\n",
        "                 xlim=[0, 100], ylim=[0, 42])\n",
        "\n",
        "plt.show('figs/chap10-2')"
      ]
    },
    {
      "cell_type": "markdown",
      "source": [
        "As we can see, random noise no longer affects the model. Now we will see how much changing the percentage of distracted drivers affects the system."
      ],
      "metadata": {
        "id": "xskSVkzL83gr"
      }
    },
    {
      "cell_type": "code",
      "execution_count": 346,
      "metadata": {
        "id": "8Qjx7_oE-Owx",
        "colab": {
          "base_uri": "https://localhost:8080/",
          "height": 297
        },
        "outputId": "45b8128a-7507-4049-dc06-b36d9cbebb5a"
      },
      "outputs": [
        {
          "output_type": "display_data",
          "data": {
            "text/plain": [
              "<Figure size 432x288 with 1 Axes>"
            ],
            "image/png": "[encoded data removed]"
          },
          "metadata": {
            "needs_background": "light"
          }
        }
      ],
      "source": [
        "\n",
        "np.random.seed(20)\n",
        "from utils import set_palette\n",
        "set_palette('PuBuGn', 10, reverse=True)\n",
        "\n",
        "for dps in np.linspace(0,1,5):\n",
        "    xs, ys = run_improvedSimulation(distractedp=dps, speed_limit=100)\n",
        "    plt.plot(xs, ys, label='dps=%g' % dps)\n",
        "    \n",
        "decorate(xlabel='Number of cars',\n",
        "                 ylabel='Average speed',\n",
        "                 xlim=[0, 100], ylim=[0, 42])\n",
        "\n",
        "plt.show('figs/chap10-2')"
      ]
    },
    {
      "cell_type": "markdown",
      "source": [
        "From this model, we see a smooth curve with no distracted drivers, although the curve becomes more and more \"spiky\", the more distracted drivers there are. Most likely meaning a car will be distracted and will forget to break, and causing random speedups to match the speed of traffic, moreover causing a spike in the average speed."
      ],
      "metadata": {
        "id": "eHZxNICT8Fek"
      }
    },
    {
      "cell_type": "markdown",
      "source": [
        "Now lets plot distracted p vs number of collisions."
      ],
      "metadata": {
        "id": "uHdyD4R5_FBf"
      }
    },
    {
      "cell_type": "code",
      "source": [
        "def run_improvedCrashSimulation(eps=0, distractedp=0.0, speed_limit=40, constructor=improvedDriver, iters=25):\n",
        "    res = []\n",
        "    for n in range(5, 100, 5):\n",
        "        highway = improvedHighway(n, eps=eps, distractedp=distractedp, constructor=constructor)\n",
        "        for i in range(iters):\n",
        "            highway.step()\n",
        "\n",
        "        highway.set_odometers()\n",
        "        for i in range(iters):\n",
        "            highway.step()\n",
        "\n",
        "        res.append((n, highway.crashes))\n",
        "    \n",
        "    return np.transpose(res)\n",
        "\n",
        "np.random.seed(20)\n",
        "from utils import set_palette\n",
        "set_palette('Blues', 4, reverse=True)\n",
        "\n",
        "for dps in np.linspace(0,1,4):\n",
        "    xs, ys = run_improvedCrashSimulation(distractedp=dps)\n",
        "    plt.plot(xs, ys, label='dps=%g' % dps)\n",
        "    \n",
        "decorate(xlabel='Number of cars',\n",
        "                 ylabel='Number of collisions',\n",
        "                 xlim=[0, 100], ylim=[0, 1000])\n",
        "\n",
        "plt.show('figs/chap10-2')\n",
        "\n",
        "\n",
        "np.random.seed(20)\n",
        "from utils import set_palette\n",
        "set_palette('Blues', 4, reverse=True)\n",
        "\n",
        "for speeds in range(20,120,30):\n",
        "    xs, ys = run_improvedCrashSimulation(distractedp=0.66, speed_limit=speeds)\n",
        "    plt.plot(xs, ys, label='speed limit=%g' % speeds)\n",
        "    \n",
        "decorate(xlabel='Number of cars',\n",
        "                 ylabel='Number of collisions',\n",
        "                 xlim=[0, 100], ylim=[0, 1000])\n",
        "\n",
        "plt.show('figs/chap10-2')\n",
        "\n"
      ],
      "metadata": {
        "colab": {
          "base_uri": "https://localhost:8080/",
          "height": 577
        },
        "id": "xYTfn1p4_EX1",
        "outputId": "3d157c71-6568-4667-ca89-156a078f8225"
      },
      "execution_count": 347,
      "outputs": [
        {
          "output_type": "display_data",
          "data": {
            "text/plain": [
              "<Figure size 432x288 with 1 Axes>"
            ],
            "image/png": "[encoded data removed]"
          },
          "metadata": {
            "needs_background": "light"
          }
        },
        {
          "output_type": "display_data",
          "data": {
            "text/plain": [
              "<Figure size 432x288 with 1 Axes>"
            ],
            "image/png": "[encoded data removed]"
          },
          "metadata": {
            "needs_background": "light"
          }
        }
      ]
    },
    {
      "cell_type": "markdown",
      "source": [
        "From this we can see that the number of collisions roughly increases exponentially as the percentage of distracted drivers increases.\n",
        "We can also see that increasing the speed limit does not affect the amount of collisions. Ofcourse, they will crash faster."
      ],
      "metadata": {
        "id": "T207vu3KBshc"
      }
    },
    {
      "cell_type": "markdown",
      "source": [
        "**Conclusion**\n",
        "From our data, we can see that the most important piece of information is how dangerous it can be to be distracted on the road while driving. The rate of collisions goes up exponentially according to the percentage of those who are distracted on the road."
      ],
      "metadata": {
        "id": "5N6khRvuUdjf"
      }
    }
  ],
  "metadata": {
    "colab": {
      "collapsed_sections": [],
      "name": "FinalProject.ipynb",
      "provenance": [],
      "include_colab_link": true
    },
    "kernelspec": {
      "display_name": "Python 3",
      "language": "python",
      "name": "python3"
    },
    "language_info": {
      "codemirror_mode": {
        "name": "ipython",
        "version": 3
      },
      "file_extension": ".py",
      "mimetype": "text/x-python",
      "name": "python",
      "nbconvert_exporter": "python",
      "pygments_lexer": "ipython3",
      "version": "3.8.3-final"
    }
  },
  "nbformat": 4,
  "nbformat_minor": 0
}