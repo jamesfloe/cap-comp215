{
  "cells": [
    {
      "cell_type": "markdown",
      "metadata": {
        "id": "view-in-github",
        "colab_type": "text"
      },
      "source": [
        "<a href=\"https://colab.research.google.com/github/jamesfloe/cap-comp215/blob/main/Labs_lab5.ipynb\" target=\"_parent\"><img src=\"https://colab.research.google.com/assets/colab-badge.svg\" alt=\"Open In Colab\"/></a>"
      ]
    },
    {
      "cell_type": "markdown",
      "metadata": {
        "id": "oApLuy8LGwew"
      },
      "source": [
        "# Cellular automata\n",
        "\n",
        "Code examples from [Think Complexity, 2nd edition](https://thinkcomplex.com).\n",
        "\n",
        "Copyright 2016 Allen Downey, [MIT License](http://opensource.org/licenses/MIT)"
      ]
    },
    {
      "cell_type": "code",
      "execution_count": 1,
      "metadata": {
        "id": "L1fzGKKwGwe4"
      },
      "outputs": [],
      "source": [
        "import os\n",
        "\n",
        "if not os.path.exists('utils.py'):\n",
        "    !wget https://raw.githubusercontent.com/AllenDowney/ThinkComplexity2/master/notebooks/utils.py\n",
        "\n",
        "%matplotlib inline\n",
        "\n",
        "import matplotlib.pyplot as plt\n",
        "import networkx as nx\n",
        "import numpy as np\n",
        "import seaborn as sns\n",
        "\n",
        "from utils import decorate"
      ]
    },
    {
      "cell_type": "markdown",
      "metadata": {
        "id": "TNT7Ba5dGwe7"
      },
      "source": [
        "## Zero-dimensional CA"
      ]
    },
    {
      "cell_type": "markdown",
      "metadata": {
        "id": "09P8w-cCGwe7"
      },
      "source": [
        "Here's a simple implementation of the 0-D CA I mentioned in the book, with one cell."
      ]
    },
    {
      "cell_type": "code",
      "execution_count": 2,
      "metadata": {
        "tags": [],
        "id": "IH0DvlWwGwe8",
        "outputId": "404dcc7f-d2fe-4a22-af29-588c94061b76",
        "colab": {
          "base_uri": "https://localhost:8080/"
        }
      },
      "outputs": [
        {
          "output_type": "stream",
          "name": "stdout",
          "text": [
            "[0. 0. 0. 0. 0. 0. 0. 0. 0. 0.]\n"
          ]
        }
      ],
      "source": [
        "n = 10\n",
        "x = np.zeros(n)\n",
        "print(x)"
      ]
    },
    {
      "cell_type": "markdown",
      "metadata": {
        "id": "G3_klXjZGwe9"
      },
      "source": [
        "To get the state of the cell in the next time step, we increment the current state mod 2."
      ]
    },
    {
      "cell_type": "code",
      "execution_count": 3,
      "metadata": {
        "id": "B-hOdm46Gwe-",
        "outputId": "fe24a90e-ad3e-40cc-8bae-309f4ec40fbc",
        "colab": {
          "base_uri": "https://localhost:8080/"
        }
      },
      "outputs": [
        {
          "output_type": "execute_result",
          "data": {
            "text/plain": [
              "1.0"
            ]
          },
          "metadata": {},
          "execution_count": 3
        }
      ],
      "source": [
        "x[1] = (x[0] + 1) % 2\n",
        "x[1]"
      ]
    },
    {
      "cell_type": "markdown",
      "metadata": {
        "id": "R7ZzF3RoGwe-"
      },
      "source": [
        "Filling in the rest of the array."
      ]
    },
    {
      "cell_type": "code",
      "execution_count": 4,
      "metadata": {
        "tags": [],
        "id": "K3gsrjfRGwe_",
        "outputId": "c998e24b-1ee7-468f-9fb7-dda78a5a14c3",
        "colab": {
          "base_uri": "https://localhost:8080/"
        }
      },
      "outputs": [
        {
          "output_type": "stream",
          "name": "stdout",
          "text": [
            "[0. 1. 0. 1. 0. 1. 0. 1. 0. 1.]\n"
          ]
        }
      ],
      "source": [
        "for i in range(2, n):\n",
        "    x[i] = (x[i-1] + 1) % 2\n",
        "    \n",
        "print(x)"
      ]
    },
    {
      "cell_type": "markdown",
      "metadata": {
        "id": "sGMiz_i_GwfA"
      },
      "source": [
        "So the behavior of this CA is simple: it blinks."
      ]
    },
    {
      "cell_type": "markdown",
      "metadata": {
        "id": "JyaAbDIIGwfA"
      },
      "source": [
        "## One-dimensional CA"
      ]
    },
    {
      "cell_type": "markdown",
      "metadata": {
        "id": "DXpcSZ53GwfB"
      },
      "source": [
        "Just as we used a 1-D array to show the state of a single cell over time, we'll use a 2-D array to show the state of a 1-D CA over time, with one column per cell and one row per timestep."
      ]
    },
    {
      "cell_type": "code",
      "execution_count": 5,
      "metadata": {
        "tags": [],
        "id": "5WGPmFh3GwfB",
        "outputId": "d8a9a5c9-6653-4668-f48b-0c8f9288ff0e",
        "colab": {
          "base_uri": "https://localhost:8080/"
        }
      },
      "outputs": [
        {
          "output_type": "stream",
          "name": "stdout",
          "text": [
            "[[0 0 0 0 0 1 0 0 0 0 0]\n",
            " [0 0 0 0 0 0 0 0 0 0 0]\n",
            " [0 0 0 0 0 0 0 0 0 0 0]\n",
            " [0 0 0 0 0 0 0 0 0 0 0]\n",
            " [0 0 0 0 0 0 0 0 0 0 0]]\n"
          ]
        }
      ],
      "source": [
        "rows = 5\n",
        "cols = 11\n",
        "array = np.zeros((rows, cols), dtype=np.uint8)\n",
        "array[0, 5] = 1\n",
        "print(array)"
      ]
    },
    {
      "cell_type": "markdown",
      "metadata": {
        "id": "ghveIHLQGwfC"
      },
      "source": [
        "To plot the array I use `plt.imshow`"
      ]
    },
    {
      "cell_type": "code",
      "execution_count": 6,
      "metadata": {
        "id": "W33jxNqBGwfC"
      },
      "outputs": [],
      "source": [
        "def plot_ca(array):\n",
        "    plt.imshow(array, cmap='Blues', interpolation='none')"
      ]
    },
    {
      "cell_type": "markdown",
      "metadata": {
        "id": "HF9UCC3GGwfD"
      },
      "source": [
        "Here's what it looks like after we initialize the first row."
      ]
    },
    {
      "cell_type": "code",
      "execution_count": 7,
      "metadata": {
        "id": "ro_A2LxlGwfD",
        "outputId": "6ed5a4af-fac0-4474-c0d4-38163164075b",
        "colab": {
          "base_uri": "https://localhost:8080/",
          "height": 200
        }
      },
      "outputs": [
        {
          "output_type": "display_data",
          "data": {
            "image/png": "[encoded data removed]",
            "text/plain": [
              "<Figure size 432x288 with 1 Axes>"
            ]
          },
          "metadata": {
            "needs_background": "light"
          }
        }
      ],
      "source": [
        "plot_ca(array)"
      ]
    },
    {
      "cell_type": "markdown",
      "metadata": {
        "id": "Ctye6O9NGwfD"
      },
      "source": [
        "And here's the function that fills in the next row.  The rule for this CA is to take the sum of a cell and its two neighbors mod 2."
      ]
    },
    {
      "cell_type": "code",
      "execution_count": 8,
      "metadata": {
        "id": "gXeaJDydGwfE"
      },
      "outputs": [],
      "source": [
        "def step(array, i):\n",
        "    \"\"\"Compute row i of a CA.\n",
        "    \"\"\"\n",
        "    rows, cols = array.shape\n",
        "    row = array[i-1]\n",
        "    for j in range(1, cols):\n",
        "        elts = row[j-1:j+2]\n",
        "        array[i, j] = sum(elts) % 2"
      ]
    },
    {
      "cell_type": "markdown",
      "metadata": {
        "id": "YymlkdrhGwfE"
      },
      "source": [
        "Here's the second row."
      ]
    },
    {
      "cell_type": "code",
      "execution_count": 9,
      "metadata": {
        "id": "Oecce7hcGwfE",
        "outputId": "1dbfcb55-5f54-4d9d-d0b7-2561c8eb08b8",
        "colab": {
          "base_uri": "https://localhost:8080/",
          "height": 200
        }
      },
      "outputs": [
        {
          "output_type": "display_data",
          "data": {
            "image/png": "[encoded data removed]",
            "text/plain": [
              "<Figure size 432x288 with 1 Axes>"
            ]
          },
          "metadata": {
            "needs_background": "light"
          }
        }
      ],
      "source": [
        "step(array, 1)\n",
        "plot_ca(array)"
      ]
    },
    {
      "cell_type": "markdown",
      "metadata": {
        "id": "SDRiDWFdGwfF"
      },
      "source": [
        "And here's what it looks like with the rest of the cells filled in."
      ]
    },
    {
      "cell_type": "code",
      "execution_count": 10,
      "metadata": {
        "id": "HLhIJcp9GwfF",
        "outputId": "fb102226-a3ed-4118-98cb-8842b7913b28",
        "colab": {
          "base_uri": "https://localhost:8080/",
          "height": 200
        }
      },
      "outputs": [
        {
          "output_type": "display_data",
          "data": {
            "image/png": "[encoded data removed]",
            "text/plain": [
              "<Figure size 432x288 with 1 Axes>"
            ]
          },
          "metadata": {
            "needs_background": "light"
          }
        }
      ],
      "source": [
        "for i in range(1, rows):\n",
        "    step(array, i)\n",
        "\n",
        "plot_ca(array)"
      ]
    },
    {
      "cell_type": "markdown",
      "metadata": {
        "id": "2gU08fzEGwfF"
      },
      "source": [
        "For a simple set of rules, the behavior is more interesting than you might expect."
      ]
    },
    {
      "cell_type": "markdown",
      "metadata": {
        "id": "FwoQhSJcGwfF"
      },
      "source": [
        "**Exercise:** Modify this code to increase the number of rows and columns and see what this CA does after more time steps."
      ]
    },
    {
      "cell_type": "markdown",
      "metadata": {
        "id": "VBTaLUyXGwfG"
      },
      "source": [
        "## Cross correlation"
      ]
    },
    {
      "cell_type": "markdown",
      "metadata": {
        "id": "tLATlJqvGwfG"
      },
      "source": [
        "We can update the CA more quickly using \"cross correlation\".  The cross correlation of an array, `a`, with a window, `w`, is a new array, `c`, where element `k` is:\n",
        "\n",
        "$ c_k = \\sum_{n=0}^{N-1} a_{n+k} \\cdot w_n $\n",
        "\n",
        "In Python, we can compute element `k` like this:"
      ]
    },
    {
      "cell_type": "code",
      "execution_count": 11,
      "metadata": {
        "id": "hBEvNRcmGwfG"
      },
      "outputs": [],
      "source": [
        "def c_k(a, w, k):\n",
        "    \"\"\"Compute element k of the cross correlation of a and w.\n",
        "    \"\"\"\n",
        "    N = len(w)\n",
        "    return sum(a[k:k+N] * w)"
      ]
    },
    {
      "cell_type": "markdown",
      "metadata": {
        "id": "psKbLMGiGwfH"
      },
      "source": [
        "To see how this works, I'll create an array:"
      ]
    },
    {
      "cell_type": "code",
      "execution_count": 12,
      "metadata": {
        "tags": [],
        "id": "A4vGf6fHGwfH",
        "outputId": "f9ffdec4-71ee-4075-b6d2-8190dca46bc3",
        "colab": {
          "base_uri": "https://localhost:8080/"
        }
      },
      "outputs": [
        {
          "output_type": "stream",
          "name": "stdout",
          "text": [
            "[0 1 2 3 4 5 6 7 8 9]\n"
          ]
        }
      ],
      "source": [
        "N = 10\n",
        "row = np.arange(N, dtype=np.uint8)\n",
        "print(row)"
      ]
    },
    {
      "cell_type": "markdown",
      "metadata": {
        "id": "c-f1TJWjGwfH"
      },
      "source": [
        "And a window:"
      ]
    },
    {
      "cell_type": "code",
      "execution_count": 13,
      "metadata": {
        "tags": [],
        "id": "fsjhNtJWGwfI",
        "outputId": "4beaa05d-58c7-4a1d-d19a-acad058693b3",
        "colab": {
          "base_uri": "https://localhost:8080/"
        }
      },
      "outputs": [
        {
          "output_type": "stream",
          "name": "stdout",
          "text": [
            "[1, 1, 1]\n"
          ]
        }
      ],
      "source": [
        "window = [1, 1, 1]\n",
        "\n",
        "print(window)"
      ]
    },
    {
      "cell_type": "markdown",
      "metadata": {
        "id": "3TzzXnOlGwfI"
      },
      "source": [
        "With this window, each element of `c` is the sum of three neighbors in the array:"
      ]
    },
    {
      "cell_type": "code",
      "execution_count": 14,
      "metadata": {
        "id": "OJjwmlCmGwfI",
        "outputId": "f5786add-0623-444c-b718-beb1a5ab98d6",
        "colab": {
          "base_uri": "https://localhost:8080/"
        }
      },
      "outputs": [
        {
          "output_type": "execute_result",
          "data": {
            "text/plain": [
              "3"
            ]
          },
          "metadata": {},
          "execution_count": 14
        }
      ],
      "source": [
        "c_k(row, window, 0)"
      ]
    },
    {
      "cell_type": "code",
      "execution_count": 15,
      "metadata": {
        "id": "GOjTpHbgGwfJ",
        "outputId": "ba0acf26-c304-4d4b-8e45-e092a34694c9",
        "colab": {
          "base_uri": "https://localhost:8080/"
        }
      },
      "outputs": [
        {
          "output_type": "execute_result",
          "data": {
            "text/plain": [
              "6"
            ]
          },
          "metadata": {},
          "execution_count": 15
        }
      ],
      "source": [
        "c_k(row, window, 1)"
      ]
    },
    {
      "cell_type": "markdown",
      "metadata": {
        "id": "SxYz0pF2GwfJ"
      },
      "source": [
        "The following function computes the elements of `c` for all values of `k` where the window can overlap with the array:"
      ]
    },
    {
      "cell_type": "code",
      "execution_count": 16,
      "metadata": {
        "id": "wrermPYyGwfJ"
      },
      "outputs": [],
      "source": [
        "def correlate(row, window):\n",
        "    \"\"\"Compute the cross correlation of a and w.\n",
        "    \"\"\"\n",
        "    cols = len(row)\n",
        "    N = len(window)\n",
        "    c = [c_k(row, window, k) for k in range(cols-N+1)]\n",
        "    return np.array(c)"
      ]
    },
    {
      "cell_type": "code",
      "execution_count": 17,
      "metadata": {
        "tags": [],
        "id": "ZT82l7a7GwfJ",
        "outputId": "b27cc13b-8ec2-4c68-e816-4372a8ab9729",
        "colab": {
          "base_uri": "https://localhost:8080/"
        }
      },
      "outputs": [
        {
          "output_type": "stream",
          "name": "stdout",
          "text": [
            "[ 3  6  9 12 15 18 21 24]\n"
          ]
        }
      ],
      "source": [
        "c = correlate(row, window)\n",
        "print(c)"
      ]
    },
    {
      "cell_type": "markdown",
      "metadata": {
        "id": "LS4xGrdUGwfK"
      },
      "source": [
        "This operation is useful in many domains, so libraries like NumPy usually provide an implementation.  Here's the version from NumPy."
      ]
    },
    {
      "cell_type": "code",
      "execution_count": 18,
      "metadata": {
        "tags": [],
        "id": "YXqa7DlIGwfK",
        "outputId": "11198ed6-7edd-4d19-9cb7-c2e5634b23ab",
        "colab": {
          "base_uri": "https://localhost:8080/"
        }
      },
      "outputs": [
        {
          "output_type": "stream",
          "name": "stdout",
          "text": [
            "[ 3  6  9 12 15 18 21 24]\n"
          ]
        }
      ],
      "source": [
        "c = np.correlate(row, window, mode='valid')\n",
        "print(c)"
      ]
    },
    {
      "cell_type": "markdown",
      "metadata": {
        "id": "R1H43cLrGwfK"
      },
      "source": [
        "With `mode='valid'`, the NumPy version does the same thing as mine: it only computes the elements of `c` where the window overlaps with the array.  A drawback of this mode is that the result is smaller than `array`.\n",
        "\n",
        "And alternative is `mode='same'`, which makes the result the same size as `array` by extending array with zeros on both sides.  Here's the result:"
      ]
    },
    {
      "cell_type": "code",
      "execution_count": 19,
      "metadata": {
        "tags": [],
        "id": "HIh5_oHIGwfL",
        "outputId": "e2184e0a-4ec6-426c-9104-431b2b289e22",
        "colab": {
          "base_uri": "https://localhost:8080/"
        }
      },
      "outputs": [
        {
          "output_type": "stream",
          "name": "stdout",
          "text": [
            "[ 1  3  6  9 12 15 18 21 24 17]\n"
          ]
        }
      ],
      "source": [
        "c = np.correlate(row, window, mode='same')\n",
        "print(c)"
      ]
    },
    {
      "cell_type": "markdown",
      "metadata": {
        "id": "CyQEauXTGwfL"
      },
      "source": [
        "**Exercise:** Write a version of `correlate` that returns the same result as `np.correlate` with `mode='same'.`"
      ]
    },
    {
      "cell_type": "code",
      "execution_count": 20,
      "metadata": {
        "id": "two8Uuf1GwfL"
      },
      "outputs": [],
      "source": [
        "# Hint: use np.pad to add zeros at the beginning and end of `row`\n"
      ]
    },
    {
      "cell_type": "code",
      "execution_count": 21,
      "metadata": {
        "id": "c6tj72wmGwfM",
        "colab": {
          "base_uri": "https://localhost:8080/"
        },
        "outputId": "942b8eb0-ed6c-4ca5-9087-c6691a93784d"
      },
      "outputs": [
        {
          "output_type": "stream",
          "name": "stdout",
          "text": [
            "[0 0 1 2 3 4 5 6 7 8 9 0]\n",
            "[ 1  3  6  9 12 15 18 21 24 17]\n"
          ]
        }
      ],
      "source": [
        "# Solution goes here\n",
        "def myCorrelate(row, window):\n",
        "    \"\"\"Compute the cross correlation of a and w.\n",
        "    \"\"\"\n",
        "    N = len(window)\n",
        "    padded_c = np.pad(row, (1,), 'constant', constant_values=(0,0))\n",
        "    cols = len(padded_c)\n",
        "    print(padded_c)\n",
        "    c = [c_k(padded_c, window, k) for k in range(cols-N+1)]\n",
        "    return np.array(c)\n",
        "\n",
        "c = myCorrelate(row, window)\n",
        "print(c)"
      ]
    },
    {
      "cell_type": "code",
      "source": [
        "#Excercise 1 (b,c)\n",
        "\n",
        "#1,\n",
        "def myExperimentalCorrelate(row, window):\n",
        "    \"\"\"Compute the cross correlation of a and w.\n",
        "    \"\"\"\n",
        "    N = len(window)\n",
        "    padded_c = np.pad(row, (1,), mode='wrap')\n",
        "    cols = len(padded_c)\n",
        "    print(padded_c)\n",
        "    c = [c_k(padded_c, window, k) for k in range(cols-N+1)]\n",
        "    return np.array(c)\n",
        "\n",
        "c = myExperimentalCorrelate(row, window)\n",
        "print(c)\n",
        "#1c \n",
        "#Results are similar to my correlate function, except for the beginning.\n"
      ],
      "metadata": {
        "colab": {
          "base_uri": "https://localhost:8080/"
        },
        "id": "S6jClQiDVIF9",
        "outputId": "2f20e3c4-4955-47f7-89a2-98c0e5d64181"
      },
      "execution_count": 22,
      "outputs": [
        {
          "output_type": "stream",
          "name": "stdout",
          "text": [
            "[9 0 1 2 3 4 5 6 7 8 9 0]\n",
            "[10  3  6  9 12 15 18 21 24 17]\n"
          ]
        }
      ]
    },
    {
      "cell_type": "markdown",
      "metadata": {
        "id": "JU6v7F2FGwfM"
      },
      "source": [
        "## Update with correlate\n",
        "\n",
        "Now we can use `np.correlate` to update the array.  I'll start again with an array that contains one column for each cell and one row for each time step, and I'll initialize the first row with a single \"on\" cell in the middle:"
      ]
    },
    {
      "cell_type": "code",
      "execution_count": 23,
      "metadata": {
        "tags": [],
        "id": "4jTvUD9yGwfN",
        "outputId": "5758927f-23d2-4214-e065-832768570d6d",
        "colab": {
          "base_uri": "https://localhost:8080/"
        }
      },
      "outputs": [
        {
          "output_type": "stream",
          "name": "stdout",
          "text": [
            "[[0 0 0 0 0 1 0 0 0 0 0]\n",
            " [0 0 0 0 0 0 0 0 0 0 0]\n",
            " [0 0 0 0 0 0 0 0 0 0 0]\n",
            " [0 0 0 0 0 0 0 0 0 0 0]\n",
            " [0 0 0 0 0 0 0 0 0 0 0]]\n"
          ]
        }
      ],
      "source": [
        "rows = 5\n",
        "cols = 11\n",
        "array = np.zeros((rows, cols), dtype=np.uint8)\n",
        "array[0, 5] = 1\n",
        "print(array)"
      ]
    },
    {
      "cell_type": "markdown",
      "metadata": {
        "id": "vaNNxW2CGwfN"
      },
      "source": [
        "Now here's a version of `step` that uses `np.correlate`"
      ]
    },
    {
      "cell_type": "code",
      "execution_count": 24,
      "metadata": {
        "id": "dVQiMWqTGwfN"
      },
      "outputs": [],
      "source": [
        "def step2(array, i, window=[1,1,1]):\n",
        "    \"\"\"Compute row i of a CA.\n",
        "    \"\"\"\n",
        "    row = array[i-1]\n",
        "    c = np.correlate(row, window, mode='same')\n",
        "    array[i] = c % 2"
      ]
    },
    {
      "cell_type": "markdown",
      "metadata": {
        "id": "nTfdtjMwGwfN"
      },
      "source": [
        "And the result is the same."
      ]
    },
    {
      "cell_type": "code",
      "execution_count": 25,
      "metadata": {
        "id": "eKXrL2XXGwfN",
        "outputId": "3c70d757-d296-4314-cf4c-257f201906fb",
        "colab": {
          "base_uri": "https://localhost:8080/",
          "height": 200
        }
      },
      "outputs": [
        {
          "output_type": "display_data",
          "data": {
            "image/png": "[encoded data removed]",
            "text/plain": [
              "<Figure size 432x288 with 1 Axes>"
            ]
          },
          "metadata": {
            "needs_background": "light"
          }
        }
      ],
      "source": [
        "for i in range(1, rows):\n",
        "    step2(array, i)\n",
        "\n",
        "plot_ca(array)"
      ]
    },
    {
      "cell_type": "markdown",
      "metadata": {
        "id": "IQALygCfGwfO"
      },
      "source": [
        "## CA Tables\n",
        "\n",
        "What we have so far is good enough for a CA that only depends on the total number of \"on\" cells, but for more general CAs, we need a table that maps from the configuration of the neighborhood to the future state of the center cell.\n",
        "\n",
        "The following function makes the table by interpreting the Rule number in binary."
      ]
    },
    {
      "cell_type": "code",
      "execution_count": 26,
      "metadata": {
        "id": "7F1kdiMoGwfO"
      },
      "outputs": [],
      "source": [
        "def make_table(rule):\n",
        "    \"\"\"Make the table for a given CA rule.\n",
        "    \n",
        "    rule: int 0-255\n",
        "    \n",
        "    returns: array of 8 0s and 1s\n",
        "    \"\"\"\n",
        "    rule = np.array([rule], dtype=np.uint8)\n",
        "    table = np.unpackbits(rule)[::-1]\n",
        "    return table"
      ]
    },
    {
      "cell_type": "markdown",
      "metadata": {
        "id": "bZsCLCTsGwfO"
      },
      "source": [
        "Here's what it looks like as an array:"
      ]
    },
    {
      "cell_type": "code",
      "execution_count": 27,
      "metadata": {
        "tags": [],
        "id": "GaBkV9YzGwfO",
        "outputId": "9d79b4c2-9366-4b68-f9bf-c0fcbec0ce31",
        "colab": {
          "base_uri": "https://localhost:8080/"
        }
      },
      "outputs": [
        {
          "output_type": "stream",
          "name": "stdout",
          "text": [
            "[0 1 1 0 1 0 0 1]\n"
          ]
        }
      ],
      "source": [
        "table = make_table(150)\n",
        "print(table)"
      ]
    },
    {
      "cell_type": "markdown",
      "metadata": {
        "id": "yE2_2GpYGwfP"
      },
      "source": [
        "If we correlate the row with the window `[4, 2, 1]`, it treats each neighborhood as a binary number between 000 and 111."
      ]
    },
    {
      "cell_type": "code",
      "execution_count": 28,
      "metadata": {
        "tags": [],
        "id": "vKMOblcXGwfP",
        "outputId": "e2bbd12a-0eb6-466a-96c7-6471b3a065a5",
        "colab": {
          "base_uri": "https://localhost:8080/"
        }
      },
      "outputs": [
        {
          "output_type": "stream",
          "name": "stdout",
          "text": [
            "[0 0 0 0 0 1 0 0 0 0 0]\n",
            "[0 0 0 0 1 2 4 0 0 0 0]\n"
          ]
        }
      ],
      "source": [
        "window = [4, 2, 1]\n",
        "c = np.correlate(array[0], window, mode='same')\n",
        "print(array[0])\n",
        "print(c)"
      ]
    },
    {
      "cell_type": "markdown",
      "metadata": {
        "id": "n_GKjmwSGwfP"
      },
      "source": [
        "Now we can use the result from `np.correlate` as an index into the table; the result is the next row of the array."
      ]
    },
    {
      "cell_type": "code",
      "execution_count": 29,
      "metadata": {
        "tags": [],
        "id": "vlvTUiiCGwfP",
        "outputId": "ec4269f3-95fc-4c42-a9f5-4a1129abe78b",
        "colab": {
          "base_uri": "https://localhost:8080/"
        }
      },
      "outputs": [
        {
          "output_type": "stream",
          "name": "stdout",
          "text": [
            "[0 0 0 0 1 1 1 0 0 0 0]\n"
          ]
        }
      ],
      "source": [
        "array[1] = table[c]\n",
        "print(array[1])"
      ]
    },
    {
      "cell_type": "markdown",
      "metadata": {
        "id": "r0uVs3vvGwfQ"
      },
      "source": [
        "We can wrap up that code in a function:"
      ]
    },
    {
      "cell_type": "code",
      "execution_count": 30,
      "metadata": {
        "id": "Q1cSpni4GwfQ"
      },
      "outputs": [],
      "source": [
        "def step3(array, i, window=[4,2,1]):\n",
        "    \"\"\"Compute row i of a CA.\n",
        "    \"\"\"\n",
        "    row = array[i-1]\n",
        "    c = np.correlate(row, window, mode='same')\n",
        "    array[i] = table[c]"
      ]
    },
    {
      "cell_type": "markdown",
      "metadata": {
        "id": "NwwDNaigGwfQ"
      },
      "source": [
        "And test it again."
      ]
    },
    {
      "cell_type": "code",
      "execution_count": 31,
      "metadata": {
        "id": "bHPtoFC7GwfQ",
        "outputId": "d1f62533-a2a4-4144-908f-dbb4a52ea63d",
        "colab": {
          "base_uri": "https://localhost:8080/",
          "height": 0
        }
      },
      "outputs": [
        {
          "output_type": "display_data",
          "data": {
            "image/png": "[encoded data removed]",
            "text/plain": [
              "<Figure size 432x288 with 1 Axes>"
            ]
          },
          "metadata": {
            "needs_background": "light"
          }
        }
      ],
      "source": [
        "for i in range(1, rows):\n",
        "    step3(array, i)\n",
        "\n",
        "plot_ca(array)"
      ]
    },
    {
      "cell_type": "markdown",
      "metadata": {
        "id": "brvkREeJGwfQ"
      },
      "source": [
        "How did I know that Rule 150 is the same as the previous CA?  I wrote out the table and converted it to binary."
      ]
    },
    {
      "cell_type": "markdown",
      "metadata": {
        "collapsed": true,
        "id": "EfwKTuWxGwfQ"
      },
      "source": [
        "## The Cell1D object"
      ]
    },
    {
      "cell_type": "markdown",
      "metadata": {
        "id": "gwVX0ICjGwfR"
      },
      "source": [
        "`Cell1D` encapsulates the code from the previous section."
      ]
    },
    {
      "cell_type": "code",
      "execution_count": 117,
      "metadata": {
        "id": "8stOQxfPGwfR"
      },
      "outputs": [],
      "source": [
        "class Cell1D:\n",
        "    \"\"\"Represents a 1-D a cellular automaton\"\"\"\n",
        "\n",
        "    def __init__(self, rule, n, m=None):\n",
        "        \"\"\"Initializes the CA.\n",
        "\n",
        "        rule: integer\n",
        "        n: number of rows\n",
        "        m: number of columns\n",
        "\n",
        "        Attributes:\n",
        "        table:  rule dictionary that maps from triple to next state.\n",
        "        array:  the numpy array that contains the data.\n",
        "        next:   the index of the next empty row.\n",
        "        \"\"\"\n",
        "        self.table = make_table(rule)\n",
        "        self.n = n\n",
        "        self.m = 2*n + 1 if m is None else m\n",
        "\n",
        "        self.array = np.zeros((n, self.m), dtype=np.int8)\n",
        "        self.next = 0\n",
        "\n",
        "    def start_single(self):\n",
        "        \"\"\"Starts with one cell in the middle of the top row.\"\"\"\n",
        "        self.array[0, self.m//2] = 1\n",
        "        self.next += 1\n",
        "\n",
        "    def start_random(self, prop):\n",
        "        \"\"\"Start with random values in the top row.\"\"\"\n",
        "        randoms = [0,1]\n",
        "        self.array[0] = np.array([int(np.random.choice(randoms, 1, p=[prop, 1-prop])) for item in range(self.m)])\n",
        "        self.next += 1\n",
        "        print(self.array)\n",
        "\n",
        "    def start_string(self, s):\n",
        "        \"\"\"Start with values from a string of 1s and 0s.\"\"\"\n",
        "        # TODO: Check string length\n",
        "        self.array[0] = np.array([int(x) for x in s])\n",
        "        self.next += 1\n",
        "\n",
        "    def loop(self, steps=1):\n",
        "        \"\"\"Executes the given number of time steps.\"\"\"\n",
        "        for i in range(steps):\n",
        "            self.step()\n",
        "\n",
        "    def step(self):\n",
        "        \"\"\"Executes one time step by computing the next row of the array.\"\"\"\n",
        "        a = self.array\n",
        "        i = self.next\n",
        "        window = [4, 2, 1]\n",
        "        c = np.correlate(a[i-1], window, mode='same')\n",
        "        a[i] = self.table[c]\n",
        "        self.next += 1\n",
        "\n",
        "    def draw(self, start=0, end=None):\n",
        "        \"\"\"Draws the CA using pyplot.imshow.\n",
        "\n",
        "        start: index of the first column to be shown\n",
        "        end: index of the last column to be shown\n",
        "        \"\"\"\n",
        "        a = self.array[:, start:end]\n",
        "        plt.imshow(a, cmap='Blues', alpha=0.7)\n",
        "        \n",
        "        # turn off axis tick marks\n",
        "        plt.xticks([])\n",
        "        plt.yticks([])"
      ]
    },
    {
      "cell_type": "markdown",
      "metadata": {
        "id": "8m6sHyRZGwfR"
      },
      "source": [
        "The following function makes and draws a CA."
      ]
    },
    {
      "cell_type": "code",
      "execution_count": 33,
      "metadata": {
        "id": "2VPj1a5yGwfR"
      },
      "outputs": [],
      "source": [
        "def draw_ca(rule, n=32):\n",
        "    \"\"\"Makes and draw a 1D CA with a given rule.\n",
        "    \n",
        "    rule: int rule number\n",
        "    n: number of rows\n",
        "    \"\"\"\n",
        "    ca = Cell1D(rule, n)\n",
        "    ca.start_single()\n",
        "    ca.loop(n-1)\n",
        "    ca.draw()"
      ]
    },
    {
      "cell_type": "markdown",
      "metadata": {
        "id": "hFBwhIXoGwfR"
      },
      "source": [
        "Here's an example that runs a Rule 50 CA for 10 steps."
      ]
    },
    {
      "cell_type": "code",
      "execution_count": 34,
      "metadata": {
        "id": "YzVcH491GwfS",
        "outputId": "615a6da7-33ce-44e7-80fb-cae98e9ad568",
        "colab": {
          "base_uri": "https://localhost:8080/",
          "height": 367
        }
      },
      "outputs": [
        {
          "output_type": "stream",
          "name": "stdout",
          "text": [
            "[[0 0 0 0 0 0 0 0 0 0 1 0 0 0 0 0 0 0 0 0 0]\n",
            " [0 0 0 0 0 0 0 0 0 0 0 0 0 0 0 0 0 0 0 0 0]\n",
            " [0 0 0 0 0 0 0 0 0 0 0 0 0 0 0 0 0 0 0 0 0]\n",
            " [0 0 0 0 0 0 0 0 0 0 0 0 0 0 0 0 0 0 0 0 0]\n",
            " [0 0 0 0 0 0 0 0 0 0 0 0 0 0 0 0 0 0 0 0 0]\n",
            " [0 0 0 0 0 0 0 0 0 0 0 0 0 0 0 0 0 0 0 0 0]\n",
            " [0 0 0 0 0 0 0 0 0 0 0 0 0 0 0 0 0 0 0 0 0]\n",
            " [0 0 0 0 0 0 0 0 0 0 0 0 0 0 0 0 0 0 0 0 0]\n",
            " [0 0 0 0 0 0 0 0 0 0 0 0 0 0 0 0 0 0 0 0 0]\n",
            " [0 0 0 0 0 0 0 0 0 0 0 0 0 0 0 0 0 0 0 0 0]]\n"
          ]
        },
        {
          "output_type": "display_data",
          "data": {
            "image/png": "[encoded data removed]",
            "text/plain": [
              "<Figure size 432x288 with 1 Axes>"
            ]
          },
          "metadata": {}
        }
      ],
      "source": [
        "draw_ca(rule=50, n=10)\n",
        "plt.show('figs/chap05-1')"
      ]
    },
    {
      "cell_type": "markdown",
      "metadata": {
        "id": "bLpn9q5AGwfS"
      },
      "source": [
        "Another example:"
      ]
    },
    {
      "cell_type": "code",
      "execution_count": 35,
      "metadata": {
        "id": "IeL-pg0RGwfS",
        "outputId": "05bf2330-a56d-404b-dc64-f2ebcdf01267",
        "colab": {
          "base_uri": "https://localhost:8080/",
          "height": 274
        }
      },
      "outputs": [
        {
          "output_type": "stream",
          "name": "stdout",
          "text": [
            "[[0 0 0 0 0 1 0 0 0 0 0]\n",
            " [0 0 0 0 0 0 0 0 0 0 0]\n",
            " [0 0 0 0 0 0 0 0 0 0 0]\n",
            " [0 0 0 0 0 0 0 0 0 0 0]\n",
            " [0 0 0 0 0 0 0 0 0 0 0]]\n"
          ]
        },
        {
          "output_type": "display_data",
          "data": {
            "image/png": "[encoded data removed]",
            "text/plain": [
              "<Figure size 432x288 with 1 Axes>"
            ]
          },
          "metadata": {}
        }
      ],
      "source": [
        "draw_ca(rule=150, n=5)\n",
        "\n",
        "plt.show('figs/chap05-2')"
      ]
    },
    {
      "cell_type": "markdown",
      "metadata": {
        "id": "AWI4yZSiGwfT"
      },
      "source": [
        "And one more example showing recursive structure."
      ]
    },
    {
      "cell_type": "code",
      "execution_count": 36,
      "metadata": {
        "id": "noZU1jqFGwfT",
        "outputId": "c35b37e8-2723-4c07-f1d1-7638e98aa65d",
        "colab": {
          "base_uri": "https://localhost:8080/",
          "height": 322
        }
      },
      "outputs": [
        {
          "output_type": "stream",
          "name": "stdout",
          "text": [
            "[[0 0 0 ... 0 0 0]\n",
            " [0 0 0 ... 0 0 0]\n",
            " [0 0 0 ... 0 0 0]\n",
            " ...\n",
            " [0 0 0 ... 0 0 0]\n",
            " [0 0 0 ... 0 0 0]\n",
            " [0 0 0 ... 0 0 0]]\n"
          ]
        },
        {
          "output_type": "display_data",
          "data": {
            "image/png": "[encoded data removed]",
            "text/plain": [
              "<Figure size 432x288 with 1 Axes>"
            ]
          },
          "metadata": {}
        }
      ],
      "source": [
        "draw_ca(rule=18, n=64)\n",
        "\n",
        "plt.show('figs/chap05-3')"
      ]
    },
    {
      "cell_type": "markdown",
      "metadata": {
        "id": "0uQajn-WGwfT"
      },
      "source": [
        "Rule 30 generates a sequence of bits that is indistinguishable from random:"
      ]
    },
    {
      "cell_type": "code",
      "execution_count": 37,
      "metadata": {
        "id": "2rMj0S8gGwfT",
        "outputId": "a65c78b7-032d-4999-e196-2bdb5624f6e0",
        "colab": {
          "base_uri": "https://localhost:8080/",
          "height": 322
        }
      },
      "outputs": [
        {
          "output_type": "stream",
          "name": "stdout",
          "text": [
            "[[0 0 0 ... 0 0 0]\n",
            " [0 0 0 ... 0 0 0]\n",
            " [0 0 0 ... 0 0 0]\n",
            " ...\n",
            " [0 0 0 ... 0 0 0]\n",
            " [0 0 0 ... 0 0 0]\n",
            " [0 0 0 ... 0 0 0]]\n"
          ]
        },
        {
          "output_type": "display_data",
          "data": {
            "image/png": "[encoded data removed]",
            "text/plain": [
              "<Figure size 432x288 with 1 Axes>"
            ]
          },
          "metadata": {}
        }
      ],
      "source": [
        "draw_ca(rule=30, n=100)\n",
        "\n",
        "plt.show('figs/chap05-4')"
      ]
    },
    {
      "cell_type": "markdown",
      "metadata": {
        "id": "8kaOJcZMGwfT"
      },
      "source": [
        "And Rule 110 is Turing complete!"
      ]
    },
    {
      "cell_type": "code",
      "execution_count": 38,
      "metadata": {
        "id": "O36NbgU-GwfT",
        "outputId": "6c266b15-45c0-43ce-a845-41e0b11c2953",
        "colab": {
          "base_uri": "https://localhost:8080/",
          "height": 322
        }
      },
      "outputs": [
        {
          "output_type": "stream",
          "name": "stdout",
          "text": [
            "[[0 0 0 ... 0 0 0]\n",
            " [0 0 0 ... 0 0 0]\n",
            " [0 0 0 ... 0 0 0]\n",
            " ...\n",
            " [0 0 0 ... 0 0 0]\n",
            " [0 0 0 ... 0 0 0]\n",
            " [0 0 0 ... 0 0 0]]\n"
          ]
        },
        {
          "output_type": "display_data",
          "data": {
            "image/png": "[encoded data removed]",
            "text/plain": [
              "<Figure size 432x288 with 1 Axes>"
            ]
          },
          "metadata": {}
        }
      ],
      "source": [
        "draw_ca(rule=110, n=100)\n",
        "\n",
        "plt.show('figs/chap05-5')"
      ]
    },
    {
      "cell_type": "markdown",
      "metadata": {
        "id": "TrNRDP7HGwfU"
      },
      "source": [
        "Here's a longer run that has some spaceships."
      ]
    },
    {
      "cell_type": "code",
      "execution_count": 116,
      "metadata": {
        "id": "us0GhDMJGwfU",
        "outputId": "f6f8f45a-5103-4b17-8957-e2fe3e0ae68f",
        "colab": {
          "base_uri": "https://localhost:8080/",
          "height": 323
        }
      },
      "outputs": [
        {
          "output_type": "stream",
          "name": "stdout",
          "text": [
            "[[0 0 1 ... 1 0 1]\n",
            " [0 0 0 ... 0 0 0]\n",
            " [0 0 0 ... 0 0 0]\n",
            " ...\n",
            " [0 0 0 ... 0 0 0]\n",
            " [0 0 0 ... 0 0 0]\n",
            " [0 0 0 ... 0 0 0]]\n"
          ]
        },
        {
          "output_type": "display_data",
          "data": {
            "image/png": "[encoded data removed]",
            "text/plain": [
              "<Figure size 432x288 with 1 Axes>"
            ]
          },
          "metadata": {}
        }
      ],
      "source": [
        "np.random.seed(21)\n",
        "ca = Cell1D(rule=110, n=600)\n",
        "ca.start_random(prop=0.5)\n",
        "ca.loop(n-1)\n",
        "ca.draw()\n",
        "\n",
        "plt.show('figs/chap05-6')"
      ]
    },
    {
      "cell_type": "markdown",
      "metadata": {
        "id": "rLSfMKRGGwfU"
      },
      "source": [
        "## Exercises"
      ]
    },
    {
      "cell_type": "markdown",
      "metadata": {
        "id": "sVATLW6PGwfU"
      },
      "source": [
        "**Exercise:** This exercise asks you to experiment with Rule 110 and see how\n",
        "many spaceships you can find.\n",
        "\n",
        "1. Read the Wikipedia page about Rule 110, which describes its background pattern and spaceships.\n",
        "\n",
        "2. Create a Rule 110 CA with an initial condition that yields the\n",
        "  stable background pattern.  Note that the CA class provides\n",
        "`start_string`, which allow you to initialize the state of\n",
        "the array using a string of `1`s and `0`s.\n",
        "\n",
        "3. Modify the initial condition by adding different patterns in the\n",
        "  center of the row and see which ones yield spaceships.  You might\n",
        "  want to enumerate all possible patterns of $n$ bits, for some\n",
        "  reasonable value of $n$.  For each spaceship, can you find the\n",
        "  period and rate of translation?  What is the biggest spaceship you\n",
        "  can find?\n",
        "\n",
        "4. What happens when spaceships collide?"
      ]
    },
    {
      "cell_type": "code",
      "execution_count": 42,
      "metadata": {
        "id": "wUXyqo8aGwfU",
        "colab": {
          "base_uri": "https://localhost:8080/"
        },
        "outputId": "4b08718e-b083-4288-b713-66332301c803"
      },
      "outputs": [
        {
          "output_type": "stream",
          "name": "stdout",
          "text": [
            "[0 1 0 0 1 1 0 0]\n"
          ]
        }
      ],
      "source": [
        "# Excercise 2 make_table\n",
        "\n",
        "def myMake_Table(rule):\n",
        "  binString = ''\n",
        "  zero = 0\n",
        "  while rule >= 1:\n",
        "    binString = binString + str(rule%2)\n",
        "    rule = rule // 2\n",
        "\n",
        "  c = [int(item) for item in binString]\n",
        "  for i in range((abs(len(c) - 8))):\n",
        "    c.append(zero)\n",
        "  \n",
        "  d = np.array(c)\n",
        "  return d\n",
        "\n",
        "\n",
        "\n",
        "    \n",
        "z = myMake_Table(50)\n",
        "print(z)"
      ]
    },
    {
      "cell_type": "code",
      "execution_count": 112,
      "metadata": {
        "id": "ybceHW2mGwfV",
        "colab": {
          "base_uri": "https://localhost:8080/",
          "height": 322
        },
        "outputId": "16f76b6f-27fb-4cf9-a6e9-60f4d5513627"
      },
      "outputs": [
        {
          "output_type": "stream",
          "name": "stdout",
          "text": [
            "[[1 1 1 ... 1 0 0]\n",
            " [0 0 0 ... 0 0 0]\n",
            " [0 0 0 ... 0 0 0]\n",
            " ...\n",
            " [0 0 0 ... 0 0 0]\n",
            " [0 0 0 ... 0 0 0]\n",
            " [0 0 0 ... 0 0 0]]\n"
          ]
        },
        {
          "output_type": "display_data",
          "data": {
            "image/png": "[encoded data removed]",
            "text/plain": [
              "<Figure size 432x288 with 1 Axes>"
            ]
          },
          "metadata": {}
        }
      ],
      "source": [
        "# Exercise 3 start_random\n",
        "\n",
        "def mydraw_ca(rule, n, p):\n",
        "    \"\"\"Makes and draw a 1D CA with a given rule.\n",
        "    \n",
        "    rule: int rule number\n",
        "    n: number of rows\n",
        "    \"\"\"\n",
        "    ca = Cell1D(rule, n)\n",
        "    if p == 'none':\n",
        "      ca.start_single()\n",
        "    else:\n",
        "      ca.start_random(p)\n",
        "\n",
        "    ca.loop(n-1)\n",
        "    ca.draw()\n",
        "    \n",
        "mydraw_ca(30, 100, 0.3)\n"
      ]
    },
    {
      "cell_type": "code",
      "execution_count": 126,
      "metadata": {
        "id": "WPXngeFxGwfV",
        "colab": {
          "base_uri": "https://localhost:8080/",
          "height": 229
        },
        "outputId": "6845e6f3-a995-4fe5-cbcb-865c1e756fd2"
      },
      "outputs": [
        {
          "output_type": "display_data",
          "data": {
            "image/png": "[encoded data removed]",
            "text/plain": [
              "<Figure size 432x288 with 4 Axes>"
            ]
          },
          "metadata": {}
        }
      ],
      "source": [
        "#Experiment 4 CA Experiment\n",
        "\n",
        "# 1. Rule 0 will rapidly converge to a uniform state.\n",
        "# 2. Rule 18 will converge to a repititive state.\n",
        "# 3. Rule 30 is a class 3 rule, generating non-repeating random states.\n",
        "# 4. Rule 110 is a class 4 rule, generating stable and non-stable areas, with areas that appear like spaceships, interacting in complex ways along each time-step.\n",
        "\n",
        "plt.subplot(2, 2, 1)\n",
        "draw_ca(rule=0, n = 100)\n",
        "\n",
        "plt.subplot(2,2,2)\n",
        "draw_ca(rule=18, n = 100)\n",
        "\n",
        "plt.subplot(2,2,3)\n",
        "draw_ca(rule=30, n = 100)\n",
        "\n",
        "plt.subplot(2,2,4)\n",
        "draw_ca(rule=110, n = 200)\n",
        "\n",
        "#This system producing these wide range of behaviours, signifies that even a simple algorithm\n",
        "#can produce complex results over time.\n",
        "\n",
        "#We can see in the real world how simple living things, such as viruses, or monocellular organisms can\n",
        "#be produced from a very simple pattern or 'seed.' \n",
        "\n",
        "\n",
        "\n"
      ]
    },
    {
      "cell_type": "code",
      "execution_count": null,
      "metadata": {
        "id": "FLxgypOfGwfV"
      },
      "outputs": [],
      "source": [
        "# Solution goes here"
      ]
    },
    {
      "cell_type": "code",
      "execution_count": null,
      "metadata": {
        "id": "R5W6cSWfGwfV"
      },
      "outputs": [],
      "source": [
        "# Solution goes here"
      ]
    },
    {
      "cell_type": "code",
      "execution_count": null,
      "metadata": {
        "id": "rUURelP0GwfV"
      },
      "outputs": [],
      "source": [
        "# Solution goes here"
      ]
    },
    {
      "cell_type": "code",
      "execution_count": null,
      "metadata": {
        "id": "r8qLCjYQGwfV"
      },
      "outputs": [],
      "source": [
        "# Solution goes here"
      ]
    },
    {
      "cell_type": "markdown",
      "metadata": {
        "id": "AIri6uZyGwfW"
      },
      "source": [
        "**Exercise:** The goal of this exercise is to implement a Turing machine.\n",
        "\n",
        "1. Read about Turing machines.\n",
        "\n",
        "2. Write a class called `Turing` that implements a Turing machine.  For the action table, use the rules for a 3-state busy beaver.\n",
        "\n",
        "3. Write a `draw` method that plots the state of the tape and the position and state of the head.  For one example of what that might look like, see http://mathworld.wolfram.com/TuringMachine.html."
      ]
    },
    {
      "cell_type": "code",
      "execution_count": null,
      "metadata": {
        "id": "rk5H8At-GwfW"
      },
      "outputs": [],
      "source": [
        "# Solution goes here"
      ]
    },
    {
      "cell_type": "code",
      "execution_count": null,
      "metadata": {
        "id": "AjMHtgpEGwfW"
      },
      "outputs": [],
      "source": [
        "# Solution goes here"
      ]
    },
    {
      "cell_type": "code",
      "execution_count": null,
      "metadata": {
        "id": "E_qLihh0GwfX"
      },
      "outputs": [],
      "source": [
        "# Solution goes here"
      ]
    },
    {
      "cell_type": "code",
      "execution_count": null,
      "metadata": {
        "id": "iIpV0fDOGwfX"
      },
      "outputs": [],
      "source": [
        "# Solution goes here"
      ]
    }
  ],
  "metadata": {
    "kernelspec": {
      "display_name": "Python 3.8.3 32-bit",
      "language": "python",
      "name": "python_defaultSpec_1593789654887"
    },
    "language_info": {
      "codemirror_mode": {
        "name": "ipython",
        "version": 3
      },
      "file_extension": ".py",
      "mimetype": "text/x-python",
      "name": "python",
      "nbconvert_exporter": "python",
      "pygments_lexer": "ipython3",
      "version": "3.7.6"
    },
    "colab": {
      "name": "Labs/lab5.ipynb",
      "provenance": [],
      "collapsed_sections": [
        "IQALygCfGwfO"
      ],
      "include_colab_link": true
    }
  },
  "nbformat": 4,
  "nbformat_minor": 0
}