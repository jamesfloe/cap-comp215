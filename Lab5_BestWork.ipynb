{
  "cells": [
    {
      "cell_type": "markdown",
      "metadata": {
        "id": "view-in-github",
        "colab_type": "text"
      },
      "source": [
        "<a href=\"https://colab.research.google.com/github/jamesfloe/cap-comp215/blob/main/Lab5_BestWork.ipynb\" target=\"_parent\"><img src=\"https://colab.research.google.com/assets/colab-badge.svg\" alt=\"Open In Colab\"/></a>"
      ]
    },
    {
      "cell_type": "markdown",
      "metadata": {
        "id": "oApLuy8LGwew"
      },
      "source": [
        "# COMP 215 - LAB 5 Cellular automata \n",
        "Date: April 12 2022\n",
        "\n",
        "\n",
        "Code examples from [Think Complexity, 2nd edition](https://thinkcomplex.com).\n",
        "\n",
        "Copyright 2016 Allen Downey, [MIT License](http://opensource.org/licenses/MIT)"
      ]
    },
    {
      "cell_type": "code",
      "execution_count": null,
      "metadata": {
        "id": "L1fzGKKwGwe4"
      },
      "outputs": [],
      "source": [
        "import os\n",
        "\n",
        "if not os.path.exists('utils.py'):\n",
        "    !wget https://raw.githubusercontent.com/AllenDowney/ThinkComplexity2/master/notebooks/utils.py\n",
        "\n",
        "%matplotlib inline\n",
        "\n",
        "import matplotlib.pyplot as plt\n",
        "import networkx as nx\n",
        "import numpy as np\n",
        "import seaborn as sns\n",
        "\n",
        "from utils import decorate"
      ]
    },
    {
      "cell_type": "markdown",
      "metadata": {
        "id": "TNT7Ba5dGwe7"
      },
      "source": [
        "## Zero-dimensional CA"
      ]
    },
    {
      "cell_type": "markdown",
      "metadata": {
        "id": "09P8w-cCGwe7"
      },
      "source": [
        "Here's a simple implementation of the 0-D CA I mentioned in the book, with one cell."
      ]
    },
    {
      "cell_type": "code",
      "execution_count": null,
      "metadata": {
        "tags": [],
        "id": "IH0DvlWwGwe8",
        "outputId": "89382004-abcc-45b4-f383-76c8592b38da",
        "colab": {
          "base_uri": "https://localhost:8080/"
        }
      },
      "outputs": [
        {
          "output_type": "stream",
          "name": "stdout",
          "text": [
            "[0. 0. 0. 0. 0. 0. 0. 0. 0. 0.]\n"
          ]
        }
      ],
      "source": [
        "n = 10\n",
        "x = np.zeros(n)\n",
        "print(x)"
      ]
    },
    {
      "cell_type": "markdown",
      "metadata": {
        "id": "G3_klXjZGwe9"
      },
      "source": [
        "To get the state of the cell in the next time step, we increment the current state mod 2."
      ]
    },
    {
      "cell_type": "code",
      "execution_count": null,
      "metadata": {
        "id": "B-hOdm46Gwe-",
        "outputId": "a45cc154-426f-4992-c0c5-a81fc8680bee",
        "colab": {
          "base_uri": "https://localhost:8080/"
        }
      },
      "outputs": [
        {
          "output_type": "execute_result",
          "data": {
            "text/plain": [
              "1.0"
            ]
          },
          "metadata": {},
          "execution_count": 54
        }
      ],
      "source": [
        "x[1] = (x[0] + 1) % 2\n",
        "x[1]"
      ]
    },
    {
      "cell_type": "markdown",
      "metadata": {
        "id": "R7ZzF3RoGwe-"
      },
      "source": [
        "Filling in the rest of the array."
      ]
    },
    {
      "cell_type": "code",
      "execution_count": null,
      "metadata": {
        "tags": [],
        "id": "K3gsrjfRGwe_",
        "outputId": "f2522c53-bca3-4b6d-ade0-31b667df64e1",
        "colab": {
          "base_uri": "https://localhost:8080/"
        }
      },
      "outputs": [
        {
          "output_type": "stream",
          "name": "stdout",
          "text": [
            "[0. 1. 0. 1. 0. 1. 0. 1. 0. 1.]\n"
          ]
        }
      ],
      "source": [
        "for i in range(2, n):\n",
        "    x[i] = (x[i-1] + 1) % 2\n",
        "    \n",
        "print(x)"
      ]
    },
    {
      "cell_type": "markdown",
      "metadata": {
        "id": "sGMiz_i_GwfA"
      },
      "source": [
        "So the behavior of this CA is simple: it blinks."
      ]
    },
    {
      "cell_type": "markdown",
      "metadata": {
        "id": "JyaAbDIIGwfA"
      },
      "source": [
        "## One-dimensional CA"
      ]
    },
    {
      "cell_type": "markdown",
      "metadata": {
        "id": "DXpcSZ53GwfB"
      },
      "source": [
        "Just as we used a 1-D array to show the state of a single cell over time, we'll use a 2-D array to show the state of a 1-D CA over time, with one column per cell and one row per timestep."
      ]
    },
    {
      "cell_type": "code",
      "execution_count": null,
      "metadata": {
        "tags": [],
        "id": "5WGPmFh3GwfB",
        "outputId": "65eb0301-abb9-4b31-8046-efd0cdc01c0e",
        "colab": {
          "base_uri": "https://localhost:8080/"
        }
      },
      "outputs": [
        {
          "output_type": "stream",
          "name": "stdout",
          "text": [
            "[[0 0 0 0 0 1 0 0 0 0 0]\n",
            " [0 0 0 0 0 0 0 0 0 0 0]\n",
            " [0 0 0 0 0 0 0 0 0 0 0]\n",
            " [0 0 0 0 0 0 0 0 0 0 0]\n",
            " [0 0 0 0 0 0 0 0 0 0 0]]\n"
          ]
        }
      ],
      "source": [
        "rows = 5\n",
        "cols = 11\n",
        "array = np.zeros((rows, cols), dtype=np.uint8)\n",
        "array[0, 5] = 1\n",
        "print(array)"
      ]
    },
    {
      "cell_type": "markdown",
      "metadata": {
        "id": "ghveIHLQGwfC"
      },
      "source": [
        "To plot the array I use `plt.imshow`"
      ]
    },
    {
      "cell_type": "code",
      "execution_count": null,
      "metadata": {
        "id": "W33jxNqBGwfC"
      },
      "outputs": [],
      "source": [
        "def plot_ca(array):\n",
        "    plt.imshow(array, cmap='Blues', interpolation='none')"
      ]
    },
    {
      "cell_type": "markdown",
      "metadata": {
        "id": "HF9UCC3GGwfD"
      },
      "source": [
        "Here's what it looks like after we initialize the first row."
      ]
    },
    {
      "cell_type": "code",
      "execution_count": null,
      "metadata": {
        "id": "ro_A2LxlGwfD",
        "outputId": "1602c8ed-5b2e-47d0-923f-9f53f818351d",
        "colab": {
          "base_uri": "https://localhost:8080/",
          "height": 200
        }
      },
      "outputs": [
        {
          "output_type": "display_data",
          "data": {
            "text/plain": [
              "<Figure size 432x288 with 1 Axes>"
            ],
            "image/png": "[encoded data removed]"
          },
          "metadata": {
            "needs_background": "light"
          }
        }
      ],
      "source": [
        "plot_ca(array)"
      ]
    },
    {
      "cell_type": "markdown",
      "metadata": {
        "id": "Ctye6O9NGwfD"
      },
      "source": [
        "And here's the function that fills in the next row.  The rule for this CA is to take the sum of a cell and its two neighbors mod 2."
      ]
    },
    {
      "cell_type": "code",
      "execution_count": null,
      "metadata": {
        "id": "gXeaJDydGwfE"
      },
      "outputs": [],
      "source": [
        "def step(array, i):\n",
        "    \"\"\"Compute row i of a CA.\n",
        "    \"\"\"\n",
        "    rows, cols = array.shape\n",
        "    row = array[i-1]\n",
        "    for j in range(1, cols):\n",
        "        elts = row[j-1:j+2]\n",
        "        array[i, j] = sum(elts) % 2"
      ]
    },
    {
      "cell_type": "markdown",
      "metadata": {
        "id": "YymlkdrhGwfE"
      },
      "source": [
        "Here's the second row."
      ]
    },
    {
      "cell_type": "code",
      "execution_count": null,
      "metadata": {
        "id": "Oecce7hcGwfE",
        "outputId": "2b514e0b-590a-4091-e17a-5c678cbd82b1",
        "colab": {
          "base_uri": "https://localhost:8080/",
          "height": 200
        }
      },
      "outputs": [
        {
          "output_type": "display_data",
          "data": {
            "text/plain": [
              "<Figure size 432x288 with 1 Axes>"
            ],
            "image/png": "[encoded data removed]"
          },
          "metadata": {
            "needs_background": "light"
          }
        }
      ],
      "source": [
        "step(array, 1)\n",
        "plot_ca(array)"
      ]
    },
    {
      "cell_type": "markdown",
      "metadata": {
        "id": "SDRiDWFdGwfF"
      },
      "source": [
        "And here's what it looks like with the rest of the cells filled in."
      ]
    },
    {
      "cell_type": "code",
      "execution_count": null,
      "metadata": {
        "id": "HLhIJcp9GwfF",
        "outputId": "e850b1b3-bc67-4085-87cc-82a53ee7cbc0",
        "colab": {
          "base_uri": "https://localhost:8080/",
          "height": 200
        }
      },
      "outputs": [
        {
          "output_type": "display_data",
          "data": {
            "text/plain": [
              "<Figure size 432x288 with 1 Axes>"
            ],
            "image/png": "[encoded data removed]"
          },
          "metadata": {
            "needs_background": "light"
          }
        }
      ],
      "source": [
        "for i in range(1, rows):\n",
        "    step(array, i)\n",
        "\n",
        "plot_ca(array)"
      ]
    },
    {
      "cell_type": "markdown",
      "metadata": {
        "id": "2gU08fzEGwfF"
      },
      "source": [
        "For a simple set of rules, the behavior is more interesting than you might expect."
      ]
    },
    {
      "cell_type": "markdown",
      "metadata": {
        "id": "FwoQhSJcGwfF"
      },
      "source": [
        "**Exercise:** Modify this code to increase the number of rows and columns and see what this CA does after more time steps."
      ]
    },
    {
      "cell_type": "markdown",
      "metadata": {
        "id": "VBTaLUyXGwfG"
      },
      "source": [
        "## Cross correlation"
      ]
    },
    {
      "cell_type": "markdown",
      "metadata": {
        "id": "tLATlJqvGwfG"
      },
      "source": [
        "We can update the CA more quickly using \"cross correlation\".  The cross correlation of an array, `a`, with a window, `w`, is a new array, `c`, where element `k` is:\n",
        "\n",
        "$ c_k = \\sum_{n=0}^{N-1} a_{n+k} \\cdot w_n $\n",
        "\n",
        "In Python, we can compute element `k` like this:"
      ]
    },
    {
      "cell_type": "code",
      "execution_count": null,
      "metadata": {
        "id": "hBEvNRcmGwfG"
      },
      "outputs": [],
      "source": [
        "def c_k(a, w, k):\n",
        "    \"\"\"Compute element k of the cross correlation of a and w.\n",
        "    \"\"\"\n",
        "    N = len(w)\n",
        "    return sum(a[k:k+N] * w)"
      ]
    },
    {
      "cell_type": "markdown",
      "metadata": {
        "id": "psKbLMGiGwfH"
      },
      "source": [
        "To see how this works, I'll create an array:"
      ]
    },
    {
      "cell_type": "code",
      "execution_count": null,
      "metadata": {
        "tags": [],
        "id": "A4vGf6fHGwfH",
        "outputId": "b96381b9-7d01-4018-db0f-6dd1213cf9d6",
        "colab": {
          "base_uri": "https://localhost:8080/"
        }
      },
      "outputs": [
        {
          "output_type": "stream",
          "name": "stdout",
          "text": [
            "[0 1 2 3 4 5 6 7 8 9]\n"
          ]
        }
      ],
      "source": [
        "N = 10\n",
        "row = np.arange(N, dtype=np.uint8)\n",
        "print(row)"
      ]
    },
    {
      "cell_type": "markdown",
      "metadata": {
        "id": "c-f1TJWjGwfH"
      },
      "source": [
        "And a window:"
      ]
    },
    {
      "cell_type": "code",
      "execution_count": null,
      "metadata": {
        "tags": [],
        "id": "fsjhNtJWGwfI",
        "outputId": "090ebd29-10c5-4cc5-afe6-15b79d242ca6",
        "colab": {
          "base_uri": "https://localhost:8080/"
        }
      },
      "outputs": [
        {
          "output_type": "stream",
          "name": "stdout",
          "text": [
            "[1, 1, 1]\n"
          ]
        }
      ],
      "source": [
        "window = [1, 1, 1]\n",
        "\n",
        "print(window)"
      ]
    },
    {
      "cell_type": "markdown",
      "metadata": {
        "id": "3TzzXnOlGwfI"
      },
      "source": [
        "With this window, each element of `c` is the sum of three neighbors in the array:"
      ]
    },
    {
      "cell_type": "code",
      "execution_count": null,
      "metadata": {
        "id": "OJjwmlCmGwfI",
        "outputId": "b0491fa4-6bfe-459d-ec60-dfd8095f2492",
        "colab": {
          "base_uri": "https://localhost:8080/"
        }
      },
      "outputs": [
        {
          "output_type": "execute_result",
          "data": {
            "text/plain": [
              "3"
            ]
          },
          "metadata": {},
          "execution_count": 65
        }
      ],
      "source": [
        "c_k(row, window, 0)"
      ]
    },
    {
      "cell_type": "code",
      "execution_count": null,
      "metadata": {
        "id": "GOjTpHbgGwfJ",
        "outputId": "13ba574f-3829-40a9-dcfe-108bfdc9a202",
        "colab": {
          "base_uri": "https://localhost:8080/"
        }
      },
      "outputs": [
        {
          "output_type": "execute_result",
          "data": {
            "text/plain": [
              "6"
            ]
          },
          "metadata": {},
          "execution_count": 66
        }
      ],
      "source": [
        "c_k(row, window, 1)"
      ]
    },
    {
      "cell_type": "markdown",
      "metadata": {
        "id": "SxYz0pF2GwfJ"
      },
      "source": [
        "The following function computes the elements of `c` for all values of `k` where the window can overlap with the array:"
      ]
    },
    {
      "cell_type": "code",
      "execution_count": null,
      "metadata": {
        "id": "wrermPYyGwfJ"
      },
      "outputs": [],
      "source": [
        "def correlate(row, window):\n",
        "    \"\"\"Compute the cross correlation of a and w.\n",
        "    \"\"\"\n",
        "    cols = len(row)\n",
        "    N = len(window)\n",
        "    c = [c_k(row, window, k) for k in range(cols-N+1)]\n",
        "    return np.array(c)"
      ]
    },
    {
      "cell_type": "code",
      "execution_count": null,
      "metadata": {
        "tags": [],
        "id": "ZT82l7a7GwfJ",
        "outputId": "ad85bd52-a854-4638-bc81-65a915a13bb2",
        "colab": {
          "base_uri": "https://localhost:8080/"
        }
      },
      "outputs": [
        {
          "output_type": "stream",
          "name": "stdout",
          "text": [
            "[ 3  6  9 12 15 18 21 24]\n"
          ]
        }
      ],
      "source": [
        "c = correlate(row, window)\n",
        "print(c)"
      ]
    },
    {
      "cell_type": "markdown",
      "metadata": {
        "id": "LS4xGrdUGwfK"
      },
      "source": [
        "This operation is useful in many domains, so libraries like NumPy usually provide an implementation.  Here's the version from NumPy."
      ]
    },
    {
      "cell_type": "code",
      "execution_count": null,
      "metadata": {
        "tags": [],
        "id": "YXqa7DlIGwfK",
        "outputId": "3944e8f4-885f-4966-a32b-ea9066e6c7b1",
        "colab": {
          "base_uri": "https://localhost:8080/"
        }
      },
      "outputs": [
        {
          "output_type": "stream",
          "name": "stdout",
          "text": [
            "[ 3  6  9 12 15 18 21 24]\n"
          ]
        }
      ],
      "source": [
        "c = np.correlate(row, window, mode='valid')\n",
        "print(c)"
      ]
    },
    {
      "cell_type": "markdown",
      "metadata": {
        "id": "R1H43cLrGwfK"
      },
      "source": [
        "With `mode='valid'`, the NumPy version does the same thing as mine: it only computes the elements of `c` where the window overlaps with the array.  A drawback of this mode is that the result is smaller than `array`.\n",
        "\n",
        "And alternative is `mode='same'`, which makes the result the same size as `array` by extending array with zeros on both sides.  Here's the result:"
      ]
    },
    {
      "cell_type": "code",
      "execution_count": null,
      "metadata": {
        "tags": [],
        "id": "HIh5_oHIGwfL",
        "outputId": "45d9e23a-d8d1-4b58-f086-733d10bb510a",
        "colab": {
          "base_uri": "https://localhost:8080/"
        }
      },
      "outputs": [
        {
          "output_type": "stream",
          "name": "stdout",
          "text": [
            "[ 1  3  6  9 12 15 18 21 24 17]\n"
          ]
        }
      ],
      "source": [
        "c = np.correlate(row, window, mode='same')\n",
        "print(c)"
      ]
    },
    {
      "cell_type": "markdown",
      "metadata": {
        "id": "CyQEauXTGwfL"
      },
      "source": [
        "**Exercise 1 correlate (sliding dot product)**\n",
        "\n",
        "a) Write a version of correlate that returns the same result as\n",
        "np.correlate with mode='same'.\n",
        "\n",
        "b) Notice this “pads” the row with zeros at either end, which will create a bias at the edge of the\n",
        "automata. It would be ideal if the edges “wrapped”. Update your algorithm so it pads each end of\n",
        "the row with values from the opposite end, effectively connecting the two edges of the CA.\n",
        "\n",
        "c) Lookup the documentation for the np.pad function and notice it has a “wrap” mode. Do a small\n",
        "experiment to see if np.pad(...., mode=”wrap”) works the same as your padding\n",
        "algorithm."
      ]
    },
    {
      "cell_type": "code",
      "execution_count": null,
      "metadata": {
        "id": "two8Uuf1GwfL"
      },
      "outputs": [],
      "source": [
        "# Hint: use np.pad to add zeros at the beginning and end of `row`\n"
      ]
    },
    {
      "cell_type": "code",
      "execution_count": null,
      "metadata": {
        "id": "c6tj72wmGwfM",
        "colab": {
          "base_uri": "https://localhost:8080/"
        },
        "outputId": "e553a7d3-5639-47dd-b813-57889be84da1"
      },
      "outputs": [
        {
          "output_type": "stream",
          "name": "stdout",
          "text": [
            "[0 0 1 2 3 4 5 6 7 8 9 0]\n",
            "[ 1  3  6  9 12 15 18 21 24 17]\n"
          ]
        }
      ],
      "source": [
        "\n",
        "def myCorrelate(row, window):\n",
        "    \"\"\"Compute the cross correlation of a and w.\n",
        "    \"\"\"\n",
        "    N = len(window)\n",
        "    padded_c = np.pad(row, (1,), 'constant', constant_values=(0,0))\n",
        "    cols = len(padded_c)\n",
        "    print(padded_c)\n",
        "    c = [c_k(padded_c, window, k) for k in range(cols-N+1)]\n",
        "    return np.array(c)\n",
        "\n",
        "c = myCorrelate(row, window)\n",
        "print(c)"
      ]
    },
    {
      "cell_type": "code",
      "source": [
        "#Excercise 1 (b,c)\n",
        "\n",
        "#1,\n",
        "def myExperimentalCorrelate(row, window):\n",
        "    \"\"\"Compute the cross correlation of a and w.\n",
        "    \"\"\"\n",
        "    N = len(window)\n",
        "    padded_c = np.pad(row, (1,), mode='wrap')\n",
        "    cols = len(padded_c)\n",
        "    print(padded_c)\n",
        "    c = [c_k(padded_c, window, k) for k in range(cols-N+1)]\n",
        "    return np.array(c)\n",
        "\n",
        "c = myExperimentalCorrelate(row, window)\n",
        "print(c)\n",
        "#1c \n",
        "#Results are similar to my correlate function, except for the beginning.\n"
      ],
      "metadata": {
        "colab": {
          "base_uri": "https://localhost:8080/"
        },
        "id": "S6jClQiDVIF9",
        "outputId": "67844091-2535-428d-800b-582a6e1b3a34"
      },
      "execution_count": null,
      "outputs": [
        {
          "output_type": "stream",
          "name": "stdout",
          "text": [
            "[9 0 1 2 3 4 5 6 7 8 9 0]\n",
            "[10  3  6  9 12 15 18 21 24 17]\n"
          ]
        }
      ]
    },
    {
      "cell_type": "markdown",
      "metadata": {
        "id": "JU6v7F2FGwfM"
      },
      "source": [
        "## Update with correlate\n",
        "\n",
        "Now we can use `np.correlate` to update the array.  I'll start again with an array that contains one column for each cell and one row for each time step, and I'll initialize the first row with a single \"on\" cell in the middle:"
      ]
    },
    {
      "cell_type": "code",
      "execution_count": null,
      "metadata": {
        "tags": [],
        "id": "4jTvUD9yGwfN",
        "outputId": "471138c0-0dd6-4220-d7ef-a11b6fcc8144",
        "colab": {
          "base_uri": "https://localhost:8080/"
        }
      },
      "outputs": [
        {
          "output_type": "stream",
          "name": "stdout",
          "text": [
            "[[0 0 0 0 0 1 0 0 0 0 0]\n",
            " [0 0 0 0 0 0 0 0 0 0 0]\n",
            " [0 0 0 0 0 0 0 0 0 0 0]\n",
            " [0 0 0 0 0 0 0 0 0 0 0]\n",
            " [0 0 0 0 0 0 0 0 0 0 0]]\n"
          ]
        }
      ],
      "source": [
        "rows = 5\n",
        "cols = 11\n",
        "array = np.zeros((rows, cols), dtype=np.uint8)\n",
        "array[0, 5] = 1\n",
        "print(array)"
      ]
    },
    {
      "cell_type": "markdown",
      "metadata": {
        "id": "vaNNxW2CGwfN"
      },
      "source": [
        "Now here's a version of `step` that uses `np.correlate`"
      ]
    },
    {
      "cell_type": "code",
      "execution_count": null,
      "metadata": {
        "id": "dVQiMWqTGwfN"
      },
      "outputs": [],
      "source": [
        "def step2(array, i, window=[1,1,1]):\n",
        "    \"\"\"Compute row i of a CA.\n",
        "    \"\"\"\n",
        "    row = array[i-1]\n",
        "    c = np.correlate(row, window, mode='same')\n",
        "    array[i] = c % 2"
      ]
    },
    {
      "cell_type": "markdown",
      "metadata": {
        "id": "nTfdtjMwGwfN"
      },
      "source": [
        "And the result is the same."
      ]
    },
    {
      "cell_type": "code",
      "execution_count": null,
      "metadata": {
        "id": "eKXrL2XXGwfN",
        "outputId": "827dc1f7-37e7-4fa5-bad4-9b4c556be8d9",
        "colab": {
          "base_uri": "https://localhost:8080/",
          "height": 200
        }
      },
      "outputs": [
        {
          "output_type": "display_data",
          "data": {
            "text/plain": [
              "<Figure size 432x288 with 1 Axes>"
            ],
            "image/png": "[encoded data removed]"
          },
          "metadata": {
            "needs_background": "light"
          }
        }
      ],
      "source": [
        "for i in range(1, rows):\n",
        "    step2(array, i)\n",
        "\n",
        "plot_ca(array)"
      ]
    },
    {
      "cell_type": "markdown",
      "metadata": {
        "collapsed": true,
        "id": "EfwKTuWxGwfQ"
      },
      "source": [
        "## The Cell1D object"
      ]
    },
    {
      "cell_type": "markdown",
      "metadata": {
        "id": "gwVX0ICjGwfR"
      },
      "source": [
        "`Cell1D` encapsulates the code from the previous section."
      ]
    },
    {
      "cell_type": "code",
      "execution_count": null,
      "metadata": {
        "id": "8stOQxfPGwfR"
      },
      "outputs": [],
      "source": [
        "class Cell1D:\n",
        "    \"\"\"Represents a 1-D a cellular automaton\"\"\"\n",
        "\n",
        "    def __init__(self, rule, n, m=None):\n",
        "        \"\"\"Initializes the CA.\n",
        "\n",
        "        rule: integer\n",
        "        n: number of rows\n",
        "        m: number of columns\n",
        "\n",
        "        Attributes:\n",
        "        table:  rule dictionary that maps from triple to next state.\n",
        "        array:  the numpy array that contains the data.\n",
        "        next:   the index of the next empty row.\n",
        "        \"\"\"\n",
        "        self.table = make_table(rule)\n",
        "        self.n = n\n",
        "        self.m = 2*n + 1 if m is None else m\n",
        "\n",
        "        self.array = np.zeros((n, self.m), dtype=np.int8)\n",
        "        self.next = 0\n",
        "\n",
        "    def start_single(self):\n",
        "        \"\"\"Starts with one cell in the middle of the top row.\"\"\"\n",
        "        self.array[0, self.m//2] = 1\n",
        "        self.next += 1\n",
        "\n",
        "    def start_random(self, prop):\n",
        "        \"\"\"Start with random values in the top row.\"\"\"\n",
        "        randoms = [0,1]\n",
        "        self.array[0] = np.array([int(np.random.choice(randoms, 1, p=[prop, 1-prop])) for item in range(self.m)])\n",
        "        self.next += 1\n",
        "        print(self.array)\n",
        "\n",
        "    def start_string(self, s):\n",
        "        \"\"\"Start with values from a string of 1s and 0s.\"\"\"\n",
        "        self.array[0] = np.array([int(x) for x in s])\n",
        "        self.next += 1\n",
        "\n",
        "    def loop(self, steps=1):\n",
        "        \"\"\"Executes the given number of time steps.\"\"\"\n",
        "        for i in range(steps):\n",
        "            self.step()\n",
        "\n",
        "    def step(self):\n",
        "        \"\"\"Executes one time step by computing the next row of the array.\"\"\"\n",
        "        a = self.array\n",
        "        i = self.next\n",
        "        window = [4, 2, 1]\n",
        "        c = np.correlate(a[i-1], window, mode='same')\n",
        "        a[i] = self.table[c]\n",
        "        self.next += 1\n",
        "\n",
        "    def draw(self, start=0, end=None):\n",
        "        \"\"\"Draws the CA using pyplot.imshow.\n",
        "\n",
        "        start: index of the first column to be shown\n",
        "        end: index of the last column to be shown\n",
        "        \"\"\"\n",
        "        a = self.array[:, start:end]\n",
        "        plt.imshow(a, cmap='Blues', alpha=0.7)\n",
        "        \n",
        "        # turn off axis tick marks\n",
        "        plt.xticks([])\n",
        "        plt.yticks([])"
      ]
    },
    {
      "cell_type": "markdown",
      "metadata": {
        "id": "8m6sHyRZGwfR"
      },
      "source": [
        "The following function makes and draws a CA."
      ]
    },
    {
      "cell_type": "code",
      "execution_count": null,
      "metadata": {
        "id": "2VPj1a5yGwfR"
      },
      "outputs": [],
      "source": [
        "def draw_ca(rule, n=32):\n",
        "    \"\"\"Makes and draw a 1D CA with a given rule.\n",
        "    \n",
        "    rule: int rule number\n",
        "    n: number of rows\n",
        "    \"\"\"\n",
        "    ca = Cell1D(rule, n)\n",
        "    ca.start_single()\n",
        "    ca.loop(n-1)\n",
        "    ca.draw()"
      ]
    },
    {
      "cell_type": "markdown",
      "metadata": {
        "id": "hFBwhIXoGwfR"
      },
      "source": [
        "Here's an example that runs a Rule 50 CA for 10 steps."
      ]
    },
    {
      "cell_type": "code",
      "execution_count": null,
      "metadata": {
        "id": "YzVcH491GwfS",
        "outputId": "a0222ea7-4172-4e4e-c48f-cc0f74e39fa5",
        "colab": {
          "base_uri": "https://localhost:8080/",
          "height": 194
        }
      },
      "outputs": [
        {
          "output_type": "display_data",
          "data": {
            "text/plain": [
              "<Figure size 432x288 with 1 Axes>"
            ],
            "image/png": "[encoded data removed]"
          },
          "metadata": {}
        }
      ],
      "source": [
        "draw_ca(rule=50, n=10)\n",
        "plt.show('figs/chap05-1')"
      ]
    },
    {
      "cell_type": "markdown",
      "metadata": {
        "id": "bLpn9q5AGwfS"
      },
      "source": [
        "Another example:"
      ]
    },
    {
      "cell_type": "code",
      "execution_count": null,
      "metadata": {
        "id": "IeL-pg0RGwfS",
        "outputId": "a16e3b7b-8db8-4dfa-c062-20a5f9bfd634",
        "colab": {
          "base_uri": "https://localhost:8080/",
          "height": 187
        }
      },
      "outputs": [
        {
          "output_type": "display_data",
          "data": {
            "text/plain": [
              "<Figure size 432x288 with 1 Axes>"
            ],
            "image/png": "[encoded data removed]"
          },
          "metadata": {}
        }
      ],
      "source": [
        "draw_ca(rule=150, n=5)\n",
        "\n",
        "plt.show('figs/chap05-2')"
      ]
    },
    {
      "cell_type": "markdown",
      "metadata": {
        "id": "AWI4yZSiGwfT"
      },
      "source": [
        "And one more example showing recursive structure."
      ]
    },
    {
      "cell_type": "code",
      "execution_count": null,
      "metadata": {
        "id": "noZU1jqFGwfT",
        "outputId": "cdfce74a-d011-46a1-9e92-2ef4e0d7f2ff",
        "colab": {
          "base_uri": "https://localhost:8080/",
          "height": 201
        }
      },
      "outputs": [
        {
          "output_type": "display_data",
          "data": {
            "text/plain": [
              "<Figure size 432x288 with 1 Axes>"
            ],
            "image/png": "[encoded data removed]"
          },
          "metadata": {}
        }
      ],
      "source": [
        "draw_ca(rule=18, n=64)\n",
        "\n",
        "plt.show('figs/chap05-3')"
      ]
    },
    {
      "cell_type": "markdown",
      "metadata": {
        "id": "0uQajn-WGwfT"
      },
      "source": [
        "Rule 30 generates a sequence of bits that is indistinguishable from random:"
      ]
    },
    {
      "cell_type": "code",
      "execution_count": null,
      "metadata": {
        "id": "2rMj0S8gGwfT",
        "outputId": "0d0aee57-6088-47af-f9fa-fdd07b7fe4ab",
        "colab": {
          "base_uri": "https://localhost:8080/",
          "height": 201
        }
      },
      "outputs": [
        {
          "output_type": "display_data",
          "data": {
            "text/plain": [
              "<Figure size 432x288 with 1 Axes>"
            ],
            "image/png": "[encoded data removed]"
          },
          "metadata": {}
        }
      ],
      "source": [
        "draw_ca(rule=30, n=100)\n",
        "\n",
        "plt.show('figs/chap05-4')"
      ]
    },
    {
      "cell_type": "markdown",
      "metadata": {
        "id": "8kaOJcZMGwfT"
      },
      "source": [
        "And Rule 110 is Turing complete!"
      ]
    },
    {
      "cell_type": "code",
      "execution_count": null,
      "metadata": {
        "id": "O36NbgU-GwfT",
        "outputId": "a3f0ea58-2246-4881-dc95-5ec5afd7ee69",
        "colab": {
          "base_uri": "https://localhost:8080/",
          "height": 201
        }
      },
      "outputs": [
        {
          "output_type": "display_data",
          "data": {
            "text/plain": [
              "<Figure size 432x288 with 1 Axes>"
            ],
            "image/png": "[encoded data removed]"
          },
          "metadata": {}
        }
      ],
      "source": [
        "draw_ca(rule=110, n=100)\n",
        "\n",
        "plt.show('figs/chap05-5')"
      ]
    },
    {
      "cell_type": "markdown",
      "metadata": {
        "id": "TrNRDP7HGwfU"
      },
      "source": [
        "Here's a longer run that has some spaceships."
      ]
    },
    {
      "cell_type": "code",
      "execution_count": null,
      "metadata": {
        "id": "us0GhDMJGwfU",
        "outputId": "fa3ae3d8-b131-47ef-d670-48126b62242f",
        "colab": {
          "base_uri": "https://localhost:8080/",
          "height": 323
        }
      },
      "outputs": [
        {
          "output_type": "stream",
          "name": "stdout",
          "text": [
            "[[0 0 1 ... 1 0 1]\n",
            " [0 0 0 ... 0 0 0]\n",
            " [0 0 0 ... 0 0 0]\n",
            " ...\n",
            " [0 0 0 ... 0 0 0]\n",
            " [0 0 0 ... 0 0 0]\n",
            " [0 0 0 ... 0 0 0]]\n"
          ]
        },
        {
          "output_type": "display_data",
          "data": {
            "text/plain": [
              "<Figure size 432x288 with 1 Axes>"
            ],
            "image/png": "[encoded data removed]"
          },
          "metadata": {}
        }
      ],
      "source": [
        "np.random.seed(21)\n",
        "ca = Cell1D(rule=110, n=600)\n",
        "ca.start_random(prop=0.5)\n",
        "ca.loop(n-1)\n",
        "ca.draw()\n",
        "\n",
        "plt.show('figs/chap05-6')"
      ]
    },
    {
      "cell_type": "markdown",
      "source": [
        "**Exercise 2 make_table**\n",
        "\n",
        "This function is effectively a decimal to binary conversion with 3 important constraints:\n",
        "\n",
        "a) the “bit string” output is an numpy.array of 0’s and 1’s\n",
        "\n",
        "b) the length of the output bit string is fixed – it is always 8 bits long\n",
        "\n",
        "c) the bit ordering appears “reversed” because of the way sequence are printed (with index 0 first)\n",
        "\n",
        "i.e., the lowest-order bit is at index 0 and the highest-order bit at index 7\n",
        "Develop your own version of function make_table(rule) that adheres to the same constraints, but\n",
        "does not use numpy to unpack the bits.\n",
        "\n",
        "Hints:\n",
        "- do some examples with pencil-and-paper – you can “extract” bits from an integer with the\n",
        "modulus operator, %, and you can “pop” bits off an integer with the integer divide operator, //;\n",
        "- this is a list accumulator algorithm but is not easily written as a list comprehension – try a while\n",
        "loop;\n",
        "- pad the front of the bit-string with zeros to make it the right length – try: [0] * n"
      ],
      "metadata": {
        "id": "jGDWU051IjQq"
      }
    },
    {
      "cell_type": "code",
      "execution_count": null,
      "metadata": {
        "id": "wUXyqo8aGwfU",
        "colab": {
          "base_uri": "https://localhost:8080/"
        },
        "outputId": "87bf1600-f5ef-4338-982f-57a3d9f16a14"
      },
      "outputs": [
        {
          "output_type": "stream",
          "name": "stdout",
          "text": [
            "[0 1 0 0 1 1 0 0]\n"
          ]
        }
      ],
      "source": [
        "# Excercise 2 make_table\n",
        "\n",
        "def myMake_Table(rule):\n",
        "  binString = ''\n",
        "  zero = 0\n",
        "  while rule >= 1:\n",
        "    binString = binString + str(rule%2)\n",
        "    rule = rule // 2\n",
        "\n",
        "  c = [int(item) for item in binString]\n",
        "  for i in range((abs(len(c) - 8))):\n",
        "    c.append(zero)\n",
        "  \n",
        "  d = np.array(c)\n",
        "  return d\n",
        "\n",
        "\n",
        "\n",
        "    \n",
        "z = myMake_Table(50)\n",
        "print(z)"
      ]
    },
    {
      "cell_type": "markdown",
      "source": [
        "**Exercise 3 start_random**\n",
        "\n",
        "The start_random method of Cell1D distributes on/off cells with a \"uniform distribution\", such that\n",
        "approx. half the cells are on and half off. Add a default parameter p=0.5, that distributes “on” cells\n",
        "with probability p, on [0..1]. E.g. when p=0.2, only approx. 20% of cells are randomly turned “on”.\n",
        "\n",
        "Hints:\n",
        "\n",
        "- this is neatly written as a list comprehension;\n",
        "- but needs to be returned as a np.array with dtype=np.uint8\n",
        "\n",
        "Upgrade draw_ca function so you can optionally pass in value of p. If p is None (default value),\n",
        "draw_ca works as usual. If p is not None, then ca.start_random is called with the value of p. \n"
      ],
      "metadata": {
        "id": "hv7aZjsOJVuu"
      }
    },
    {
      "cell_type": "code",
      "execution_count": null,
      "metadata": {
        "id": "ybceHW2mGwfV",
        "colab": {
          "base_uri": "https://localhost:8080/",
          "height": 202
        },
        "outputId": "1f415f1b-e0e1-4364-faab-d03898d7ceb2"
      },
      "outputs": [
        {
          "output_type": "display_data",
          "data": {
            "text/plain": [
              "<Figure size 432x288 with 1 Axes>"
            ],
            "image/png": "[encoded data removed]"
          },
          "metadata": {}
        }
      ],
      "source": [
        "\n",
        "def mydraw_ca(rule, n, p):\n",
        "    \"\"\"Makes and draw a 1D CA with a given rule.\n",
        "    \n",
        "    rule: int rule number\n",
        "    n: number of rows\n",
        "    \"\"\"\n",
        "    ca = Cell1D(rule, n)\n",
        "    if p == 'none':\n",
        "      ca.start_single()\n",
        "    else:\n",
        "      ca.start_random(p)\n",
        "\n",
        "    ca.loop(n-1)\n",
        "    ca.draw()\n",
        "    \n",
        "mydraw_ca(110, 400, 'none')\n"
      ]
    },
    {
      "cell_type": "markdown",
      "source": [
        "**Exercise 4 CA experiment**\n",
        "\n",
        "Experiment with these basic CA to identify at least 1 example from each of Wolfram’s 4 CA “classes” :\n",
        "1. rapidly converge to a uniform state.\n",
        "2. rapidly converge to a repetitive or stable state.\n",
        "3. generate non-repeating, random states.\n",
        "4. generate chaos, with areas of repetitive or stable states, but also structures that interact\n",
        "complex ways.\n",
        "Create a 2x2 grid of plots that shows an example of each class of CA side-by-side.\n",
        "Hint: plt.subplots(nrows=2, ncols=2) returns a 2x2 array of axes – see matplotlib docs.\n",
        " What does it mean that such a simple system can produce this range of behaviours?\n",
        " What lessons or conclusions might we draw about studying complex phenomena in the real\n",
        "world from our study of elementary cellular automata? \n"
      ],
      "metadata": {
        "id": "dm0U_IAUJo7G"
      }
    },
    {
      "cell_type": "code",
      "execution_count": null,
      "metadata": {
        "id": "WPXngeFxGwfV",
        "colab": {
          "base_uri": "https://localhost:8080/",
          "height": 229
        },
        "outputId": "6e9be7f2-7f96-48a5-9f0f-877bb5762c80"
      },
      "outputs": [
        {
          "output_type": "display_data",
          "data": {
            "text/plain": [
              "<Figure size 432x288 with 4 Axes>"
            ],
            "image/png": "[encoded data removed]"
          },
          "metadata": {}
        }
      ],
      "source": [
        "#Experiment 4 CA Experiment\n",
        "\n",
        "# 1. Rule 0 will rapidly converge to a uniform state.\n",
        "# 2. Rule 18 will converge to a repititive state.\n",
        "# 3. Rule 30 is a class 3 rule, generating non-repeating random states.\n",
        "# 4. Rule 110 is a class 4 rule, generating stable and non-stable areas, with areas that appear like spaceships, interacting in complex ways along each time-step.\n",
        "\n",
        "plt.subplot(2, 2, 1)\n",
        "draw_ca(rule=0, n = 100)\n",
        "\n",
        "plt.subplot(2,2,2)\n",
        "draw_ca(rule=18, n = 100)\n",
        "\n",
        "plt.subplot(2,2,3)\n",
        "draw_ca(rule=30, n = 100)\n",
        "\n",
        "plt.subplot(2,2,4)\n",
        "draw_ca(rule=110, n = 200)\n",
        "\n",
        "#This system producing these wide range of behaviours, signifies that even a simple algorithm\n",
        "#can produce complex results over time.\n",
        "\n",
        "#We can see in the real world how simple living things, such as viruses, or monocellular organisms can\n",
        "#be produced from a very simple pattern or 'seed.' \n",
        "\n",
        "\n",
        "\n"
      ]
    }
  ],
  "metadata": {
    "kernelspec": {
      "display_name": "Python 3.8.3 32-bit",
      "language": "python",
      "name": "python_defaultSpec_1593789654887"
    },
    "language_info": {
      "codemirror_mode": {
        "name": "ipython",
        "version": 3
      },
      "file_extension": ".py",
      "mimetype": "text/x-python",
      "name": "python",
      "nbconvert_exporter": "python",
      "pygments_lexer": "ipython3",
      "version": "3.7.6"
    },
    "colab": {
      "name": "Lab5-BestWork.ipynb",
      "provenance": [],
      "collapsed_sections": [],
      "include_colab_link": true
    }
  },
  "nbformat": 4,
  "nbformat_minor": 0
}