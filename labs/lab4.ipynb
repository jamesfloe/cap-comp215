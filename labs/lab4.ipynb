{
  "cells": [
    {
      "cell_type": "markdown",
      "metadata": {
        "id": "view-in-github",
        "colab_type": "text"
      },
      "source": [
        "<a href=\"https://colab.research.google.com/github/jamesfloe/cap-comp215/blob/main/lab4.ipynb\" target=\"_parent\"><img src=\"https://colab.research.google.com/assets/colab-badge.svg\" alt=\"Open In Colab\"/></a>"
      ]
    },
    {
      "cell_type": "markdown",
      "metadata": {
        "id": "Nbls4LoRJz5-"
      },
      "source": [
        "# Erdos-Renyi Graphs\n",
        "\n",
        "Code examples from [Think Complexity, 2nd edition](https://thinkcomplex.com).\n",
        "\n",
        "Copyright 2016 Allen Downey, [MIT License](http://opensource.org/licenses/MIT)"
      ]
    },
    {
      "cell_type": "code",
      "execution_count": 1,
      "metadata": {
        "tags": [],
        "id": "t0eY6RvuJz6A"
      },
      "outputs": [],
      "source": [
        "import os\n",
        "\n",
        "if not os.path.exists('utils.py'):\n",
        "    !wget https://raw.githubusercontent.com/AllenDowney/ThinkComplexity2/master/notebooks/utils.py\n",
        "\n",
        "%matplotlib inline\n",
        "import random\n",
        "import matplotlib.pyplot as plt\n",
        "import networkx as nx\n",
        "#import numpy as np\n",
        "import seaborn as sns\n",
        "\n",
        "from utils import decorate\n",
        "\n",
        "# I set the random seed so the notebook \n",
        "# produces the same results every time.\n",
        "\n",
        "\n",
        "# TODO: remove this when NetworkX is fixed\n",
        "from warnings import simplefilter\n",
        "import matplotlib.cbook\n",
        "simplefilter(\"ignore\", matplotlib.cbook.mplDeprecation)"
      ]
    },
    {
      "cell_type": "code",
      "execution_count": 2,
      "metadata": {
        "id": "vT816wPSJz6B"
      },
      "outputs": [],
      "source": [
        "# node colors for drawing networks\n",
        "colors = sns.color_palette('pastel', 5)\n",
        "#sns.palplot(colors)\n",
        "sns.set_palette(colors)"
      ]
    },
    {
      "cell_type": "markdown",
      "metadata": {
        "id": "SBSeaGZDJz6C"
      },
      "source": [
        "## Directed graph\n",
        "\n",
        "The first example is a directed graph that represents a social network with three nodes."
      ]
    },
    {
      "cell_type": "code",
      "execution_count": 3,
      "metadata": {
        "id": "3b5JL1dUJz6C",
        "outputId": "73cda11e-42c3-4875-9b90-3d5232bd8640",
        "colab": {
          "base_uri": "https://localhost:8080/"
        }
      },
      "outputs": [
        {
          "output_type": "execute_result",
          "data": {
            "text/plain": [
              "['John', 'Alice', 'Bob', 'Chuck']"
            ]
          },
          "metadata": {},
          "execution_count": 3
        }
      ],
      "source": [
        "G = nx.DiGraph()\n",
        "G.add_node('John')\n",
        "G.add_node('Alice')\n",
        "G.add_node('Bob')\n",
        "G.add_node('Chuck')\n",
        "list(G.nodes())"
      ]
    },
    {
      "cell_type": "markdown",
      "metadata": {
        "id": "LGkhdfuyJz6D"
      },
      "source": [
        "Here's how we add edges between nodes."
      ]
    },
    {
      "cell_type": "code",
      "execution_count": 4,
      "metadata": {
        "id": "DM1SuJsIJz6D",
        "outputId": "a36b4ee0-fc04-47c0-e940-0bbd258967ff",
        "colab": {
          "base_uri": "https://localhost:8080/"
        }
      },
      "outputs": [
        {
          "output_type": "execute_result",
          "data": {
            "text/plain": [
              "[('John', 'Bob'),\n",
              " ('John', 'Alice'),\n",
              " ('Alice', 'Bob'),\n",
              " ('Alice', 'Chuck'),\n",
              " ('Bob', 'Alice'),\n",
              " ('Bob', 'Chuck')]"
            ]
          },
          "metadata": {},
          "execution_count": 4
        }
      ],
      "source": [
        "G.add_edge('Alice', 'Bob')\n",
        "G.add_edge('Alice', 'Chuck')\n",
        "G.add_edge('Bob', 'Alice')\n",
        "G.add_edge('Bob', 'Chuck')\n",
        "G.add_edge('John','Bob')\n",
        "G.add_edge('John','Alice')\n",
        "list(G.edges())"
      ]
    },
    {
      "cell_type": "markdown",
      "metadata": {
        "id": "3kaBclxMJz6E"
      },
      "source": [
        "And here's how to draw the graph."
      ]
    },
    {
      "cell_type": "code",
      "execution_count": 5,
      "metadata": {
        "tags": [],
        "id": "SjbiZWGGJz6E",
        "outputId": "76cabb26-d71d-4415-93f6-d05dbd3398d6",
        "colab": {
          "base_uri": "https://localhost:8080/",
          "height": 319
        }
      },
      "outputs": [
        {
          "output_type": "display_data",
          "data": {
            "image/png": "[encoded data removed]",
            "text/plain": [
              "<Figure size 432x288 with 1 Axes>"
            ]
          },
          "metadata": {}
        }
      ],
      "source": [
        "nx.draw_circular(G,\n",
        "                 node_color='C0',\n",
        "                 node_size=2000, \n",
        "                 with_labels=True)\n",
        "plt.axis('equal')\n",
        "plt.show('figs/chap03-1')"
      ]
    },
    {
      "cell_type": "markdown",
      "metadata": {
        "id": "K3GtZ5QMJz6F"
      },
      "source": [
        "**Exercise:**  Add another node and a few more edges and draw the graph again."
      ]
    },
    {
      "cell_type": "code",
      "execution_count": 6,
      "metadata": {
        "id": "Zfl2cs4OJz6F",
        "colab": {
          "base_uri": "https://localhost:8080/",
          "height": 319
        },
        "outputId": "9fdcadcc-92cf-4fde-dc7e-35d57aa8a86b"
      },
      "outputs": [
        {
          "output_type": "display_data",
          "data": {
            "image/png": "[encoded data removed]",
            "text/plain": [
              "<Figure size 432x288 with 1 Axes>"
            ]
          },
          "metadata": {}
        }
      ],
      "source": [
        "# Solution goes here\n",
        "G.add_node('James')\n",
        "G.add_node('Antonio')\n",
        "G.add_node('Robert')\n",
        "G.add_node('Jake')\n",
        "\n",
        "G.add_edge('Antonio','James')\n",
        "G.add_edge('Robert', 'James')\n",
        "G.add_edge('Jake', 'Chuck')\n",
        "G.add_edge('Jake', 'James')\n",
        "\n",
        "nx.draw_circular(G,\n",
        "                 node_color='C0',\n",
        "                 node_size=2000, \n",
        "                 with_labels=True)\n",
        "plt.axis('equal')\n",
        "plt.show('figs/chap03-1')"
      ]
    },
    {
      "cell_type": "markdown",
      "metadata": {
        "id": "rpyImuDRJz6G"
      },
      "source": [
        "## Undirected graph\n",
        "\n",
        "The second example is an undirected graph that represents cities and the driving times between them.\n",
        "\n",
        "`positions` is a dictionary that maps from each city to its coordinates."
      ]
    },
    {
      "cell_type": "code",
      "execution_count": 7,
      "metadata": {
        "id": "HpGLjau2Jz6G",
        "outputId": "119706b7-2142-4973-bf84-e7f8998752c9",
        "colab": {
          "base_uri": "https://localhost:8080/"
        }
      },
      "outputs": [
        {
          "output_type": "stream",
          "name": "stdout",
          "text": [
            "{'Albany': (-74, 43), 'Boston': (-71, 42), 'NYC': (-74, 41), 'Philly': (-75, 40)}\n"
          ]
        },
        {
          "output_type": "execute_result",
          "data": {
            "text/plain": [
              "(-74, 43)"
            ]
          },
          "metadata": {},
          "execution_count": 7
        }
      ],
      "source": [
        "positions = dict(Albany=(-74, 43),\n",
        "                 Boston=(-71, 42),\n",
        "                 NYC=(-74, 41),\n",
        "                 Philly=(-75, 40))\n",
        "print(positions)\n",
        "\n",
        "positions['Albany']"
      ]
    },
    {
      "cell_type": "markdown",
      "metadata": {
        "id": "SNPSdB9uJz6H"
      },
      "source": [
        "We can use the keys in `pos` to add nodes to the graph."
      ]
    },
    {
      "cell_type": "code",
      "execution_count": 8,
      "metadata": {
        "id": "PW_89dZ-Jz6H",
        "outputId": "9b5611ec-2aa5-48ac-e1ed-bf7e7eba44ab",
        "colab": {
          "base_uri": "https://localhost:8080/"
        }
      },
      "outputs": [
        {
          "output_type": "execute_result",
          "data": {
            "text/plain": [
              "NodeView(('Albany', 'Boston', 'NYC', 'Philly'))"
            ]
          },
          "metadata": {},
          "execution_count": 8
        }
      ],
      "source": [
        "G = nx.Graph()\n",
        "G.add_nodes_from(positions)\n",
        "G.nodes()"
      ]
    },
    {
      "cell_type": "markdown",
      "metadata": {
        "id": "PDtuODr-Jz6H"
      },
      "source": [
        "`drive_times` is a dictionary that maps from pairs of cities to the driving times between them."
      ]
    },
    {
      "cell_type": "code",
      "execution_count": 9,
      "metadata": {
        "id": "Cz4tLiV3Jz6I"
      },
      "outputs": [],
      "source": [
        "drive_times = {('Albany', 'Boston'): 3,\n",
        "               ('Albany', 'NYC'): 4,\n",
        "               ('Boston', 'NYC'): 4,\n",
        "               ('NYC', 'Philly'): 2}"
      ]
    },
    {
      "cell_type": "markdown",
      "metadata": {
        "id": "rAQt9dwuJz6I"
      },
      "source": [
        "We can use the keys from `drive_times` to add edges to the graph."
      ]
    },
    {
      "cell_type": "code",
      "execution_count": 10,
      "metadata": {
        "id": "clbYYu8fJz6I",
        "outputId": "6fcb248a-2b0f-43e1-cbb6-27e7a0a3fed0",
        "colab": {
          "base_uri": "https://localhost:8080/"
        }
      },
      "outputs": [
        {
          "output_type": "execute_result",
          "data": {
            "text/plain": [
              "EdgeView([('Albany', 'Boston'), ('Albany', 'NYC'), ('Boston', 'NYC'), ('NYC', 'Philly')])"
            ]
          },
          "metadata": {},
          "execution_count": 10
        }
      ],
      "source": [
        "G.add_edges_from(drive_times)\n",
        "G.edges()"
      ]
    },
    {
      "cell_type": "markdown",
      "metadata": {
        "id": "1M68mZEUJz6J"
      },
      "source": [
        "Now we can draw the graph using `positions` to indicate the positions of the nodes, and `drive_times` to label the edges."
      ]
    },
    {
      "cell_type": "code",
      "execution_count": 11,
      "metadata": {
        "tags": [],
        "id": "rScniN85Jz6J",
        "outputId": "f398728a-de40-4832-c60e-13f4d928af3a",
        "colab": {
          "base_uri": "https://localhost:8080/",
          "height": 319
        }
      },
      "outputs": [
        {
          "output_type": "display_data",
          "data": {
            "image/png": "[encoded data removed]",
            "text/plain": [
              "<Figure size 432x288 with 1 Axes>"
            ]
          },
          "metadata": {}
        }
      ],
      "source": [
        "nx.draw(G, positions, \n",
        "        node_color='C1', \n",
        "        node_shape='s', \n",
        "        node_size=2500, \n",
        "        with_labels=True)\n",
        "\n",
        "nx.draw_networkx_edge_labels(G, positions, \n",
        "                             edge_labels=drive_times)\n",
        "\n",
        "plt.axis('equal')\n",
        "plt.show('figs/chap03-2')"
      ]
    },
    {
      "cell_type": "markdown",
      "metadata": {
        "id": "3uj6UgiNJz6K"
      },
      "source": [
        "**Exercise:**  Add another city and at least one edge."
      ]
    },
    {
      "cell_type": "code",
      "execution_count": 12,
      "metadata": {
        "id": "l3YLPoHQJz6K"
      },
      "outputs": [],
      "source": [
        "# Solution goes here\n",
        "G.add_node('Indianapolis', Indianapolis=(-74,44))\n",
        "G.add_edge('Indianapolis','Philly', distance=4)\n",
        "\n",
        "\n",
        "\n"
      ]
    },
    {
      "cell_type": "markdown",
      "metadata": {
        "id": "DFDQTtB4Jz6L"
      },
      "source": [
        "## Complete graph\n",
        "\n",
        "To make a complete graph, we use a generator function that iterates through all pairs of nodes."
      ]
    },
    {
      "cell_type": "code",
      "execution_count": 13,
      "metadata": {
        "id": "mQe_zOMWJz6L"
      },
      "outputs": [],
      "source": [
        "def all_pairs(nodes):\n",
        "    for i, u in enumerate(nodes):\n",
        "        for j, v in enumerate(nodes):\n",
        "            if i < j:\n",
        "                yield u, v"
      ]
    },
    {
      "cell_type": "markdown",
      "metadata": {
        "id": "hTV2HLrGJz6L"
      },
      "source": [
        "`make_complete_graph` makes a `Graph` with the given number of nodes and edges between all pairs of nodes."
      ]
    },
    {
      "cell_type": "code",
      "execution_count": 14,
      "metadata": {
        "id": "qF3pMYFAJz6M"
      },
      "outputs": [],
      "source": [
        "def make_complete_graph(n):\n",
        "    G = nx.Graph()\n",
        "    nodes = range(n)\n",
        "    G.add_nodes_from(nodes)\n",
        "    G.add_edges_from(all_pairs(nodes))\n",
        "    return G"
      ]
    },
    {
      "cell_type": "markdown",
      "metadata": {
        "id": "lYKxVEBBJz6M"
      },
      "source": [
        "Here's a complete graph with 10 nodes:"
      ]
    },
    {
      "cell_type": "code",
      "execution_count": 15,
      "metadata": {
        "id": "IQvO_OHlJz6N",
        "outputId": "cf355d2b-6235-4289-96cb-874ab24affa1",
        "colab": {
          "base_uri": "https://localhost:8080/"
        }
      },
      "outputs": [
        {
          "output_type": "execute_result",
          "data": {
            "text/plain": [
              "10"
            ]
          },
          "metadata": {},
          "execution_count": 15
        }
      ],
      "source": [
        "complete = make_complete_graph(10)\n",
        "complete.number_of_nodes()"
      ]
    },
    {
      "cell_type": "markdown",
      "metadata": {
        "id": "sJYyCFyPJz6N"
      },
      "source": [
        "And here's what it looks like."
      ]
    },
    {
      "cell_type": "code",
      "execution_count": 16,
      "metadata": {
        "tags": [],
        "id": "RXCWdhgMJz6O",
        "outputId": "d35efe86-5e99-4685-d928-7ef327909dca",
        "colab": {
          "base_uri": "https://localhost:8080/",
          "height": 319
        }
      },
      "outputs": [
        {
          "output_type": "display_data",
          "data": {
            "image/png": "[encoded data removed]",
            "text/plain": [
              "<Figure size 432x288 with 1 Axes>"
            ]
          },
          "metadata": {}
        }
      ],
      "source": [
        "nx.draw_circular(complete, \n",
        "                 node_color='C2', \n",
        "                 node_size=1000, \n",
        "                 with_labels=True)\n",
        "plt.show('figs/chap03-3')"
      ]
    },
    {
      "cell_type": "markdown",
      "metadata": {
        "id": "k3jzc37_Jz6P"
      },
      "source": [
        "The `neighbors` method the neighbors for a given node."
      ]
    },
    {
      "cell_type": "code",
      "execution_count": 17,
      "metadata": {
        "id": "dLzpwncUJz6P",
        "outputId": "2f530511-b69e-4866-a717-e9db71777e28",
        "colab": {
          "base_uri": "https://localhost:8080/"
        }
      },
      "outputs": [
        {
          "output_type": "execute_result",
          "data": {
            "text/plain": [
              "[1, 2, 3, 4, 5, 6, 7, 8, 9]"
            ]
          },
          "metadata": {},
          "execution_count": 17
        }
      ],
      "source": [
        "list(complete.neighbors(0))"
      ]
    },
    {
      "cell_type": "markdown",
      "metadata": {
        "id": "T5uNcpxlJz6Q"
      },
      "source": [
        "**Exercise:** Make and draw complete directed graph with 5 nodes."
      ]
    },
    {
      "cell_type": "code",
      "execution_count": 18,
      "metadata": {
        "id": "R_dkI7MZJz6Q",
        "colab": {
          "base_uri": "https://localhost:8080/",
          "height": 319
        },
        "outputId": "38000bfc-8e9d-45c0-c8be-3d22f3df327e"
      },
      "outputs": [
        {
          "output_type": "display_data",
          "data": {
            "image/png": "[encoded data removed]",
            "text/plain": [
              "<Figure size 432x288 with 1 Axes>"
            ]
          },
          "metadata": {}
        }
      ],
      "source": [
        "# Solution goes here\n",
        "complete1 = make_complete_graph(5)\n",
        "nx.draw_circular(complete1, \n",
        "                 node_color='C2', \n",
        "                 node_size=1000, \n",
        "                 with_labels=True)\n",
        "plt.show('figs/chap03-3')"
      ]
    },
    {
      "cell_type": "markdown",
      "metadata": {
        "id": "hYAo7DiCJz6Q"
      },
      "source": [
        "## Random graphs\n",
        "\n",
        "Next we'll make a random graph where the probability of an edge between each pair of nodes is $p$.\n",
        "\n",
        "The helper function `flip` returns True with probability `p` and False with probability `1-p`"
      ]
    },
    {
      "cell_type": "code",
      "execution_count": 19,
      "metadata": {
        "id": "PXU0HZ6nJz6R"
      },
      "outputs": [],
      "source": [
        "def flip(p):\n",
        "    return np.random.random() < p"
      ]
    },
    {
      "cell_type": "markdown",
      "metadata": {
        "id": "0cgdfhBfJz6R"
      },
      "source": [
        "`random_pairs` is a generator function that enumerates all possible pairs of nodes and yields each one with probability `p` "
      ]
    },
    {
      "cell_type": "code",
      "execution_count": 20,
      "metadata": {
        "id": "Yhw5TiRVJz6R"
      },
      "outputs": [],
      "source": [
        "def random_pairs(nodes, p):\n",
        "    for edge in all_pairs(nodes):\n",
        "        if flip(p):\n",
        "            yield edge"
      ]
    },
    {
      "cell_type": "markdown",
      "metadata": {
        "id": "IoGRKKkWJz6S"
      },
      "source": [
        "`make_random_graph` makes an ER graph where the probability of an edge between each pair of nodes is `p`."
      ]
    },
    {
      "cell_type": "code",
      "execution_count": 21,
      "metadata": {
        "id": "ma7F6iziJz6S"
      },
      "outputs": [],
      "source": [
        "def make_random_graph(n, p):\n",
        "    G = nx.Graph()\n",
        "    nodes = range(n)\n",
        "    G.add_nodes_from(nodes)\n",
        "    G.add_edges_from(random_pairs(nodes, p))\n",
        "    return G"
      ]
    },
    {
      "cell_type": "markdown",
      "metadata": {
        "id": "iteEG1HdJz6S"
      },
      "source": [
        "Here's an example with `n=10` and `p=0.3`"
      ]
    },
    {
      "cell_type": "markdown",
      "metadata": {
        "id": "SPJIvbldJz6T"
      },
      "source": [
        "And here's what it looks like:"
      ]
    },
    {
      "cell_type": "markdown",
      "metadata": {
        "id": "ojH_dQ_rJz6T"
      },
      "source": [
        "## Connectivity\n",
        "\n",
        "To check whether a graph is connected, we'll start by finding all nodes that can be reached, starting with a given node:"
      ]
    },
    {
      "cell_type": "code",
      "execution_count": 22,
      "metadata": {
        "id": "Js1nfPAPJz6T"
      },
      "outputs": [],
      "source": [
        "def reachable_nodes(G, start):\n",
        "    seen = set()\n",
        "    stack = [start]\n",
        "    while stack:\n",
        "        node = stack.pop()\n",
        "        if node not in seen:\n",
        "            seen.add(node)\n",
        "            stack.extend(G.neighbors(node))\n",
        "    return seen"
      ]
    },
    {
      "cell_type": "markdown",
      "metadata": {
        "id": "mIEl4c1XJz6U"
      },
      "source": [
        "In the complete graph, starting from node 0, we can reach all nodes:"
      ]
    },
    {
      "cell_type": "code",
      "execution_count": 23,
      "metadata": {
        "id": "MAA2c0BJJz6U",
        "outputId": "3c056ae2-0ba9-4390-cfb5-0ecc34869b0e",
        "colab": {
          "base_uri": "https://localhost:8080/"
        }
      },
      "outputs": [
        {
          "output_type": "execute_result",
          "data": {
            "text/plain": [
              "{0, 1, 2, 3, 4, 5, 6, 7, 8, 9}"
            ]
          },
          "metadata": {},
          "execution_count": 23
        }
      ],
      "source": [
        "reachable_nodes(complete, 0)\n"
      ]
    },
    {
      "cell_type": "markdown",
      "metadata": {
        "id": "Yu_KyaHBJz6U"
      },
      "source": [
        "In the random graph we generated, we can also reach all nodes (but that's not always true):"
      ]
    },
    {
      "cell_type": "markdown",
      "metadata": {
        "id": "TDO9aKKSJz6V"
      },
      "source": [
        "We can use `reachable_nodes` to check whether a graph is connected:"
      ]
    },
    {
      "cell_type": "code",
      "execution_count": 24,
      "metadata": {
        "id": "WyOpmHocJz6V"
      },
      "outputs": [],
      "source": [
        "def is_connected(G):\n",
        "    start = next(iter(G))\n",
        "    reachable = reachable_nodes(G, start)\n",
        "    return len(reachable) == len(G)"
      ]
    },
    {
      "cell_type": "markdown",
      "metadata": {
        "id": "cXrevDjoJz6W"
      },
      "source": [
        "Again, the complete graph is connected:"
      ]
    },
    {
      "cell_type": "markdown",
      "metadata": {
        "id": "GpWTLxRjJz6W"
      },
      "source": [
        "But if we generate a random graph with a low value of `p`, it's not:"
      ]
    },
    {
      "cell_type": "markdown",
      "metadata": {
        "id": "8OxwDn2jJz6X"
      },
      "source": [
        "**Exercise:** What do you think it means for a directed graph to be connected?  Write a function that checks whether a directed graph is connected."
      ]
    },
    {
      "cell_type": "code",
      "execution_count": 25,
      "metadata": {
        "id": "g6Ybm0qmJz6X",
        "colab": {
          "base_uri": "https://localhost:8080/"
        },
        "outputId": "2a577c2d-4eb3-4ce4-982c-7083d0f50569"
      },
      "outputs": [
        {
          "output_type": "stream",
          "name": "stdout",
          "text": [
            "False\n",
            "True\n"
          ]
        }
      ],
      "source": [
        "# Solution goes here\n",
        "\n",
        "def randomIsConnected(H):\n",
        "    start = next(iter(H))\n",
        "    firstLoop = reachable_nodes(H,start)\n",
        "    end = list(firstLoop)\n",
        "    secondLoop = reachable_nodes(H,end[-1])\n",
        "    return len(firstLoop) ==  len(secondLoop)\n",
        "\n",
        "H = nx.DiGraph()\n",
        "bodes = range(4)\n",
        "H.add_nodes_from(bodes)\n",
        "H.add_edge(0,1)\n",
        "H.add_edge(1,2)\n",
        "H.add_edge(2,3)\n",
        "\n",
        "Z = nx.DiGraph()\n",
        "zodes = range(4)\n",
        "Z.add_nodes_from(zodes)\n",
        "Z.add_edge(0,1)\n",
        "Z.add_edge(1,2)\n",
        "Z.add_edge(2,3)\n",
        "Z.add_edge(3,2)\n",
        "Z.add_edge(2,1)\n",
        "Z.add_edge(1,0)\n",
        "\n",
        "print(randomIsConnected(H))\n",
        "print(randomIsConnected(Z))\n",
        "\n",
        "\n"
      ]
    },
    {
      "cell_type": "markdown",
      "metadata": {
        "id": "Z4wyI36YJz6X"
      },
      "source": [
        "## Probability of connectivity\n",
        "\n",
        "Now let's estimare the probability that a randomly-generated ER graph is connected.\n",
        "\n",
        "This function takes `n` and `p`, generates `iters` graphs, and returns the fraction of them that are connected."
      ]
    },
    {
      "cell_type": "code",
      "execution_count": 26,
      "metadata": {
        "id": "UHIugJWnJz6Y"
      },
      "outputs": [],
      "source": [
        "# version with a for loop\n",
        "\n",
        "def prob_connected(n, p, iters=100):\n",
        "    count = 0\n",
        "    for i in range(iters):\n",
        "        random_graph = make_random_graph(n, p)\n",
        "        if is_connected(random_graph):\n",
        "            count += 1\n",
        "    return count/iters"
      ]
    },
    {
      "cell_type": "code",
      "execution_count": 27,
      "metadata": {
        "id": "Lvf_5J4EJz6Y"
      },
      "outputs": [],
      "source": [
        "# version with a list comprehension\n",
        "\n",
        "def prob_connected(n, p, iters=100):\n",
        "    tf = [is_connected(make_random_graph(n, p))\n",
        "          for i in range(iters)]\n",
        "    return np.mean(tf)"
      ]
    },
    {
      "cell_type": "markdown",
      "metadata": {
        "id": "Cb3eIFLBJz6Y"
      },
      "source": [
        "With `n=10` and `p=0.23`, the probability of being connected is about 33%."
      ]
    },
    {
      "cell_type": "markdown",
      "metadata": {
        "id": "68s6fYRmJz6Z"
      },
      "source": [
        "According to Erdos and Renyi, the critical value of `p` for `n=10` is about 0.23. "
      ]
    },
    {
      "cell_type": "markdown",
      "metadata": {
        "id": "Wz8MoWo7Jz6Z"
      },
      "source": [
        "So let's plot the probability of connectivity for a range of values for `p`"
      ]
    },
    {
      "cell_type": "markdown",
      "metadata": {
        "id": "7F-BjJTmJz6a"
      },
      "source": [
        "I'll estimate the probabilities with `iters=1000`"
      ]
    },
    {
      "cell_type": "markdown",
      "metadata": {
        "id": "Se2wzV-JJz6a"
      },
      "source": [
        "And then plot them, adding a vertical line at the computed critical value"
      ]
    },
    {
      "cell_type": "markdown",
      "metadata": {
        "id": "YWvo0R1HJz6b"
      },
      "source": [
        "We can run the same analysis for a few more values of `n`."
      ]
    },
    {
      "cell_type": "code",
      "execution_count": 28,
      "metadata": {
        "scrolled": false,
        "tags": [],
        "id": "nku31QXlJz6b"
      },
      "outputs": [],
      "source": [
        "#ns = [300, 100, 30]\n",
        "#ps = np.logspace(-2.5, 0, 11)\n",
        "\n",
        "#print(ps)\n",
        "#sns.set_palette('Blues_r', 4)\n",
        "#for n in ns:\n",
        "    #print(n)\n",
        "    #pstar = np.log(n) / n\n",
        "    #plt.axvline(pstar, color='gray', alpha=0.3)\n",
        "\n",
        "    #ys = [prob_connected(n, p) for p in ps]\n",
        "    #plt.plot(ps, ys, label='n=%d' % n)\n",
        "\n",
        "#decorate(xlabel='Prob of edge (p)',\n",
        "         #ylabel='Prob connected',\n",
        "         #xscale='log', \n",
        "         #xlim=[ps[0], ps[-1]],\n",
        "         #loc='upper left')\n",
        "\n",
        "#plt.show('figs/chap02-6')"
      ]
    },
    {
      "cell_type": "markdown",
      "metadata": {
        "id": "ABUpcls9Jz6b"
      },
      "source": [
        "As `n` increases, the critical value gets smaller and the transition gets more abrupt."
      ]
    },
    {
      "cell_type": "markdown",
      "metadata": {
        "id": "ZSo97LvEJz6c"
      },
      "source": [
        "## Exercises"
      ]
    },
    {
      "cell_type": "markdown",
      "metadata": {
        "id": "PjVMnn9BJz6c"
      },
      "source": [
        "**Exercise:** In Chapter 2 we analyzed the performance of `reachable_nodes` and classified it in $O(n + m)$, where $n$ is the number of nodes and $m$ is the number of edges.  Continuing the\n",
        "analysis, what is the order of growth for `is_connected`?\n",
        "\n",
        "    def is_connected(G):\n",
        "        start = list(G)[0]\n",
        "        reachable = reachable_nodes(G, start)\n",
        "        return len(reachable) == len(G)"
      ]
    },
    {
      "cell_type": "code",
      "execution_count": 29,
      "metadata": {
        "id": "nELSanAqJz6d"
      },
      "outputs": [],
      "source": [
        "# Solution goes here\n",
        "# The order of growth of is_connected is O(n+m)"
      ]
    },
    {
      "cell_type": "markdown",
      "metadata": {
        "id": "COhQ5DFzJz6d"
      },
      "source": [
        "**Exercise:** In my implementation of `reachable_nodes`, you might be bothered by the apparent inefficiency of adding *all* neighbors to the stack without checking whether they are already in `seen`.  Write a version of this function that checks the neighbors before adding them to the stack.  Does this \"optimization\" change the order of growth?  Does it make the function faster?"
      ]
    },
    {
      "cell_type": "code",
      "execution_count": 30,
      "metadata": {
        "id": "q_9cpk3yJz6d",
        "colab": {
          "base_uri": "https://localhost:8080/"
        },
        "outputId": "3bf05386-97d1-4d9e-b615-723d14cbfd56"
      },
      "outputs": [
        {
          "output_type": "execute_result",
          "data": {
            "text/plain": [
              "{0, 1, 2, 3, 4, 5, 6, 7, 8, 9}"
            ]
          },
          "metadata": {},
          "execution_count": 30
        }
      ],
      "source": [
        "def reachable_nodes_precheck(G, start):\n",
        "    seen = set()\n",
        "    stack = [start]\n",
        "    while stack:\n",
        "        node = stack.pop()\n",
        "        if node not in seen:\n",
        "            seen.add(node)\n",
        "            for i in set(G.neighbors(node)):\n",
        "                if i not in seen:\n",
        "                  stack.append(i)\n",
        "    return seen \n",
        "\n",
        "reachable_nodes_precheck(complete,0)\n",
        "\n",
        "#This will not make the function faster, it will only save you memory.\n",
        "#This is because every time you call the function, it must check through each neighbor of the selected node, individually adding it to the stack\n",
        "#if it is not in seen."
      ]
    },
    {
      "cell_type": "code",
      "execution_count": 31,
      "metadata": {
        "tags": [],
        "id": "4pbCZ7V8Jz6e",
        "outputId": "116e290d-2d3e-42ba-ba2a-1f15ee30dbf8",
        "colab": {
          "base_uri": "https://localhost:8080/"
        }
      },
      "outputs": [
        {
          "output_type": "stream",
          "name": "stdout",
          "text": [
            "10000 loops, best of 5: 17.9 µs per loop\n"
          ]
        }
      ],
      "source": [
        "%timeit len(reachable_nodes(complete, 0))"
      ]
    },
    {
      "cell_type": "code",
      "execution_count": 32,
      "metadata": {
        "tags": [],
        "id": "H-nszr1OJz6e",
        "outputId": "ae6cc183-17c0-43d9-b193-2a6227caf0f7",
        "colab": {
          "base_uri": "https://localhost:8080/"
        }
      },
      "outputs": [
        {
          "output_type": "stream",
          "name": "stdout",
          "text": [
            "10000 loops, best of 5: 22.4 µs per loop\n"
          ]
        }
      ],
      "source": [
        "%timeit len(reachable_nodes_precheck(complete, 0))"
      ]
    },
    {
      "cell_type": "markdown",
      "metadata": {
        "collapsed": true,
        "id": "Kp3cQX62Jz6e"
      },
      "source": [
        "**Exercise:** There are actually two kinds of ER graphs.  The one we generated in the chapter, $G(n, p)$, is characterized by two parameters, the number of nodes and the probability of an edge between nodes.\n",
        "\n",
        "An alternative definition, denoted $G(n, m)$, is also characterized by two parameters: the number of nodes, $n$, and the number of edges, $m$.  Under this definition, the number of edges is fixed, but their location is random.\n",
        "\n",
        "Repeat the experiments we did in this chapter using this alternative definition.  Here are a few suggestions for how to proceed:\n",
        "\n",
        "1. Write a function called `m_pairs` that takes a list of nodes and the number of edges, $m$, and returns a random selection of $m$ edges.  A simple way to do that is to generate a list of all possible edges and use `random.sample`.\n",
        "\n",
        "2. Write a function called `make_m_graph` that takes $n$ and $m$ and returns a random graph with $n$ nodes and $m$ edges.\n",
        "\n",
        "3. Make a version of `prob_connected` that uses `make_m_graph` instead of `make_random_graph`.\n",
        "\n",
        "4. Compute the probability of connectivity for a range of values of $m$.\n",
        "\n",
        "How do the results of this experiment compare to the results using the first type of ER graph?"
      ]
    },
    {
      "cell_type": "code",
      "execution_count": 94,
      "metadata": {
        "id": "F-Qd1X4uJz6f",
        "colab": {
          "base_uri": "https://localhost:8080/"
        },
        "outputId": "9ccf0f14-0f21-4132-85ec-d7208ee82fde"
      },
      "outputs": [
        {
          "output_type": "execute_result",
          "data": {
            "text/plain": [
              "[(1, 3), (3, 4), (2, 3)]"
            ]
          },
          "metadata": {},
          "execution_count": 94
        }
      ],
      "source": [
        "# Solution goes here\n",
        "\n",
        "\n",
        "def m_pairs(nodes, edges):\n",
        "  edgeList = []\n",
        "  for edge in all_pairs(nodes):\n",
        "      edgeList.append(edge)\n",
        "  if edges >= len(edgeList):\n",
        "    return edgeList\n",
        "  else:\n",
        "    return random.sample(edgeList, edges)\n",
        "\n",
        "#B = nx.Graph()\n",
        "#bodes = range(5)\n",
        "#B.add_nodes_from(bodes)\n",
        "#B.nodes\n",
        "#m_pairs(bodes,3)           "
      ]
    },
    {
      "cell_type": "code",
      "execution_count": 95,
      "metadata": {
        "id": "Of7DdytHJz6f",
        "colab": {
          "base_uri": "https://localhost:8080/"
        },
        "outputId": "3eaabfe1-d8f6-4f3c-87de-ebe4270a50ec"
      },
      "outputs": [
        {
          "output_type": "execute_result",
          "data": {
            "text/plain": [
              "NodeView((0, 1, 2, 3, 4, 5, 6))"
            ]
          },
          "metadata": {},
          "execution_count": 95
        }
      ],
      "source": [
        "# Solution goes here\n",
        "def make_m_graph(n, m):\n",
        "    G = nx.Graph()\n",
        "    nodes = range(n)\n",
        "    G.add_nodes_from(nodes)\n",
        "    G.add_edges_from(m_pairs(nodes, m))\n",
        "    return G\n",
        "  \n",
        "x = make_m_graph(7,3)\n",
        "x.nodes\n",
        "\n"
      ]
    },
    {
      "cell_type": "code",
      "execution_count": 103,
      "metadata": {
        "id": "UuqgvPDSJz6f",
        "colab": {
          "base_uri": "https://localhost:8080/",
          "height": 297
        },
        "outputId": "739ae889-130a-4276-bd56-4f88a935017b"
      },
      "outputs": [
        {
          "output_type": "display_data",
          "data": {
            "image/png": "[encoded data removed]",
            "text/plain": [
              "<Figure size 432x288 with 1 Axes>"
            ]
          },
          "metadata": {
            "needs_background": "light"
          }
        }
      ],
      "source": [
        "# Solution goes here\n",
        "\n",
        "def prob_mconnected(n, m, iters=100):\n",
        "    count = 0\n",
        "    for i in range(iters):\n",
        "        random_graph = make_m_graph(n, m)\n",
        "        if is_connected(random_graph):\n",
        "            count += 1\n",
        "    return count/iters\n",
        "\n",
        "ms = [0,5,10,50,100,200]\n",
        "ns = [100,30]\n",
        "\n",
        "\n",
        "\n",
        "sns.set_palette('Blues_r', 4)\n",
        "for n in ns:\n",
        "\n",
        "\n",
        "\n",
        "    ys = [prob_mconnected(n, m) for m in ms]\n",
        "    plt.plot(ms, ys, label='n=%d' % n)\n",
        "\n",
        "decorate(xlabel='# of edges (m)',\n",
        "         ylabel='Prob connected',\n",
        "         #xscale='log', \n",
        "         xlim=[ms[0], ms[-1]],\n",
        "         loc='upper left')\n",
        "\n",
        "plt.show('figs/chap02-6')\n",
        "\n",
        "#The results of this experiment show that the probability that an ER graph of type (n,m) increases more linearly as the # of edges increases.\n"
      ]
    },
    {
      "cell_type": "raw",
      "metadata": {
        "id": "UCUf6G_HJz6f"
      },
      "source": [
        ""
      ]
    }
  ],
  "metadata": {
    "kernelspec": {
      "display_name": "Python 3.8.3 32-bit",
      "language": "python",
      "name": "python_defaultSpec_1594390793206"
    },
    "language_info": {
      "codemirror_mode": {
        "name": "ipython",
        "version": 3
      },
      "file_extension": ".py",
      "mimetype": "text/x-python",
      "name": "python",
      "nbconvert_exporter": "python",
      "pygments_lexer": "ipython3",
      "version": "3.7.7"
    },
    "colab": {
      "name": "lab4.ipynb",
      "provenance": [],
      "collapsed_sections": [],
      "include_colab_link": true
    }
  },
  "nbformat": 4,
  "nbformat_minor": 0
}
