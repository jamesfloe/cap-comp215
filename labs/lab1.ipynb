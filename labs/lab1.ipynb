{
  "cells": [
    {
      "cell_type": "markdown",
      "metadata": {
        "id": "view-in-github",
        "colab_type": "text"
      },
      "source": [
        "<a href=\"https://colab.research.google.com/github/jamesfloe/cap-comp215/blob/main/labs/lab1.ipynb\" target=\"_parent\"><img src=\"https://colab.research.google.com/assets/colab-badge.svg\" alt=\"Open In Colab\"/></a>"
      ]
    },
    {
      "cell_type": "markdown",
      "metadata": {
        "collapsed": true,
        "pycharm": {
          "name": "#%% md\n"
        },
        "id": "UO4namhuBH3l"
      },
      "source": [
        "COMP 215 - LAB 1\n",
        "----------------\n",
        "#### Name:\n",
        "#### Date:\n",
        "This lab exercise is mostly to introduce some of the power in Jupyter Notebooks.\n",
        "Note that a Notebook is composed of \"cells\" - some are \"text\", like this one, while others are \"code\"\n",
        "\n",
        "The code cell below simply imports all the modules we'll be using..."
      ]
    },
    {
      "cell_type": "code",
      "source": [
        "import datetime, json, requests\n",
        "import matplotlib.pyplot as plt\n",
        "import  matplotlib.dates as mdates\n",
        "from pprint import pprint"
      ],
      "metadata": {
        "pycharm": {
          "name": "#%%\n"
        },
        "id": "DqSJNdSdBH3n"
      },
      "execution_count": 1,
      "outputs": []
    },
    {
      "cell_type": "markdown",
      "source": [
        "Now, let's fetch some Covid-19 daily case-count data from:  https://opencovid.ca/api/\n",
        "\n",
        "Query:\n",
        "  - `stat=cases`        # the type of data to fetch\n",
        "  - `loc=BC`            # the location to fetch data for\n",
        "  - `after=01-12-2021`  # since the 1st of december (note date format:  dd-mm-yyyy)"
      ],
      "metadata": {
        "collapsed": false,
        "id": "0rnf67FTBH3p"
      }
    },
    {
      "cell_type": "code",
      "execution_count": 2,
      "outputs": [
        {
          "output_type": "stream",
          "name": "stdout",
          "text": [
            "{\"cases\":[{\"cases\":386,\"cumulative_cases\":218812,\"date_report\":\"01-12-2021\",\"province\":\"BC\"},{\"cases\":368,\"cumulative_cases\":219180,\"date_report\":\"02-12-2021\",\"province\":\"BC\"},{\"cases\":404,\"cumulative_cases\":219584,\"date_report\":\"03-12-2021\",\"province\":\"BC\"},{\"cases\":0,\"cumulative_cases\":219584,\"date_report\":\"04-12-2021\",\"province\":\"BC\"},{\"cases\":0,\"cumulative_cases\":219584,\"date_report\":\"05-12-2021\",\"province\":\"BC\"},{\"cases\":946,\"cumulative_cases\":220530,\"date_report\":\"06-12-2021\",\"province\":\"BC\"},{\"cases\":326,\"cumulative_cases\":220856,\"date_report\":\"07-12-2021\",\"province\":\"BC\"},{\"cases\":379,\"cumulative_cases\":221235,\"date_report\":\"08-12-2021\",\"province\":\"BC\"},{\"cases\":341,\"cumulative_cases\":221576,\"date_report\":\"09-12-2021\",\"province\":\"BC\"},{\"cases\":437,\"cumulative_cases\":222013,\"date_report\":\"10-12-2021\",\"province\":\"BC\"},{\"cases\":0,\"cumulative_cases\":222013,\"date_report\":\"11-12-2021\",\"province\":\"BC\"},{\"cases\":0,\"cumulative_cases\":222013,\"date_report\":\"12-12-2021\",\"province\":\"BC\"},{\"cases\":1129,\"cumulative_cases\":223142,\"date_report\":\"13-12-2021\",\"province\":\"BC\"},{\"cases\":519,\"cumulative_cases\":223661,\"date_report\":\"14-12-2021\",\"province\":\"BC\"},{\"cases\":584,\"cumulative_cases\":224245,\"date_report\":\"15-12-2021\",\"province\":\"BC\"},{\"cases\":753,\"cumulative_cases\":224998,\"date_report\":\"16-12-2021\",\"province\":\"BC\"},{\"cases\":787,\"cumulative_cases\":225785,\"date_report\":\"17-12-2021\",\"province\":\"BC\"},{\"cases\":0,\"cumulative_cases\":225785,\"date_report\":\"18-12-2021\",\"province\":\"BC\"},{\"cases\":0,\"cumulative_cases\":225785,\"date_report\":\"19-12-2021\",\"province\":\"BC\"},{\"cases\":2550,\"cumulative_cases\":228335,\"date_report\":\"20-12-2021\",\"province\":\"BC\"},{\"cases\":1308,\"cumulative_cases\":229643,\"date_report\":\"21-12-2021\",\"province\":\"BC\"},{\"cases\":1528,\"cumulative_cases\":231171,\"date_report\":\"22-12-2021\",\"province\":\"BC\"},{\"cases\":2046,\"cumulative_cases\":233217,\"date_report\":\"23-12-2021\",\"province\":\"BC\"},{\"cases\":2441,\"cumulative_cases\":235658,\"date_report\":\"24-12-2021\",\"province\":\"BC\"},{\"cases\":2545,\"cumulative_cases\":238203,\"date_report\":\"25-12-2021\",\"province\":\"BC\"},{\"cases\":2021,\"cumulative_cases\":240224,\"date_report\":\"26-12-2021\",\"province\":\"BC\"},{\"cases\":1708,\"cumulative_cases\":241932,\"date_report\":\"27-12-2021\",\"province\":\"BC\"},{\"cases\":1795,\"cumulative_cases\":243727,\"date_report\":\"28-12-2021\",\"province\":\"BC\"},{\"cases\":2944,\"cumulative_cases\":246671,\"date_report\":\"29-12-2021\",\"province\":\"BC\"},{\"cases\":4383,\"cumulative_cases\":251054,\"date_report\":\"30-12-2021\",\"province\":\"BC\"},{\"cases\":3795,\"cumulative_cases\":254849,\"date_report\":\"31-12-2021\",\"province\":\"BC\"},{\"cases\":0,\"cumulative_cases\":254849,\"date_report\":\"01-01-2022\",\"province\":\"BC\"},{\"cases\":0,\"cumulative_cases\":254849,\"date_report\":\"02-01-2022\",\"province\":\"BC\"},{\"cases\":9332,\"cumulative_cases\":264181,\"date_report\":\"03-01-2022\",\"province\":\"BC\"},{\"cases\":2529,\"cumulative_cases\":266710,\"date_report\":\"04-01-2022\",\"province\":\"BC\"},{\"cases\":3798,\"cumulative_cases\":270508,\"date_report\":\"05-01-2022\",\"province\":\"BC\"},{\"cases\":3223,\"cumulative_cases\":273731,\"date_report\":\"06-01-2022\",\"province\":\"BC\"},{\"cases\":3144,\"cumulative_cases\":276875,\"date_report\":\"07-01-2022\",\"province\":\"BC\"},{\"cases\":0,\"cumulative_cases\":276875,\"date_report\":\"08-01-2022\",\"province\":\"BC\"},{\"cases\":0,\"cumulative_cases\":276875,\"date_report\":\"09-01-2022\",\"province\":\"BC\"},{\"cases\":6966,\"cumulative_cases\":283841,\"date_report\":\"10-01-2022\",\"province\":\"BC\"},{\"cases\":2239,\"cumulative_cases\":286080,\"date_report\":\"11-01-2022\",\"province\":\"BC\"},{\"cases\":2612,\"cumulative_cases\":288692,\"date_report\":\"12-01-2022\",\"province\":\"BC\"},{\"cases\":2554,\"cumulative_cases\":291246,\"date_report\":\"13-01-2022\",\"province\":\"BC\"},{\"cases\":2275,\"cumulative_cases\":293521,\"date_report\":\"14-01-2022\",\"province\":\"BC\"},{\"cases\":0,\"cumulative_cases\":293521,\"date_report\":\"15-01-2022\",\"province\":\"BC\"},{\"cases\":0,\"cumulative_cases\":293521,\"date_report\":\"16-01-2022\",\"province\":\"BC\"},{\"cases\":5625,\"cumulative_cases\":299146,\"date_report\":\"17-01-2022\",\"province\":\"BC\"},{\"cases\":2032,\"cumulative_cases\":301178,\"date_report\":\"18-01-2022\",\"province\":\"BC\"},{\"cases\":2387,\"cumulative_cases\":303565,\"date_report\":\"19-01-2022\",\"province\":\"BC\"},{\"cases\":2150,\"cumulative_cases\":305715,\"date_report\":\"20-01-2022\",\"province\":\"BC\"},{\"cases\":2364,\"cumulative_cases\":308079,\"date_report\":\"21-01-2022\",\"province\":\"BC\"},{\"cases\":0,\"cumulative_cases\":308079,\"date_report\":\"22-01-2022\",\"province\":\"BC\"},{\"cases\":0,\"cumulative_cases\":308079,\"date_report\":\"23-01-2022\",\"province\":\"BC\"}]}\n",
            "\n"
          ]
        }
      ],
      "source": [
        "query = 'https://api.opencovid.ca/timeseries?stat=cases&loc=BC&after=01-12-2021'\n",
        "\n",
        "response = requests.request(\"GET\", query, headers={}, data={})\n",
        "print(response.text)"
      ],
      "metadata": {
        "pycharm": {
          "name": "#%%\n"
        },
        "id": "Al2T68b2BH3p",
        "outputId": "7c665fe1-1f69-49aa-8b58-ba1e9357164a",
        "colab": {
          "base_uri": "https://localhost:8080/"
        }
      }
    },
    {
      "cell_type": "markdown",
      "source": [
        "Notice that the response is just a string of text (most data is exchanged on the web as plain text!)\n",
        "\n",
        "The `json.loads` function \"parses\" such text and loads the data into a dictionary..."
      ],
      "metadata": {
        "collapsed": false,
        "pycharm": {
          "name": "#%% md\n"
        },
        "id": "np4HQTmABH3q"
      }
    },
    {
      "cell_type": "code",
      "execution_count": 3,
      "outputs": [
        {
          "output_type": "stream",
          "name": "stdout",
          "text": [
            "{'cases': [{'cases': 386,\n",
            "            'cumulative_cases': 218812,\n",
            "            'date_report': '01-12-2021',\n",
            "            'province': 'BC'},\n",
            "           {'cases': 368,\n",
            "            'cumulative_cases': 219180,\n",
            "            'date_report': '02-12-2021',\n",
            "            'province': 'BC'},\n",
            "           {'cases': 404,\n",
            "            'cumulative_cases': 219584,\n",
            "            'date_report': '03-12-2021',\n",
            "            'province': 'BC'},\n",
            "           {'cases': 0,\n",
            "            'cumulative_cases': 219584,\n",
            "            'date_report': '04-12-2021',\n",
            "            'province': 'BC'},\n",
            "           {'cases': 0,\n",
            "            'cumulative_cases': 219584,\n",
            "            'date_report': '05-12-2021',\n",
            "            'province': 'BC'},\n",
            "           {'cases': 946,\n",
            "            'cumulative_cases': 220530,\n",
            "            'date_report': '06-12-2021',\n",
            "            'province': 'BC'},\n",
            "           {'cases': 326,\n",
            "            'cumulative_cases': 220856,\n",
            "            'date_report': '07-12-2021',\n",
            "            'province': 'BC'},\n",
            "           {'cases': 379,\n",
            "            'cumulative_cases': 221235,\n",
            "            'date_report': '08-12-2021',\n",
            "            'province': 'BC'},\n",
            "           {'cases': 341,\n",
            "            'cumulative_cases': 221576,\n",
            "            'date_report': '09-12-2021',\n",
            "            'province': 'BC'},\n",
            "           {'cases': 437,\n",
            "            'cumulative_cases': 222013,\n",
            "            'date_report': '10-12-2021',\n",
            "            'province': 'BC'},\n",
            "           {'cases': 0,\n",
            "            'cumulative_cases': 222013,\n",
            "            'date_report': '11-12-2021',\n",
            "            'province': 'BC'},\n",
            "           {'cases': 0,\n",
            "            'cumulative_cases': 222013,\n",
            "            'date_report': '12-12-2021',\n",
            "            'province': 'BC'},\n",
            "           {'cases': 1129,\n",
            "            'cumulative_cases': 223142,\n",
            "            'date_report': '13-12-2021',\n",
            "            'province': 'BC'},\n",
            "           {'cases': 519,\n",
            "            'cumulative_cases': 223661,\n",
            "            'date_report': '14-12-2021',\n",
            "            'province': 'BC'},\n",
            "           {'cases': 584,\n",
            "            'cumulative_cases': 224245,\n",
            "            'date_report': '15-12-2021',\n",
            "            'province': 'BC'},\n",
            "           {'cases': 753,\n",
            "            'cumulative_cases': 224998,\n",
            "            'date_report': '16-12-2021',\n",
            "            'province': 'BC'},\n",
            "           {'cases': 787,\n",
            "            'cumulative_cases': 225785,\n",
            "            'date_report': '17-12-2021',\n",
            "            'province': 'BC'},\n",
            "           {'cases': 0,\n",
            "            'cumulative_cases': 225785,\n",
            "            'date_report': '18-12-2021',\n",
            "            'province': 'BC'},\n",
            "           {'cases': 0,\n",
            "            'cumulative_cases': 225785,\n",
            "            'date_report': '19-12-2021',\n",
            "            'province': 'BC'},\n",
            "           {'cases': 2550,\n",
            "            'cumulative_cases': 228335,\n",
            "            'date_report': '20-12-2021',\n",
            "            'province': 'BC'},\n",
            "           {'cases': 1308,\n",
            "            'cumulative_cases': 229643,\n",
            "            'date_report': '21-12-2021',\n",
            "            'province': 'BC'},\n",
            "           {'cases': 1528,\n",
            "            'cumulative_cases': 231171,\n",
            "            'date_report': '22-12-2021',\n",
            "            'province': 'BC'},\n",
            "           {'cases': 2046,\n",
            "            'cumulative_cases': 233217,\n",
            "            'date_report': '23-12-2021',\n",
            "            'province': 'BC'},\n",
            "           {'cases': 2441,\n",
            "            'cumulative_cases': 235658,\n",
            "            'date_report': '24-12-2021',\n",
            "            'province': 'BC'},\n",
            "           {'cases': 2545,\n",
            "            'cumulative_cases': 238203,\n",
            "            'date_report': '25-12-2021',\n",
            "            'province': 'BC'},\n",
            "           {'cases': 2021,\n",
            "            'cumulative_cases': 240224,\n",
            "            'date_report': '26-12-2021',\n",
            "            'province': 'BC'},\n",
            "           {'cases': 1708,\n",
            "            'cumulative_cases': 241932,\n",
            "            'date_report': '27-12-2021',\n",
            "            'province': 'BC'},\n",
            "           {'cases': 1795,\n",
            "            'cumulative_cases': 243727,\n",
            "            'date_report': '28-12-2021',\n",
            "            'province': 'BC'},\n",
            "           {'cases': 2944,\n",
            "            'cumulative_cases': 246671,\n",
            "            'date_report': '29-12-2021',\n",
            "            'province': 'BC'},\n",
            "           {'cases': 4383,\n",
            "            'cumulative_cases': 251054,\n",
            "            'date_report': '30-12-2021',\n",
            "            'province': 'BC'},\n",
            "           {'cases': 3795,\n",
            "            'cumulative_cases': 254849,\n",
            "            'date_report': '31-12-2021',\n",
            "            'province': 'BC'},\n",
            "           {'cases': 0,\n",
            "            'cumulative_cases': 254849,\n",
            "            'date_report': '01-01-2022',\n",
            "            'province': 'BC'},\n",
            "           {'cases': 0,\n",
            "            'cumulative_cases': 254849,\n",
            "            'date_report': '02-01-2022',\n",
            "            'province': 'BC'},\n",
            "           {'cases': 9332,\n",
            "            'cumulative_cases': 264181,\n",
            "            'date_report': '03-01-2022',\n",
            "            'province': 'BC'},\n",
            "           {'cases': 2529,\n",
            "            'cumulative_cases': 266710,\n",
            "            'date_report': '04-01-2022',\n",
            "            'province': 'BC'},\n",
            "           {'cases': 3798,\n",
            "            'cumulative_cases': 270508,\n",
            "            'date_report': '05-01-2022',\n",
            "            'province': 'BC'},\n",
            "           {'cases': 3223,\n",
            "            'cumulative_cases': 273731,\n",
            "            'date_report': '06-01-2022',\n",
            "            'province': 'BC'},\n",
            "           {'cases': 3144,\n",
            "            'cumulative_cases': 276875,\n",
            "            'date_report': '07-01-2022',\n",
            "            'province': 'BC'},\n",
            "           {'cases': 0,\n",
            "            'cumulative_cases': 276875,\n",
            "            'date_report': '08-01-2022',\n",
            "            'province': 'BC'},\n",
            "           {'cases': 0,\n",
            "            'cumulative_cases': 276875,\n",
            "            'date_report': '09-01-2022',\n",
            "            'province': 'BC'},\n",
            "           {'cases': 6966,\n",
            "            'cumulative_cases': 283841,\n",
            "            'date_report': '10-01-2022',\n",
            "            'province': 'BC'},\n",
            "           {'cases': 2239,\n",
            "            'cumulative_cases': 286080,\n",
            "            'date_report': '11-01-2022',\n",
            "            'province': 'BC'},\n",
            "           {'cases': 2612,\n",
            "            'cumulative_cases': 288692,\n",
            "            'date_report': '12-01-2022',\n",
            "            'province': 'BC'},\n",
            "           {'cases': 2554,\n",
            "            'cumulative_cases': 291246,\n",
            "            'date_report': '13-01-2022',\n",
            "            'province': 'BC'},\n",
            "           {'cases': 2275,\n",
            "            'cumulative_cases': 293521,\n",
            "            'date_report': '14-01-2022',\n",
            "            'province': 'BC'},\n",
            "           {'cases': 0,\n",
            "            'cumulative_cases': 293521,\n",
            "            'date_report': '15-01-2022',\n",
            "            'province': 'BC'},\n",
            "           {'cases': 0,\n",
            "            'cumulative_cases': 293521,\n",
            "            'date_report': '16-01-2022',\n",
            "            'province': 'BC'},\n",
            "           {'cases': 5625,\n",
            "            'cumulative_cases': 299146,\n",
            "            'date_report': '17-01-2022',\n",
            "            'province': 'BC'},\n",
            "           {'cases': 2032,\n",
            "            'cumulative_cases': 301178,\n",
            "            'date_report': '18-01-2022',\n",
            "            'province': 'BC'},\n",
            "           {'cases': 2387,\n",
            "            'cumulative_cases': 303565,\n",
            "            'date_report': '19-01-2022',\n",
            "            'province': 'BC'},\n",
            "           {'cases': 2150,\n",
            "            'cumulative_cases': 305715,\n",
            "            'date_report': '20-01-2022',\n",
            "            'province': 'BC'},\n",
            "           {'cases': 2364,\n",
            "            'cumulative_cases': 308079,\n",
            "            'date_report': '21-01-2022',\n",
            "            'province': 'BC'},\n",
            "           {'cases': 0,\n",
            "            'cumulative_cases': 308079,\n",
            "            'date_report': '22-01-2022',\n",
            "            'province': 'BC'},\n",
            "           {'cases': 0,\n",
            "            'cumulative_cases': 308079,\n",
            "            'date_report': '23-01-2022',\n",
            "            'province': 'BC'}]}\n"
          ]
        }
      ],
      "source": [
        "result = json.loads(response.text)\n",
        "pprint(result) # remove this comment and re-run this cell to see the resulting dictionary"
      ],
      "metadata": {
        "pycharm": {
          "name": "#%%\n"
        },
        "id": "M5wV1C_0BH3q",
        "outputId": "24adb0c1-76ab-4e17-9cef-20c6b9fe157c",
        "colab": {
          "base_uri": "https://localhost:8080/"
        }
      }
    },
    {
      "cell_type": "markdown",
      "source": [
        "Next we use \"list comprehension\" to extract the list of dates and associated cases into \"parallel lists\"\n",
        "\n",
        "Notice how we convert the date strings, using strptime, into a real date objects so they are easier to work with (format: dd-mm-yyyy)"
      ],
      "metadata": {
        "collapsed": false,
        "pycharm": {
          "name": "#%% md\n"
        },
        "id": "dAXX9kuZBH3r"
      }
    },
    {
      "cell_type": "code",
      "execution_count": 4,
      "outputs": [
        {
          "output_type": "stream",
          "name": "stdout",
          "text": [
            "[datetime.date(2021, 12, 1), datetime.date(2021, 12, 2), datetime.date(2021, 12, 3), datetime.date(2021, 12, 4), datetime.date(2021, 12, 5), datetime.date(2021, 12, 6), datetime.date(2021, 12, 7), datetime.date(2021, 12, 8), datetime.date(2021, 12, 9), datetime.date(2021, 12, 10), datetime.date(2021, 12, 11), datetime.date(2021, 12, 12), datetime.date(2021, 12, 13), datetime.date(2021, 12, 14), datetime.date(2021, 12, 15), datetime.date(2021, 12, 16), datetime.date(2021, 12, 17), datetime.date(2021, 12, 18), datetime.date(2021, 12, 19), datetime.date(2021, 12, 20), datetime.date(2021, 12, 21), datetime.date(2021, 12, 22), datetime.date(2021, 12, 23), datetime.date(2021, 12, 24), datetime.date(2021, 12, 25), datetime.date(2021, 12, 26), datetime.date(2021, 12, 27), datetime.date(2021, 12, 28), datetime.date(2021, 12, 29), datetime.date(2021, 12, 30), datetime.date(2021, 12, 31), datetime.date(2022, 1, 1), datetime.date(2022, 1, 2), datetime.date(2022, 1, 3), datetime.date(2022, 1, 4), datetime.date(2022, 1, 5), datetime.date(2022, 1, 6), datetime.date(2022, 1, 7), datetime.date(2022, 1, 8), datetime.date(2022, 1, 9), datetime.date(2022, 1, 10), datetime.date(2022, 1, 11), datetime.date(2022, 1, 12), datetime.date(2022, 1, 13), datetime.date(2022, 1, 14), datetime.date(2022, 1, 15), datetime.date(2022, 1, 16), datetime.date(2022, 1, 17), datetime.date(2022, 1, 18), datetime.date(2022, 1, 19), datetime.date(2022, 1, 20), datetime.date(2022, 1, 21), datetime.date(2022, 1, 22), datetime.date(2022, 1, 23)]\n",
            "[386, 368, 404, 0, 0, 946, 326, 379, 341, 437, 0, 0, 1129, 519, 584, 753, 787, 0, 0, 2550, 1308, 1528, 2046, 2441, 2545, 2021, 1708, 1795, 2944, 4383, 3795, 0, 0, 9332, 2529, 3798, 3223, 3144, 0, 0, 6966, 2239, 2612, 2554, 2275, 0, 0, 5625, 2032, 2387, 2150, 2364, 0, 0]\n",
            "['01-12-2021', '02-12-2021', '03-12-2021', '04-12-2021', '05-12-2021', '06-12-2021', '07-12-2021', '08-12-2021', '09-12-2021', '10-12-2021', '11-12-2021', '12-12-2021', '13-12-2021', '14-12-2021', '15-12-2021', '16-12-2021', '17-12-2021', '18-12-2021', '19-12-2021', '20-12-2021', '21-12-2021', '22-12-2021', '23-12-2021', '24-12-2021', '25-12-2021', '26-12-2021', '27-12-2021', '28-12-2021', '29-12-2021', '30-12-2021', '31-12-2021', '01-01-2022', '02-01-2022', '03-01-2022', '04-01-2022', '05-01-2022', '06-01-2022', '07-01-2022', '08-01-2022', '09-01-2022', '10-01-2022', '11-01-2022', '12-01-2022', '13-01-2022', '14-01-2022', '15-01-2022', '16-01-2022', '17-01-2022', '18-01-2022', '19-01-2022', '20-01-2022', '21-01-2022', '22-01-2022', '23-01-2022']\n"
          ]
        }
      ],
      "source": [
        "date_strings = [daily['date_report'] for daily in result['cases']]\n",
        "dates = [datetime.datetime.strptime(date, '%d-%m-%Y').date() for date in date_strings]\n",
        "cases = [daily['cases'] for daily in result['cases']]\n",
        "print(dates)\n",
        "print(cases)\n",
        "print(date_strings)"
      ],
      "metadata": {
        "pycharm": {
          "name": "#%%\n"
        },
        "id": "JOFe4vNCBH3s",
        "outputId": "add6b5a5-6fc4-4a5f-c553-ba4551742b14",
        "colab": {
          "base_uri": "https://localhost:8080/"
        }
      }
    },
    {
      "cell_type": "markdown",
      "source": [
        "## Exercise 1\n",
        "\n",
        "In the code cell below, re-write each of the 3 \"list comprehensions\" above as a loop so you understand how they work.\n",
        "\n",
        "Notice that a \"list comprehension\" is a compact way to write a \"list accumlator\" algorithm (and more efficient too!)"
      ],
      "metadata": {
        "collapsed": false,
        "pycharm": {
          "name": "#%% md\n"
        },
        "id": "koVKiju9BH3s"
      }
    },
    {
      "cell_type": "code",
      "execution_count": 5,
      "outputs": [
        {
          "output_type": "stream",
          "name": "stdout",
          "text": [
            "[datetime.date(2021, 12, 1), datetime.date(2021, 12, 2), datetime.date(2021, 12, 3), datetime.date(2021, 12, 4), datetime.date(2021, 12, 5), datetime.date(2021, 12, 6), datetime.date(2021, 12, 7), datetime.date(2021, 12, 8), datetime.date(2021, 12, 9), datetime.date(2021, 12, 10), datetime.date(2021, 12, 11), datetime.date(2021, 12, 12), datetime.date(2021, 12, 13), datetime.date(2021, 12, 14), datetime.date(2021, 12, 15), datetime.date(2021, 12, 16), datetime.date(2021, 12, 17), datetime.date(2021, 12, 18), datetime.date(2021, 12, 19), datetime.date(2021, 12, 20), datetime.date(2021, 12, 21), datetime.date(2021, 12, 22), datetime.date(2021, 12, 23), datetime.date(2021, 12, 24), datetime.date(2021, 12, 25), datetime.date(2021, 12, 26), datetime.date(2021, 12, 27), datetime.date(2021, 12, 28), datetime.date(2021, 12, 29), datetime.date(2021, 12, 30), datetime.date(2021, 12, 31), datetime.date(2022, 1, 1), datetime.date(2022, 1, 2), datetime.date(2022, 1, 3), datetime.date(2022, 1, 4), datetime.date(2022, 1, 5), datetime.date(2022, 1, 6), datetime.date(2022, 1, 7), datetime.date(2022, 1, 8), datetime.date(2022, 1, 9), datetime.date(2022, 1, 10), datetime.date(2022, 1, 11), datetime.date(2022, 1, 12), datetime.date(2022, 1, 13), datetime.date(2022, 1, 14), datetime.date(2022, 1, 15), datetime.date(2022, 1, 16), datetime.date(2022, 1, 17), datetime.date(2022, 1, 18), datetime.date(2022, 1, 19), datetime.date(2022, 1, 20), datetime.date(2022, 1, 21), datetime.date(2022, 1, 22), datetime.date(2022, 1, 23)]\n",
            "[386, 368, 404, 0, 0, 946, 326, 379, 341, 437, 0, 0, 1129, 519, 584, 753, 787, 0, 0, 2550, 1308, 1528, 2046, 2441, 2545, 2021, 1708, 1795, 2944, 4383, 3795, 0, 0, 9332, 2529, 3798, 3223, 3144, 0, 0, 6966, 2239, 2612, 2554, 2275, 0, 0, 5625, 2032, 2387, 2150, 2364, 0, 0]\n",
            "['01-12-2021', '02-12-2021', '03-12-2021', '04-12-2021', '05-12-2021', '06-12-2021', '07-12-2021', '08-12-2021', '09-12-2021', '10-12-2021', '11-12-2021', '12-12-2021', '13-12-2021', '14-12-2021', '15-12-2021', '16-12-2021', '17-12-2021', '18-12-2021', '19-12-2021', '20-12-2021', '21-12-2021', '22-12-2021', '23-12-2021', '24-12-2021', '25-12-2021', '26-12-2021', '27-12-2021', '28-12-2021', '29-12-2021', '30-12-2021', '31-12-2021', '01-01-2022', '02-01-2022', '03-01-2022', '04-01-2022', '05-01-2022', '06-01-2022', '07-01-2022', '08-01-2022', '09-01-2022', '10-01-2022', '11-01-2022', '12-01-2022', '13-01-2022', '14-01-2022', '15-01-2022', '16-01-2022', '17-01-2022', '18-01-2022', '19-01-2022', '20-01-2022', '21-01-2022', '22-01-2022', '23-01-2022']\n"
          ]
        }
      ],
      "source": [
        "date_strings = []\n",
        "dates = []\n",
        "cases = []\n",
        "\n",
        "\n",
        "for daily in result['cases']:\n",
        "    date_strings.append(daily['date_report'])\n",
        "    dates.append(datetime.datetime.strptime(daily['date_report'], '%d-%m-%Y').date())\n",
        "    cases.append(daily['cases'])\n",
        "\n",
        "    \n",
        "print(dates)\n",
        "print(cases)\n",
        "print(date_strings)\n",
        "\n",
        "\n",
        "    \n"
      ],
      "metadata": {
        "pycharm": {
          "name": "#%%\n"
        },
        "id": "aa5xLcWEBH3t",
        "outputId": "23d9d09f-3d23-488d-a449-a737217c0c75",
        "colab": {
          "base_uri": "https://localhost:8080/"
        }
      }
    },
    {
      "cell_type": "markdown",
      "source": [
        "Finally, we'll plot the (dates,cases) data as a nice x-y line graph.\n",
        "\n",
        "The code to format the x-axis labels is taken from https://matplotlib.org/stable/gallery/ticks/date_concise_formatter.html\n",
        "\n"
      ],
      "metadata": {
        "collapsed": false,
        "id": "2ow28BuTBH3u"
      }
    },
    {
      "cell_type": "code",
      "execution_count": 6,
      "outputs": [
        {
          "output_type": "display_data",
          "data": {
            "image/png": "[encoded data removed]",
            "text/plain": [
              "<Figure size 432x288 with 1 Axes>"
            ]
          },
          "metadata": {
            "needs_background": "light"
          }
        }
      ],
      "source": [
        "def format_date_axis(ax):\n",
        "  \"\"\" format the dates shown on the x-axis of given axes, ax  \"\"\"\n",
        "  locator = mdates.AutoDateLocator(minticks=10, maxticks=20)\n",
        "  formatter = mdates.ConciseDateFormatter(locator)\n",
        "  ax.xaxis.set_major_locator(locator)\n",
        "  ax.xaxis.set_major_formatter(formatter)\n",
        "\n",
        "fig, ax = plt.subplots()\n",
        "format_date_axis(ax)\n",
        "ax.plot(dates, cases, label='Daily Cases')  # Plot some data on the axes.\n",
        "ax.set_xlabel('Date')  # Add an x-label to the axes.\n",
        "ax.set_ylabel('confirmed casess')  # Add a y-label to the axes.\n",
        "ax.set_title(\"Covid-19 case counts for BC\")  # Add a title to the axes.\n",
        "ax.legend();"
      ],
      "metadata": {
        "pycharm": {
          "name": "#%%\n"
        },
        "id": "FgwPH8mTBH3v",
        "outputId": "2d4346f7-fade-4410-9b7d-9751d8f9fba5",
        "colab": {
          "base_uri": "https://localhost:8080/",
          "height": 295
        }
      }
    },
    {
      "cell_type": "markdown",
      "source": [
        "## Exercise 2\n",
        "\n",
        "Repeat the analysis above, but this time only for Vancouver Coastal Health Region.\n",
        "\n",
        " * Try to modify as little code as you can (should be just a few characters), and re-run the analysis\n",
        " * You can get the location code for each health region here:  https://opencovid.ca/api/#health-region-codes\n",
        " * Can you generalize the code in the 2nd code cell to make it easier to repeat the analysis for different locations?  What about for different dates?\n",
        "\n",
        "## Exercise 3\n",
        "\n",
        "Notice that BC does not report case counts on weekends so the data plot looks erratic.\n",
        "\n",
        " * One way to fix that is to plot a \"7-day rolling average\" instead.\n",
        "Each day, we take the average of the previous 7 days cases.\n",
        " * Add new code cell below, compute the 7-day rolling average for each day from the cases list.\n",
        " * Create a plot to display the rolling average data and compare your plost with the one produced above.\n",
        "\n",
        " Hints: you are free to do this however you like, but a quite elegant solution uses list comprehension, range, and slices\n"
      ],
      "metadata": {
        "collapsed": false,
        "id": "qqeTORnvBH3v"
      }
    },
    {
      "cell_type": "code",
      "source": [
        "#Excercise 2\n",
        "\n",
        "location = input('Please enter location code for analysis.')\n",
        "date = input('Please enter the date for analysis in form dd-mm-yyyy, including hyphens.')\n",
        "query = 'https://api.opencovid.ca/timeseries?stat=cases&loc=' + location + '&after=' + date\n",
        "\n",
        "response = requests.request(\"GET\", query, headers={}, data={})\n",
        "print(response.text)\n",
        "\n",
        "result = json.loads(response.text)\n",
        "\n",
        "date_strings = [daily['date_report'] for daily in result['cases']]\n",
        "dates = [datetime.datetime.strptime(date, '%d-%m-%Y').date() for date in date_strings]\n",
        "cases = [daily['cases'] for daily in result['cases']]\n",
        "print(dates)\n",
        "print(cases)\n",
        "print(date_strings)\n",
        "\n",
        "def format_date_axis(ax):\n",
        "  \"\"\" format the dates shown on the x-axis of given axes, ax  \"\"\"\n",
        "  locator = mdates.AutoDateLocator(minticks=10, maxticks=20)\n",
        "  formatter = mdates.ConciseDateFormatter(locator)\n",
        "  ax.xaxis.set_major_locator(locator)\n",
        "  ax.xaxis.set_major_formatter(formatter)\n",
        "\n",
        "fig, ax = plt.subplots()\n",
        "format_date_axis(ax)\n",
        "ax.plot(dates, cases, label='Daily Cases')  # Plot some data on the axes.\n",
        "ax.set_xlabel('Date')  # Add an x-label to the axes.\n",
        "ax.set_ylabel('confirmed casess')  # Add a y-label to the axes.\n",
        "ax.set_title(\"Covid-19 case counts for BC\")  # Add a title to the axes.\n",
        "ax.legend();\n"
      ],
      "metadata": {
        "id": "dAp17Z0kA0eV",
        "outputId": "8a4fc8e0-8d05-4a0e-9dec-8a6199424dba",
        "colab": {
          "base_uri": "https://localhost:8080/",
          "height": 437
        }
      },
      "execution_count": 7,
      "outputs": [
        {
          "output_type": "stream",
          "name": "stdout",
          "text": [
            "Please enter location code for analysis.595\n",
            "Please enter the date for analysis in form dd-mm-yyyy, including hyphens.01-12-2021\n",
            "{\"cases\":[{\"cases\":72,\"cumulative_cases\":45049,\"date_report\":\"01-12-2021\",\"health_region\":\"Vancouver Coastal\",\"province\":\"BC\"},{\"cases\":48,\"cumulative_cases\":45097,\"date_report\":\"02-12-2021\",\"health_region\":\"Vancouver Coastal\",\"province\":\"BC\"},{\"cases\":45,\"cumulative_cases\":45142,\"date_report\":\"03-12-2021\",\"health_region\":\"Vancouver Coastal\",\"province\":\"BC\"},{\"cases\":0,\"cumulative_cases\":45142,\"date_report\":\"04-12-2021\",\"health_region\":\"Vancouver Coastal\",\"province\":\"BC\"},{\"cases\":0,\"cumulative_cases\":45142,\"date_report\":\"05-12-2021\",\"health_region\":\"Vancouver Coastal\",\"province\":\"BC\"},{\"cases\":138,\"cumulative_cases\":45280,\"date_report\":\"06-12-2021\",\"health_region\":\"Vancouver Coastal\",\"province\":\"BC\"},{\"cases\":53,\"cumulative_cases\":45333,\"date_report\":\"07-12-2021\",\"health_region\":\"Vancouver Coastal\",\"province\":\"BC\"},{\"cases\":64,\"cumulative_cases\":45397,\"date_report\":\"08-12-2021\",\"health_region\":\"Vancouver Coastal\",\"province\":\"BC\"},{\"cases\":61,\"cumulative_cases\":45458,\"date_report\":\"09-12-2021\",\"health_region\":\"Vancouver Coastal\",\"province\":\"BC\"},{\"cases\":90,\"cumulative_cases\":45548,\"date_report\":\"10-12-2021\",\"health_region\":\"Vancouver Coastal\",\"province\":\"BC\"},{\"cases\":0,\"cumulative_cases\":45548,\"date_report\":\"11-12-2021\",\"health_region\":\"Vancouver Coastal\",\"province\":\"BC\"},{\"cases\":0,\"cumulative_cases\":45548,\"date_report\":\"12-12-2021\",\"health_region\":\"Vancouver Coastal\",\"province\":\"BC\"},{\"cases\":202,\"cumulative_cases\":45750,\"date_report\":\"13-12-2021\",\"health_region\":\"Vancouver Coastal\",\"province\":\"BC\"},{\"cases\":106,\"cumulative_cases\":45856,\"date_report\":\"14-12-2021\",\"health_region\":\"Vancouver Coastal\",\"province\":\"BC\"},{\"cases\":180,\"cumulative_cases\":46036,\"date_report\":\"15-12-2021\",\"health_region\":\"Vancouver Coastal\",\"province\":\"BC\"},{\"cases\":240,\"cumulative_cases\":46276,\"date_report\":\"16-12-2021\",\"health_region\":\"Vancouver Coastal\",\"province\":\"BC\"},{\"cases\":286,\"cumulative_cases\":46562,\"date_report\":\"17-12-2021\",\"health_region\":\"Vancouver Coastal\",\"province\":\"BC\"},{\"cases\":0,\"cumulative_cases\":46562,\"date_report\":\"18-12-2021\",\"health_region\":\"Vancouver Coastal\",\"province\":\"BC\"},{\"cases\":0,\"cumulative_cases\":46562,\"date_report\":\"19-12-2021\",\"health_region\":\"Vancouver Coastal\",\"province\":\"BC\"},{\"cases\":909,\"cumulative_cases\":47471,\"date_report\":\"20-12-2021\",\"health_region\":\"Vancouver Coastal\",\"province\":\"BC\"},{\"cases\":525,\"cumulative_cases\":47996,\"date_report\":\"21-12-2021\",\"health_region\":\"Vancouver Coastal\",\"province\":\"BC\"},{\"cases\":709,\"cumulative_cases\":48705,\"date_report\":\"22-12-2021\",\"health_region\":\"Vancouver Coastal\",\"province\":\"BC\"},{\"cases\":880,\"cumulative_cases\":49585,\"date_report\":\"23-12-2021\",\"health_region\":\"Vancouver Coastal\",\"province\":\"BC\"},{\"cases\":967,\"cumulative_cases\":50552,\"date_report\":\"24-12-2021\",\"health_region\":\"Vancouver Coastal\",\"province\":\"BC\"},{\"cases\":674,\"cumulative_cases\":51226,\"date_report\":\"25-12-2021\",\"health_region\":\"Vancouver Coastal\",\"province\":\"BC\"},{\"cases\":451,\"cumulative_cases\":51677,\"date_report\":\"26-12-2021\",\"health_region\":\"Vancouver Coastal\",\"province\":\"BC\"},{\"cases\":352,\"cumulative_cases\":52029,\"date_report\":\"27-12-2021\",\"health_region\":\"Vancouver Coastal\",\"province\":\"BC\"},{\"cases\":402,\"cumulative_cases\":52431,\"date_report\":\"28-12-2021\",\"health_region\":\"Vancouver Coastal\",\"province\":\"BC\"},{\"cases\":571,\"cumulative_cases\":53002,\"date_report\":\"29-12-2021\",\"health_region\":\"Vancouver Coastal\",\"province\":\"BC\"},{\"cases\":977,\"cumulative_cases\":53979,\"date_report\":\"30-12-2021\",\"health_region\":\"Vancouver Coastal\",\"province\":\"BC\"},{\"cases\":965,\"cumulative_cases\":54944,\"date_report\":\"31-12-2021\",\"health_region\":\"Vancouver Coastal\",\"province\":\"BC\"},{\"cases\":0,\"cumulative_cases\":54944,\"date_report\":\"01-01-2022\",\"health_region\":\"Vancouver Coastal\",\"province\":\"BC\"},{\"cases\":0,\"cumulative_cases\":54944,\"date_report\":\"02-01-2022\",\"health_region\":\"Vancouver Coastal\",\"province\":\"BC\"},{\"cases\":1797,\"cumulative_cases\":56741,\"date_report\":\"03-01-2022\",\"health_region\":\"Vancouver Coastal\",\"province\":\"BC\"},{\"cases\":325,\"cumulative_cases\":57066,\"date_report\":\"04-01-2022\",\"health_region\":\"Vancouver Coastal\",\"province\":\"BC\"},{\"cases\":840,\"cumulative_cases\":57906,\"date_report\":\"05-01-2022\",\"health_region\":\"Vancouver Coastal\",\"province\":\"BC\"},{\"cases\":662,\"cumulative_cases\":58568,\"date_report\":\"06-01-2022\",\"health_region\":\"Vancouver Coastal\",\"province\":\"BC\"},{\"cases\":483,\"cumulative_cases\":59051,\"date_report\":\"07-01-2022\",\"health_region\":\"Vancouver Coastal\",\"province\":\"BC\"},{\"cases\":0,\"cumulative_cases\":59051,\"date_report\":\"08-01-2022\",\"health_region\":\"Vancouver Coastal\",\"province\":\"BC\"},{\"cases\":0,\"cumulative_cases\":59051,\"date_report\":\"09-01-2022\",\"health_region\":\"Vancouver Coastal\",\"province\":\"BC\"},{\"cases\":1067,\"cumulative_cases\":60118,\"date_report\":\"10-01-2022\",\"health_region\":\"Vancouver Coastal\",\"province\":\"BC\"},{\"cases\":383,\"cumulative_cases\":60501,\"date_report\":\"11-01-2022\",\"health_region\":\"Vancouver Coastal\",\"province\":\"BC\"},{\"cases\":522,\"cumulative_cases\":61023,\"date_report\":\"12-01-2022\",\"health_region\":\"Vancouver Coastal\",\"province\":\"BC\"},{\"cases\":485,\"cumulative_cases\":61508,\"date_report\":\"13-01-2022\",\"health_region\":\"Vancouver Coastal\",\"province\":\"BC\"},{\"cases\":523,\"cumulative_cases\":62031,\"date_report\":\"14-01-2022\",\"health_region\":\"Vancouver Coastal\",\"province\":\"BC\"},{\"cases\":0,\"cumulative_cases\":62031,\"date_report\":\"15-01-2022\",\"health_region\":\"Vancouver Coastal\",\"province\":\"BC\"},{\"cases\":0,\"cumulative_cases\":62031,\"date_report\":\"16-01-2022\",\"health_region\":\"Vancouver Coastal\",\"province\":\"BC\"},{\"cases\":1155,\"cumulative_cases\":63186,\"date_report\":\"17-01-2022\",\"health_region\":\"Vancouver Coastal\",\"province\":\"BC\"},{\"cases\":482,\"cumulative_cases\":63668,\"date_report\":\"18-01-2022\",\"health_region\":\"Vancouver Coastal\",\"province\":\"BC\"},{\"cases\":487,\"cumulative_cases\":64155,\"date_report\":\"19-01-2022\",\"health_region\":\"Vancouver Coastal\",\"province\":\"BC\"},{\"cases\":454,\"cumulative_cases\":64609,\"date_report\":\"20-01-2022\",\"health_region\":\"Vancouver Coastal\",\"province\":\"BC\"},{\"cases\":499,\"cumulative_cases\":65108,\"date_report\":\"21-01-2022\",\"health_region\":\"Vancouver Coastal\",\"province\":\"BC\"},{\"cases\":0,\"cumulative_cases\":65108,\"date_report\":\"22-01-2022\",\"health_region\":\"Vancouver Coastal\",\"province\":\"BC\"},{\"cases\":0,\"cumulative_cases\":65108,\"date_report\":\"23-01-2022\",\"health_region\":\"Vancouver Coastal\",\"province\":\"BC\"}]}\n",
            "\n",
            "[datetime.date(2021, 12, 1), datetime.date(2021, 12, 2), datetime.date(2021, 12, 3), datetime.date(2021, 12, 4), datetime.date(2021, 12, 5), datetime.date(2021, 12, 6), datetime.date(2021, 12, 7), datetime.date(2021, 12, 8), datetime.date(2021, 12, 9), datetime.date(2021, 12, 10), datetime.date(2021, 12, 11), datetime.date(2021, 12, 12), datetime.date(2021, 12, 13), datetime.date(2021, 12, 14), datetime.date(2021, 12, 15), datetime.date(2021, 12, 16), datetime.date(2021, 12, 17), datetime.date(2021, 12, 18), datetime.date(2021, 12, 19), datetime.date(2021, 12, 20), datetime.date(2021, 12, 21), datetime.date(2021, 12, 22), datetime.date(2021, 12, 23), datetime.date(2021, 12, 24), datetime.date(2021, 12, 25), datetime.date(2021, 12, 26), datetime.date(2021, 12, 27), datetime.date(2021, 12, 28), datetime.date(2021, 12, 29), datetime.date(2021, 12, 30), datetime.date(2021, 12, 31), datetime.date(2022, 1, 1), datetime.date(2022, 1, 2), datetime.date(2022, 1, 3), datetime.date(2022, 1, 4), datetime.date(2022, 1, 5), datetime.date(2022, 1, 6), datetime.date(2022, 1, 7), datetime.date(2022, 1, 8), datetime.date(2022, 1, 9), datetime.date(2022, 1, 10), datetime.date(2022, 1, 11), datetime.date(2022, 1, 12), datetime.date(2022, 1, 13), datetime.date(2022, 1, 14), datetime.date(2022, 1, 15), datetime.date(2022, 1, 16), datetime.date(2022, 1, 17), datetime.date(2022, 1, 18), datetime.date(2022, 1, 19), datetime.date(2022, 1, 20), datetime.date(2022, 1, 21), datetime.date(2022, 1, 22), datetime.date(2022, 1, 23)]\n",
            "[72, 48, 45, 0, 0, 138, 53, 64, 61, 90, 0, 0, 202, 106, 180, 240, 286, 0, 0, 909, 525, 709, 880, 967, 674, 451, 352, 402, 571, 977, 965, 0, 0, 1797, 325, 840, 662, 483, 0, 0, 1067, 383, 522, 485, 523, 0, 0, 1155, 482, 487, 454, 499, 0, 0]\n",
            "['01-12-2021', '02-12-2021', '03-12-2021', '04-12-2021', '05-12-2021', '06-12-2021', '07-12-2021', '08-12-2021', '09-12-2021', '10-12-2021', '11-12-2021', '12-12-2021', '13-12-2021', '14-12-2021', '15-12-2021', '16-12-2021', '17-12-2021', '18-12-2021', '19-12-2021', '20-12-2021', '21-12-2021', '22-12-2021', '23-12-2021', '24-12-2021', '25-12-2021', '26-12-2021', '27-12-2021', '28-12-2021', '29-12-2021', '30-12-2021', '31-12-2021', '01-01-2022', '02-01-2022', '03-01-2022', '04-01-2022', '05-01-2022', '06-01-2022', '07-01-2022', '08-01-2022', '09-01-2022', '10-01-2022', '11-01-2022', '12-01-2022', '13-01-2022', '14-01-2022', '15-01-2022', '16-01-2022', '17-01-2022', '18-01-2022', '19-01-2022', '20-01-2022', '21-01-2022', '22-01-2022', '23-01-2022']\n"
          ]
        },
        {
          "output_type": "display_data",
          "data": {
            "image/png": "[encoded data removed]",
            "text/plain": [
              "<Figure size 432x288 with 1 Axes>"
            ]
          },
          "metadata": {
            "needs_background": "light"
          }
        }
      ]
    },
    {
      "cell_type": "code",
      "source": [
        "#Excercise 3\n",
        "\n",
        "\n",
        "rolcases = []\n",
        "idx = 1\n",
        "location = input('Please enter location code for analysis.')\n",
        "date = input('Please enter the date for analysis in form dd-mm-yyyy, including hyphens.')\n",
        "query = 'https://api.opencovid.ca/timeseries?stat=cases&loc=' + location + '&after=' + date\n",
        "\n",
        "response = requests.request(\"GET\", query, headers={}, data={})\n",
        "result = json.loads(response.text)\n",
        "\n",
        "date_strings = [daily['date_report'] for daily in result['cases']]\n",
        "dates = [datetime.datetime.strptime(date, '%d-%m-%Y').date() for date in date_strings]\n",
        "cases = [daily['cases'] for daily in result['cases']]\n",
        "\n",
        "for i in cases:\n",
        "    x = idx - 7\n",
        "    if (x < 0):\n",
        "      x = 0\n",
        "    y = cases[x:idx]\n",
        "    rolcases.append(sum(y)/len(y))\n",
        "    idx += 1\n",
        "\n",
        "def format_date_axis(ax):\n",
        "  \"\"\" format the dates shown on the x-axis of given axes, ax  \"\"\"\n",
        "  locator = mdates.AutoDateLocator(minticks=10, maxticks=20)\n",
        "  formatter = mdates.ConciseDateFormatter(locator)\n",
        "  ax.xaxis.set_major_locator(locator)\n",
        "  ax.xaxis.set_major_formatter(formatter)\n",
        "\n",
        "fig, ax = plt.subplots()\n",
        "format_date_axis(ax)\n",
        "ax.plot(dates, rolcases, label='Daily Cases')  # Plot some data on the axes.\n",
        "ax.set_xlabel('Date')  # Add an x-label to the axes.\n",
        "ax.set_ylabel('confirmed casess')  # Add a y-label to the axes.\n",
        "ax.set_title(\"Covid-19 case counts for BC\")  # Add a title to the axes.\n",
        "ax.legend();\n",
        "\n",
        "#The plot produced with rolling case averages of the last seven days, is much more and consistent than the one produced above.\n",
        "\n",
        "\n",
        "\n",
        "    \n",
        "\n",
        "\n",
        "\n",
        "\n",
        "\n",
        "\n",
        "\n",
        "    \n",
        "\n",
        "\n"
      ],
      "metadata": {
        "id": "vfx4SBS1LYmE",
        "outputId": "adb72a23-b0ef-4312-919e-b29d87b03df5",
        "colab": {
          "base_uri": "https://localhost:8080/",
          "height": 536
        }
      },
      "execution_count": 28,
      "outputs": [
        {
          "output_type": "error",
          "ename": "KeyboardInterrupt",
          "evalue": "ignored",
          "traceback": [
            "\u001b[0;31m---------------------------------------------------------------------------\u001b[0m",
            "\u001b[0;31mKeyboardInterrupt\u001b[0m                         Traceback (most recent call last)",
            "\u001b[0;32m/usr/local/lib/python3.7/dist-packages/ipykernel/kernelbase.py\u001b[0m in \u001b[0;36m_input_request\u001b[0;34m(self, prompt, ident, parent, password)\u001b[0m\n\u001b[1;32m    728\u001b[0m             \u001b[0;32mtry\u001b[0m\u001b[0;34m:\u001b[0m\u001b[0;34m\u001b[0m\u001b[0;34m\u001b[0m\u001b[0m\n\u001b[0;32m--> 729\u001b[0;31m                 \u001b[0mident\u001b[0m\u001b[0;34m,\u001b[0m \u001b[0mreply\u001b[0m \u001b[0;34m=\u001b[0m \u001b[0mself\u001b[0m\u001b[0;34m.\u001b[0m\u001b[0msession\u001b[0m\u001b[0;34m.\u001b[0m\u001b[0mrecv\u001b[0m\u001b[0;34m(\u001b[0m\u001b[0mself\u001b[0m\u001b[0;34m.\u001b[0m\u001b[0mstdin_socket\u001b[0m\u001b[0;34m,\u001b[0m \u001b[0;36m0\u001b[0m\u001b[0;34m)\u001b[0m\u001b[0;34m\u001b[0m\u001b[0;34m\u001b[0m\u001b[0m\n\u001b[0m\u001b[1;32m    730\u001b[0m             \u001b[0;32mexcept\u001b[0m \u001b[0mException\u001b[0m\u001b[0;34m:\u001b[0m\u001b[0;34m\u001b[0m\u001b[0;34m\u001b[0m\u001b[0m\n",
            "\u001b[0;32m/usr/local/lib/python3.7/dist-packages/jupyter_client/session.py\u001b[0m in \u001b[0;36mrecv\u001b[0;34m(self, socket, mode, content, copy)\u001b[0m\n\u001b[1;32m    802\u001b[0m         \u001b[0;32mtry\u001b[0m\u001b[0;34m:\u001b[0m\u001b[0;34m\u001b[0m\u001b[0;34m\u001b[0m\u001b[0m\n\u001b[0;32m--> 803\u001b[0;31m             \u001b[0mmsg_list\u001b[0m \u001b[0;34m=\u001b[0m \u001b[0msocket\u001b[0m\u001b[0;34m.\u001b[0m\u001b[0mrecv_multipart\u001b[0m\u001b[0;34m(\u001b[0m\u001b[0mmode\u001b[0m\u001b[0;34m,\u001b[0m \u001b[0mcopy\u001b[0m\u001b[0;34m=\u001b[0m\u001b[0mcopy\u001b[0m\u001b[0;34m)\u001b[0m\u001b[0;34m\u001b[0m\u001b[0;34m\u001b[0m\u001b[0m\n\u001b[0m\u001b[1;32m    804\u001b[0m         \u001b[0;32mexcept\u001b[0m \u001b[0mzmq\u001b[0m\u001b[0;34m.\u001b[0m\u001b[0mZMQError\u001b[0m \u001b[0;32mas\u001b[0m \u001b[0me\u001b[0m\u001b[0;34m:\u001b[0m\u001b[0;34m\u001b[0m\u001b[0;34m\u001b[0m\u001b[0m\n",
            "\u001b[0;32m/usr/local/lib/python3.7/dist-packages/zmq/sugar/socket.py\u001b[0m in \u001b[0;36mrecv_multipart\u001b[0;34m(self, flags, copy, track)\u001b[0m\n\u001b[1;32m    624\u001b[0m         \"\"\"\n\u001b[0;32m--> 625\u001b[0;31m         \u001b[0mparts\u001b[0m \u001b[0;34m=\u001b[0m \u001b[0;34m[\u001b[0m\u001b[0mself\u001b[0m\u001b[0;34m.\u001b[0m\u001b[0mrecv\u001b[0m\u001b[0;34m(\u001b[0m\u001b[0mflags\u001b[0m\u001b[0;34m,\u001b[0m \u001b[0mcopy\u001b[0m\u001b[0;34m=\u001b[0m\u001b[0mcopy\u001b[0m\u001b[0;34m,\u001b[0m \u001b[0mtrack\u001b[0m\u001b[0;34m=\u001b[0m\u001b[0mtrack\u001b[0m\u001b[0;34m)\u001b[0m\u001b[0;34m]\u001b[0m\u001b[0;34m\u001b[0m\u001b[0;34m\u001b[0m\u001b[0m\n\u001b[0m\u001b[1;32m    626\u001b[0m         \u001b[0;31m# have first part already, only loop while more to receive\u001b[0m\u001b[0;34m\u001b[0m\u001b[0;34m\u001b[0m\u001b[0;34m\u001b[0m\u001b[0m\n",
            "\u001b[0;32mzmq/backend/cython/socket.pyx\u001b[0m in \u001b[0;36mzmq.backend.cython.socket.Socket.recv\u001b[0;34m()\u001b[0m\n",
            "\u001b[0;32mzmq/backend/cython/socket.pyx\u001b[0m in \u001b[0;36mzmq.backend.cython.socket.Socket.recv\u001b[0;34m()\u001b[0m\n",
            "\u001b[0;32mzmq/backend/cython/socket.pyx\u001b[0m in \u001b[0;36mzmq.backend.cython.socket._recv_copy\u001b[0;34m()\u001b[0m\n",
            "\u001b[0;32m/usr/local/lib/python3.7/dist-packages/zmq/backend/cython/checkrc.pxd\u001b[0m in \u001b[0;36mzmq.backend.cython.checkrc._check_rc\u001b[0;34m()\u001b[0m\n",
            "\u001b[0;31mKeyboardInterrupt\u001b[0m: ",
            "\nDuring handling of the above exception, another exception occurred:\n",
            "\u001b[0;31mKeyboardInterrupt\u001b[0m                         Traceback (most recent call last)",
            "\u001b[0;32m<ipython-input-28-e14e086bfe48>\u001b[0m in \u001b[0;36m<module>\u001b[0;34m()\u001b[0m\n\u001b[1;32m      4\u001b[0m \u001b[0mrolcases\u001b[0m \u001b[0;34m=\u001b[0m \u001b[0;34m[\u001b[0m\u001b[0;34m]\u001b[0m\u001b[0;34m\u001b[0m\u001b[0;34m\u001b[0m\u001b[0m\n\u001b[1;32m      5\u001b[0m \u001b[0midx\u001b[0m \u001b[0;34m=\u001b[0m \u001b[0;36m1\u001b[0m\u001b[0;34m\u001b[0m\u001b[0;34m\u001b[0m\u001b[0m\n\u001b[0;32m----> 6\u001b[0;31m \u001b[0mlocation\u001b[0m \u001b[0;34m=\u001b[0m \u001b[0minput\u001b[0m\u001b[0;34m(\u001b[0m\u001b[0;34m'Please enter location code for analysis.'\u001b[0m\u001b[0;34m)\u001b[0m\u001b[0;34m\u001b[0m\u001b[0;34m\u001b[0m\u001b[0m\n\u001b[0m\u001b[1;32m      7\u001b[0m \u001b[0mdate\u001b[0m \u001b[0;34m=\u001b[0m \u001b[0minput\u001b[0m\u001b[0;34m(\u001b[0m\u001b[0;34m'Please enter the date for analysis in form dd-mm-yyyy, including hyphens.'\u001b[0m\u001b[0;34m)\u001b[0m\u001b[0;34m\u001b[0m\u001b[0;34m\u001b[0m\u001b[0m\n\u001b[1;32m      8\u001b[0m \u001b[0mquery\u001b[0m \u001b[0;34m=\u001b[0m \u001b[0;34m'https://api.opencovid.ca/timeseries?stat=cases&loc='\u001b[0m \u001b[0;34m+\u001b[0m \u001b[0mlocation\u001b[0m \u001b[0;34m+\u001b[0m \u001b[0;34m'&after='\u001b[0m \u001b[0;34m+\u001b[0m \u001b[0mdate\u001b[0m\u001b[0;34m\u001b[0m\u001b[0;34m\u001b[0m\u001b[0m\n",
            "\u001b[0;32m/usr/local/lib/python3.7/dist-packages/ipykernel/kernelbase.py\u001b[0m in \u001b[0;36mraw_input\u001b[0;34m(self, prompt)\u001b[0m\n\u001b[1;32m    702\u001b[0m             \u001b[0mself\u001b[0m\u001b[0;34m.\u001b[0m\u001b[0m_parent_ident\u001b[0m\u001b[0;34m,\u001b[0m\u001b[0;34m\u001b[0m\u001b[0;34m\u001b[0m\u001b[0m\n\u001b[1;32m    703\u001b[0m             \u001b[0mself\u001b[0m\u001b[0;34m.\u001b[0m\u001b[0m_parent_header\u001b[0m\u001b[0;34m,\u001b[0m\u001b[0;34m\u001b[0m\u001b[0;34m\u001b[0m\u001b[0m\n\u001b[0;32m--> 704\u001b[0;31m             \u001b[0mpassword\u001b[0m\u001b[0;34m=\u001b[0m\u001b[0;32mFalse\u001b[0m\u001b[0;34m,\u001b[0m\u001b[0;34m\u001b[0m\u001b[0;34m\u001b[0m\u001b[0m\n\u001b[0m\u001b[1;32m    705\u001b[0m         )\n\u001b[1;32m    706\u001b[0m \u001b[0;34m\u001b[0m\u001b[0m\n",
            "\u001b[0;32m/usr/local/lib/python3.7/dist-packages/ipykernel/kernelbase.py\u001b[0m in \u001b[0;36m_input_request\u001b[0;34m(self, prompt, ident, parent, password)\u001b[0m\n\u001b[1;32m    732\u001b[0m             \u001b[0;32mexcept\u001b[0m \u001b[0mKeyboardInterrupt\u001b[0m\u001b[0;34m:\u001b[0m\u001b[0;34m\u001b[0m\u001b[0;34m\u001b[0m\u001b[0m\n\u001b[1;32m    733\u001b[0m                 \u001b[0;31m# re-raise KeyboardInterrupt, to truncate traceback\u001b[0m\u001b[0;34m\u001b[0m\u001b[0;34m\u001b[0m\u001b[0;34m\u001b[0m\u001b[0m\n\u001b[0;32m--> 734\u001b[0;31m                 \u001b[0;32mraise\u001b[0m \u001b[0mKeyboardInterrupt\u001b[0m\u001b[0;34m\u001b[0m\u001b[0;34m\u001b[0m\u001b[0m\n\u001b[0m\u001b[1;32m    735\u001b[0m             \u001b[0;32melse\u001b[0m\u001b[0;34m:\u001b[0m\u001b[0;34m\u001b[0m\u001b[0;34m\u001b[0m\u001b[0m\n\u001b[1;32m    736\u001b[0m                 \u001b[0;32mbreak\u001b[0m\u001b[0;34m\u001b[0m\u001b[0;34m\u001b[0m\u001b[0m\n",
            "\u001b[0;31mKeyboardInterrupt\u001b[0m: "
          ]
        }
      ]
    },
    {
      "cell_type": "code",
      "source": [
        ""
      ],
      "metadata": {
        "id": "0qepnEMIHxa3"
      },
      "execution_count": null,
      "outputs": []
    }
  ],
  "metadata": {
    "kernelspec": {
      "display_name": "Python 3",
      "language": "python",
      "name": "python3"
    },
    "language_info": {
      "codemirror_mode": {
        "name": "ipython",
        "version": 2
      },
      "file_extension": ".py",
      "mimetype": "text/x-python",
      "name": "python",
      "nbconvert_exporter": "python",
      "pygments_lexer": "ipython2",
      "version": "2.7.6"
    },
    "colab": {
      "name": "lab1.ipynb",
      "provenance": [],
      "include_colab_link": true
    }
  },
  "nbformat": 4,
  "nbformat_minor": 0
}